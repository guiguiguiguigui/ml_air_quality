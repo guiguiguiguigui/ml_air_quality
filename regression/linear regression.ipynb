{
 "cells": [
  {
   "cell_type": "code",
   "execution_count": 47,
   "metadata": {
    "collapsed": true
   },
   "outputs": [],
   "source": [
    "import pandas as pd\n",
    "from sklearn.cluster import KMeans,SpectralClustering,DBSCAN\n",
    "import numpy as np\n",
    "import matplotlib.pyplot as plt\n",
    "from collections import Counter\n",
    "import calmap\n",
    "from sklearn import metrics\n",
    "from sklearn.preprocessing import scale\n",
    "from sklearn import linear_model"
   ]
  },
  {
   "cell_type": "code",
   "execution_count": 8,
   "metadata": {
    "collapsed": true
   },
   "outputs": [],
   "source": [
    "from sklearn.model_selection import cross_val_score,train_test_split"
   ]
  },
  {
   "cell_type": "code",
   "execution_count": 4,
   "metadata": {
    "collapsed": true
   },
   "outputs": [],
   "source": [
    "def make_dataframe(f):\n",
    "    df = pd.read_csv(f)\n",
    "    print(\"imported file. converting datetime\")\n",
    "    if 'time' in df.columns.values:\n",
    "        df['dt'] = pd.to_datetime(df['date'] + ' ' + df['time'], dayfirst=True)\n",
    "    else:\n",
    "        df['dt'] = pd.to_datetime(df['d'] + ' ' + df['t'],dayfirst=True)\n",
    "    df['dt'] = df['dt'].dt.round('min')\n",
    "    return df"
   ]
  },
  {
   "cell_type": "code",
   "execution_count": 3,
   "metadata": {
    "collapsed": true
   },
   "outputs": [],
   "source": [
    "f = \"data/alliance_sub.csv\""
   ]
  },
  {
   "cell_type": "code",
   "execution_count": 2,
   "metadata": {},
   "outputs": [
    {
     "ename": "NameError",
     "evalue": "name 'make_dataframe' is not defined",
     "output_type": "error",
     "traceback": [
      "\u001b[0;31m---------------------------------------------------------------------------\u001b[0m",
      "\u001b[0;31mNameError\u001b[0m                                 Traceback (most recent call last)",
      "\u001b[0;32m<ipython-input-2-795b15a6e3b8>\u001b[0m in \u001b[0;36m<module>\u001b[0;34m()\u001b[0m\n\u001b[0;32m----> 1\u001b[0;31m \u001b[0mdf\u001b[0m \u001b[0;34m=\u001b[0m \u001b[0mmake_dataframe\u001b[0m\u001b[0;34m(\u001b[0m\u001b[0mf\u001b[0m\u001b[0;34m)\u001b[0m\u001b[0;34m\u001b[0m\u001b[0m\n\u001b[0m",
      "\u001b[0;31mNameError\u001b[0m: name 'make_dataframe' is not defined"
     ]
    }
   ],
   "source": [
    "df = make_dataframe(f)"
   ]
  },
  {
   "cell_type": "code",
   "execution_count": 9,
   "metadata": {
    "scrolled": true
   },
   "outputs": [
    {
     "data": {
      "text/plain": [
       "array(['Unnamed: 0', 'd', 't', 'date', 'o3', 'no2', 'no', 'so2', 'temp',\n",
       "       'humidity', 'pm1', 'pm25', 'pm10', 'bin0', 'bin1', 'bin2', 'bin3',\n",
       "       'bin4', 'bin5', 'bin6', 'bin7', 'bin8', 'bin9', 'bin10', 'bin11',\n",
       "       'bin12', 'bin13', 'bin14', 'bin15', 'd0', 'd1', 'd2', 'd3', 'd4',\n",
       "       'd5', 'd6', 'd7', 'd8', 'd9', 'd10', 'd11', 'd12', 'd13', 'd14',\n",
       "       'd15', 'dt'], dtype=object)"
      ]
     },
     "execution_count": 9,
     "metadata": {},
     "output_type": "execute_result"
    }
   ],
   "source": [
    "df.columns.values"
   ]
  },
  {
   "cell_type": "code",
   "execution_count": 9,
   "metadata": {
    "collapsed": true
   },
   "outputs": [],
   "source": [
    "df = df.loc[df['no2']>0]"
   ]
  },
  {
   "cell_type": "code",
   "execution_count": 10,
   "metadata": {
    "collapsed": true
   },
   "outputs": [],
   "source": [
    "features = ['temp', 'humidity', 'd0', 'd1', 'd2', 'd3', 'd4','d5', 'd6', 'd7',\\\n",
    "            'd8', 'd9', 'd10', 'd11', 'd12', 'd13', 'd14', 'd15']"
   ]
  },
  {
   "cell_type": "code",
   "execution_count": 11,
   "metadata": {
    "collapsed": true
   },
   "outputs": [],
   "source": [
    "X = df[features].as_matrix()"
   ]
  },
  {
   "cell_type": "code",
   "execution_count": 59,
   "metadata": {
    "collapsed": true
   },
   "outputs": [],
   "source": [
    "X_sc = scale(X)"
   ]
  },
  {
   "cell_type": "code",
   "execution_count": 60,
   "metadata": {},
   "outputs": [
    {
     "data": {
      "text/plain": [
       "array([[   16.64     ,    85.37     ,  2444.13604  , ...,     0.       ,\n",
       "            0.       ,     0.       ],\n",
       "       [   16.64     ,    85.43     ,  2313.083169 , ...,     0.       ,\n",
       "            0.       ,     0.       ],\n",
       "       [   16.64     ,    85.09     ,  2424.47811  , ...,     0.       ,\n",
       "            0.       ,     0.       ],\n",
       "       ..., \n",
       "       [   15.96     ,    60.13     ,   576.6326315, ...,     0.       ,\n",
       "            0.       ,     0.       ],\n",
       "       [   15.95     ,    60.22     ,   727.3434329, ...,     0.       ,\n",
       "            0.       ,     0.       ],\n",
       "       [   15.96     ,    60.37     ,   583.185275 , ...,     0.       ,\n",
       "            0.       ,     0.       ]])"
      ]
     },
     "execution_count": 60,
     "metadata": {},
     "output_type": "execute_result"
    }
   ],
   "source": [
    "X"
   ]
  },
  {
   "cell_type": "code",
   "execution_count": 61,
   "metadata": {},
   "outputs": [
    {
     "data": {
      "text/plain": [
       "array([[-0.39551909,  1.58409614,  0.30076284, ..., -0.05691875,\n",
       "        -0.04800277, -0.03600504],\n",
       "       [-0.39551909,  1.58883005,  0.23640442, ..., -0.05691875,\n",
       "        -0.04800277, -0.03600504],\n",
       "       [-0.39551909,  1.56200456,  0.29110908, ..., -0.05691875,\n",
       "        -0.04800277, -0.03600504],\n",
       "       ..., \n",
       "       [-0.57951147, -0.40730169, -0.61634455, ..., -0.05691875,\n",
       "        -0.04800277, -0.03600504],\n",
       "       [-0.58221724, -0.40020083, -0.54233237, ..., -0.05691875,\n",
       "        -0.04800277, -0.03600504],\n",
       "       [-0.57951147, -0.38836605, -0.61312663, ..., -0.05691875,\n",
       "        -0.04800277, -0.03600504]])"
      ]
     },
     "execution_count": 61,
     "metadata": {},
     "output_type": "execute_result"
    }
   ],
   "source": [
    "X_sc"
   ]
  },
  {
   "cell_type": "code",
   "execution_count": 104,
   "metadata": {
    "collapsed": true
   },
   "outputs": [],
   "source": [
    "y_so2 = df['no2'].as_matrix()"
   ]
  },
  {
   "cell_type": "code",
   "execution_count": 105,
   "metadata": {
    "collapsed": true
   },
   "outputs": [],
   "source": [
    "X_train, X_test, y_train, y_test = train_test_split(X_sc, y_so2, test_size=0.20, random_state=42)"
   ]
  },
  {
   "cell_type": "code",
   "execution_count": 101,
   "metadata": {
    "collapsed": true
   },
   "outputs": [],
   "source": [
    "lr = linear_model.LinearRegression()\n",
    "lr.fit(X_train,y_train)\n",
    "y_ptrain = lr.predict(X_train)\n",
    "y_pred = lr.predict(X_test)\n"
   ]
  },
  {
   "cell_type": "code",
   "execution_count": 63,
   "metadata": {},
   "outputs": [
    {
     "data": {
      "text/plain": [
       "array([ 3.7639773 ,  3.74014012,  3.97152904,  4.46965496, -4.90733602,\n",
       "        3.42388109,  0.71627932, -1.62858274,  0.59548715,  0.84522513,\n",
       "       -0.08724129, -0.38627481, -0.31064626, -0.16265987,  0.06560969,\n",
       "        0.20289816, -0.30835806,  0.1086909 ])"
      ]
     },
     "execution_count": 63,
     "metadata": {},
     "output_type": "execute_result"
    }
   ],
   "source": [
    "lr.coef_"
   ]
  },
  {
   "cell_type": "code",
   "execution_count": 115,
   "metadata": {
    "collapsed": true
   },
   "outputs": [],
   "source": [
    "ridge = linear_model.Ridge(alpha = 100)\n",
    "ridge.fit(X_train,y_train)\n",
    "y_ptrain = ridge.predict(X_train)\n",
    "y_pred = ridge.predict(X_test)"
   ]
  },
  {
   "cell_type": "code",
   "execution_count": 107,
   "metadata": {},
   "outputs": [
    {
     "data": {
      "text/plain": [
       "array([ 1.09241825, -1.41241394,  0.70995357, -0.44823468,  0.66549579,\n",
       "       -0.39814528,  0.07020246, -0.27003374,  0.28893154,  0.30782827,\n",
       "        0.07315956, -0.16477679, -0.07436463, -0.08663442,  0.02520171,\n",
       "       -0.0167683 , -0.04876337,  0.01440012])"
      ]
     },
     "execution_count": 107,
     "metadata": {},
     "output_type": "execute_result"
    }
   ],
   "source": [
    "ridge.coef_"
   ]
  },
  {
   "cell_type": "code",
   "execution_count": 116,
   "metadata": {},
   "outputs": [
    {
     "name": "stdout",
     "output_type": "stream",
     "text": [
      "28.0841006694 28.1839858825 0.170286266832\n"
     ]
    }
   ],
   "source": [
    "mse_tr = metrics.mean_squared_error(y_train,y_ptrain)\n",
    "\n",
    "mse_te = metrics.mean_squared_error(y_test,y_pred)\n",
    "r2 = metrics.r2_score(y_test, y_pred)\n",
    "print mse_tr, mse_te, r2"
   ]
  },
  {
   "cell_type": "code",
   "execution_count": 55,
   "metadata": {},
   "outputs": [
    {
     "name": "stdout",
     "output_type": "stream",
     "text": [
      "[(-2.5819914297342952, -683.4708820565744), (0.12086042356925586, -104.25965307320099), (0.39090259357203982, -61.354333696517116), (0.060644583144931374, -98.795618537854494), (-0.022937406044141406, -101.7890162908417), (-0.30203663986632123, -112.6940783990178), (0.0021330337410632172, -106.75743788463599), (-0.39726289802023262, -115.30223336927685), (-0.14135985361925085, -80.858776136052143), (0.0377221598355858, -87.036551618958583)]\n"
     ]
    }
   ],
   "source": [
    "lr = linear_model.LinearRegression()\n",
    "cv1 = cross_val_score(lr, X, y_so2, scoring = \"r2\", cv=10)\n",
    "cv2 = cross_val_score(lr, X, y_so2, scoring = \"neg_mean_squared_error\", cv=10)\n",
    "print zip(cv1,cv2)\n"
   ]
  },
  {
   "cell_type": "code",
   "execution_count": 82,
   "metadata": {},
   "outputs": [
    {
     "name": "stdout",
     "output_type": "stream",
     "text": [
      "[(-1.786349172037041, -662.9116925299785), (0.37128958411597557, -185.15049399937064), (0.29668337075063544, -167.79712430543677), (0.066599976153138729, -122.38511729710835), (-0.07941521686484565, -110.07538464002837), (-0.14749781826001374, -113.70146926397869), (-0.58579452431525891, -97.756455466660526), (-0.78288482622368805, -120.98197102186992), (-0.26168724144455191, -80.78985453883331), (-0.21842873978443311, -76.620309944473661)]\n"
     ]
    }
   ],
   "source": [
    "ridge = linear_model.Ridge(alpha = 1000)\n",
    "cv1 = cross_val_score(ridge, X, y_so2, scoring = \"r2\", cv=10)\n",
    "cv2 = cross_val_score(ridge, X, y_so2, scoring = \"neg_mean_squared_error\", cv=10)\n",
    "\n",
    "print zip(cv1,cv2)\n"
   ]
  },
  {
   "cell_type": "code",
   "execution_count": 71,
   "metadata": {
    "collapsed": true
   },
   "outputs": [],
   "source": [
    "y_no = df['no2'].as_matrix()"
   ]
  },
  {
   "cell_type": "code",
   "execution_count": 73,
   "metadata": {},
   "outputs": [
    {
     "name": "stdout",
     "output_type": "stream",
     "text": [
      "[(-0.14003139523854835, -35.058931924355925), (0.14181860232014354, -33.103380863368038), (0.24761756202115437, -24.870476853084764), (0.22116967594936787, -23.709674031242479), (0.11351612662694832, -27.892138012861356), (-0.049029842323369488, -23.970306755263564), (-0.025736560049259838, -23.609575227507992), (-0.022047502439754174, -30.238700571457166), (-0.10371830086142309, -47.379996274825437), (0.076670062481685286, -18.072286619299522)]\n"
     ]
    }
   ],
   "source": [
    "cv1 = cross_val_score(lr, X, y_no, scoring = \"r2\", cv=10)\n",
    "cv2 = cross_val_score(lr, X, y_no, scoring = \"neg_mean_squared_error\", cv=10)\n",
    "\n",
    "print zip(cv1,cv2)\n"
   ]
  },
  {
   "cell_type": "code",
   "execution_count": 61,
   "metadata": {
    "collapsed": true
   },
   "outputs": [],
   "source": [
    "from sklearn.neural_network import MLPRegressor\n",
    "mlp = MLPRegressor(hidden_layer_sizes=(100,50,))"
   ]
  },
  {
   "cell_type": "code",
   "execution_count": null,
   "metadata": {
    "collapsed": true
   },
   "outputs": [],
   "source": [
    "\n",
    "cv2 = cross_val_score(mlp, X, y_no, scoring = \"neg_mean_squared_error\", cv=10)\n",
    "\n",
    "print cv2\n"
   ]
  },
  {
   "cell_type": "code",
   "execution_count": 4,
   "metadata": {},
   "outputs": [
    {
     "ename": "NameError",
     "evalue": "name 'pd' is not defined",
     "output_type": "error",
     "traceback": [
      "\u001b[0;31m---------------------------------------------------------------------------\u001b[0m",
      "\u001b[0;31mNameError\u001b[0m                                 Traceback (most recent call last)",
      "\u001b[0;32m<ipython-input-4-6728b4b59002>\u001b[0m in \u001b[0;36m<module>\u001b[0;34m()\u001b[0m\n\u001b[1;32m      1\u001b[0m \u001b[0mp\u001b[0m \u001b[0;34m=\u001b[0m \u001b[0;34m\"pickles/alliance_sub.p\"\u001b[0m\u001b[0;34m\u001b[0m\u001b[0m\n\u001b[0;32m----> 2\u001b[0;31m \u001b[0mdf\u001b[0m\u001b[0;34m=\u001b[0m \u001b[0mpd\u001b[0m\u001b[0;34m.\u001b[0m\u001b[0mread_pickle\u001b[0m\u001b[0;34m(\u001b[0m\u001b[0mp\u001b[0m\u001b[0;34m)\u001b[0m\u001b[0;34m\u001b[0m\u001b[0m\n\u001b[0m",
      "\u001b[0;31mNameError\u001b[0m: name 'pd' is not defined"
     ]
    }
   ],
   "source": []
  }
 ],
 "metadata": {
  "kernelspec": {
   "display_name": "Python 2",
   "language": "python",
   "name": "python2"
  },
  "language_info": {
   "codemirror_mode": {
    "name": "ipython",
    "version": 2
   },
   "file_extension": ".py",
   "mimetype": "text/x-python",
   "name": "python",
   "nbconvert_exporter": "python",
   "pygments_lexer": "ipython2",
   "version": "2.7.13"
  }
 },
 "nbformat": 4,
 "nbformat_minor": 2
}
