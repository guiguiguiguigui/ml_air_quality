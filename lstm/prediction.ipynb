{
 "cells": [
  {
   "cell_type": "code",
   "execution_count": 90,
   "metadata": {},
   "outputs": [],
   "source": [
    "import pandas as pd\n",
    "import numpy as np\n",
    "import matplotlib.pyplot as plt\n",
    "from collections import Counter\n",
    "\n",
    "\n",
    "from sklearn.model_selection import train_test_split\n",
    "from sklearn.utils import shuffle\n",
    "from scipy.io import savemat"
   ]
  },
  {
   "cell_type": "code",
   "execution_count": 2,
   "metadata": {
    "collapsed": true
   },
   "outputs": [],
   "source": [
    "p = \"pickles/kibera_sub.p\""
   ]
  },
  {
   "cell_type": "code",
   "execution_count": 3,
   "metadata": {
    "collapsed": true
   },
   "outputs": [],
   "source": [
    "alliance = pd.read_pickle(p)"
   ]
  },
  {
   "cell_type": "code",
   "execution_count": 4,
   "metadata": {
    "collapsed": true
   },
   "outputs": [],
   "source": [
    "alliance['d'] = pd.to_datetime(alliance['d'])"
   ]
  },
  {
   "cell_type": "code",
   "execution_count": 5,
   "metadata": {},
   "outputs": [
    {
     "data": {
      "text/plain": [
       "array(['Unnamed: 0', 'd', 't', 'date_x', 'no2', 'o3', 'no', 'so2', 'temp',\n",
       "       'humidity', 'pm1', 'pm25', 'pm10', 'bin0', 'bin1', 'bin2', 'bin3',\n",
       "       'bin4', 'bin5', 'bin6', 'bin7', 'bin8', 'bin9', 'bin10', 'bin11',\n",
       "       'bin12', 'bin13', 'bin14', 'bin15', 'd0', 'd1', 'd2', 'd3', 'd4',\n",
       "       'd5', 'd6', 'd7', 'd8', 'd9', 'd10', 'd11', 'd12', 'd13', 'd14',\n",
       "       'd15', 'dt', 'date_y', 'nsec', 'altm_(hpa)', 'temp (degree_c)',\n",
       "       'dew (degree_c)', 'rh_(percentage)', 'dir_(degrees)', 'spd_(m/s)',\n",
       "       'vis (km)', 'clouds (====)'], dtype=object)"
      ]
     },
     "execution_count": 5,
     "metadata": {},
     "output_type": "execute_result"
    }
   ],
   "source": [
    "alliance.columns.values"
   ]
  },
  {
   "cell_type": "code",
   "execution_count": 23,
   "metadata": {
    "collapsed": true
   },
   "outputs": [],
   "source": [
    "pm25 = alliance.groupby(alliance['dt'].dt.date)['pm25'].mean()"
   ]
  },
  {
   "cell_type": "code",
   "execution_count": 7,
   "metadata": {},
   "outputs": [
    {
     "data": {
      "text/plain": [
       "(249, 73)"
      ]
     },
     "execution_count": 7,
     "metadata": {},
     "output_type": "execute_result"
    }
   ],
   "source": [
    "len(pm25), len(pm25[pm25>25])"
   ]
  },
  {
   "cell_type": "code",
   "execution_count": 22,
   "metadata": {
    "collapsed": true
   },
   "outputs": [],
   "source": [
    "pm10 = alliance.groupby(alliance['dt'].dt.date)['pm10'].mean()"
   ]
  },
  {
   "cell_type": "code",
   "execution_count": 9,
   "metadata": {},
   "outputs": [
    {
     "data": {
      "text/plain": [
       "(249, 8)"
      ]
     },
     "execution_count": 9,
     "metadata": {},
     "output_type": "execute_result"
    }
   ],
   "source": [
    "len(pm10), len(pm10[pm10>100])"
   ]
  },
  {
   "cell_type": "code",
   "execution_count": 10,
   "metadata": {
    "scrolled": false
   },
   "outputs": [
    {
     "data": {
      "text/plain": [
       "d\n",
       "2016-01-06    26.787619\n",
       "2016-01-07    25.248095\n",
       "2016-01-09    27.730000\n",
       "2016-01-10    26.187500\n",
       "2016-02-06    26.582414\n",
       "2016-02-08    27.608000\n",
       "2016-02-09    45.528000\n",
       "2016-03-09    44.701702\n",
       "2016-04-06    38.355000\n",
       "2016-05-07    27.114706\n",
       "2016-05-08    30.022000\n",
       "2016-05-23    34.773636\n",
       "2016-05-24    30.735000\n",
       "2016-05-25    28.948929\n",
       "2016-05-27    50.521053\n",
       "2016-05-28    30.304828\n",
       "2016-05-31    35.993333\n",
       "2016-06-06    35.198571\n",
       "2016-06-07    63.118889\n",
       "2016-06-08    39.922500\n",
       "2016-06-09    26.238966\n",
       "2016-06-13    31.312400\n",
       "2016-06-15    42.070938\n",
       "2016-06-17    37.602222\n",
       "2016-06-18    38.268500\n",
       "2016-06-20    28.439104\n",
       "2016-06-21    25.995185\n",
       "2016-06-22    26.751739\n",
       "2016-06-23    26.657143\n",
       "2016-06-24    49.473750\n",
       "                ...    \n",
       "2016-07-27    45.645000\n",
       "2016-07-29    27.698621\n",
       "2016-07-30    28.902105\n",
       "2016-08-06    25.926538\n",
       "2016-08-13    35.804516\n",
       "2016-08-16    29.172258\n",
       "2016-08-17    25.946400\n",
       "2016-08-18    56.073125\n",
       "2016-08-21    25.850741\n",
       "2016-08-26    30.140833\n",
       "2016-08-27    35.593636\n",
       "2016-08-28    26.288214\n",
       "2016-08-29    45.199143\n",
       "2016-08-31    44.530345\n",
       "2016-09-05    25.657188\n",
       "2016-09-07    29.160333\n",
       "2016-09-09    25.429545\n",
       "2016-09-14    33.417778\n",
       "2016-09-21    30.537778\n",
       "2016-09-25    26.493333\n",
       "2016-09-26    34.245185\n",
       "2016-09-27    31.044444\n",
       "2016-10-09    27.104348\n",
       "2016-10-12    38.261875\n",
       "2016-10-20    27.309143\n",
       "2016-10-22    30.041364\n",
       "2016-11-05    32.822500\n",
       "2016-11-06    27.600312\n",
       "2016-12-07    40.171724\n",
       "2016-12-14    28.526250\n",
       "Name: pm25, Length: 73, dtype: float64"
      ]
     },
     "execution_count": 10,
     "metadata": {},
     "output_type": "execute_result"
    }
   ],
   "source": [
    "pm25[pm25>25]"
   ]
  },
  {
   "cell_type": "code",
   "execution_count": 11,
   "metadata": {
    "scrolled": true
   },
   "outputs": [
    {
     "data": {
      "text/plain": [
       "d\n",
       "2016-02-08    114.842000\n",
       "2016-06-15    129.880000\n",
       "2016-07-06    121.768696\n",
       "2016-07-23    117.365000\n",
       "2016-07-24    156.142500\n",
       "2016-07-27    107.644167\n",
       "2016-08-18    119.978125\n",
       "2016-08-29    103.630571\n",
       "Name: pm10, dtype: float64"
      ]
     },
     "execution_count": 11,
     "metadata": {},
     "output_type": "execute_result"
    }
   ],
   "source": [
    "pm10[pm10>100]"
   ]
  },
  {
   "cell_type": "code",
   "execution_count": 12,
   "metadata": {
    "collapsed": true
   },
   "outputs": [],
   "source": [
    "both = alliance.groupby(['d'])['pm10','pm25'].mean()"
   ]
  },
  {
   "cell_type": "code",
   "execution_count": 25,
   "metadata": {
    "collapsed": true
   },
   "outputs": [],
   "source": [
    "polution_dates = set(pm25[pm25>25].index.values).union(set(pm10[pm10>100].index.values))\n",
    "polution_dates = set([pd.to_datetime(x).date() for x in polution_dates])"
   ]
  },
  {
   "cell_type": "code",
   "execution_count": 26,
   "metadata": {
    "scrolled": true
   },
   "outputs": [
    {
     "data": {
      "text/plain": [
       "{datetime.date(2016, 5, 9),\n",
       " datetime.date(2016, 5, 11),\n",
       " datetime.date(2016, 5, 23),\n",
       " datetime.date(2016, 5, 24),\n",
       " datetime.date(2016, 5, 25),\n",
       " datetime.date(2016, 5, 27),\n",
       " datetime.date(2016, 5, 28),\n",
       " datetime.date(2016, 5, 31),\n",
       " datetime.date(2016, 6, 1),\n",
       " datetime.date(2016, 6, 2),\n",
       " datetime.date(2016, 6, 4),\n",
       " datetime.date(2016, 6, 6),\n",
       " datetime.date(2016, 6, 7),\n",
       " datetime.date(2016, 6, 8),\n",
       " datetime.date(2016, 6, 11),\n",
       " datetime.date(2016, 6, 13),\n",
       " datetime.date(2016, 6, 15),\n",
       " datetime.date(2016, 6, 17),\n",
       " datetime.date(2016, 6, 18),\n",
       " datetime.date(2016, 6, 20),\n",
       " datetime.date(2016, 6, 21),\n",
       " datetime.date(2016, 6, 22),\n",
       " datetime.date(2016, 6, 23),\n",
       " datetime.date(2016, 6, 24),\n",
       " datetime.date(2016, 6, 25),\n",
       " datetime.date(2016, 6, 27),\n",
       " datetime.date(2016, 6, 28),\n",
       " datetime.date(2016, 7, 1),\n",
       " datetime.date(2016, 7, 5),\n",
       " datetime.date(2016, 7, 6),\n",
       " datetime.date(2016, 7, 7),\n",
       " datetime.date(2016, 7, 8),\n",
       " datetime.date(2016, 7, 9),\n",
       " datetime.date(2016, 7, 12),\n",
       " datetime.date(2016, 7, 13),\n",
       " datetime.date(2016, 7, 14),\n",
       " datetime.date(2016, 7, 15),\n",
       " datetime.date(2016, 7, 16),\n",
       " datetime.date(2016, 7, 18),\n",
       " datetime.date(2016, 7, 22),\n",
       " datetime.date(2016, 7, 23),\n",
       " datetime.date(2016, 7, 24),\n",
       " datetime.date(2016, 7, 27),\n",
       " datetime.date(2016, 7, 29),\n",
       " datetime.date(2016, 7, 30),\n",
       " datetime.date(2016, 8, 2),\n",
       " datetime.date(2016, 8, 5),\n",
       " datetime.date(2016, 8, 6),\n",
       " datetime.date(2016, 8, 13),\n",
       " datetime.date(2016, 8, 16),\n",
       " datetime.date(2016, 8, 17),\n",
       " datetime.date(2016, 8, 18),\n",
       " datetime.date(2016, 8, 21),\n",
       " datetime.date(2016, 8, 26),\n",
       " datetime.date(2016, 8, 27),\n",
       " datetime.date(2016, 8, 28),\n",
       " datetime.date(2016, 8, 29),\n",
       " datetime.date(2016, 8, 31),\n",
       " datetime.date(2016, 9, 1),\n",
       " datetime.date(2016, 9, 2),\n",
       " datetime.date(2016, 9, 3),\n",
       " datetime.date(2016, 9, 6),\n",
       " datetime.date(2016, 9, 7),\n",
       " datetime.date(2016, 9, 9),\n",
       " datetime.date(2016, 9, 10),\n",
       " datetime.date(2016, 9, 14),\n",
       " datetime.date(2016, 9, 21),\n",
       " datetime.date(2016, 9, 25),\n",
       " datetime.date(2016, 9, 26),\n",
       " datetime.date(2016, 9, 27),\n",
       " datetime.date(2016, 10, 1),\n",
       " datetime.date(2016, 10, 20),\n",
       " datetime.date(2016, 10, 22),\n",
       " datetime.date(2016, 12, 10),\n",
       " datetime.date(2016, 12, 14)}"
      ]
     },
     "execution_count": 26,
     "metadata": {},
     "output_type": "execute_result"
    }
   ],
   "source": [
    "polution_dates"
   ]
  },
  {
   "cell_type": "code",
   "execution_count": 27,
   "metadata": {},
   "outputs": [
    {
     "data": {
      "text/plain": [
       "75"
      ]
     },
     "execution_count": 27,
     "metadata": {},
     "output_type": "execute_result"
    }
   ],
   "source": [
    "len(polution_dates)"
   ]
  },
  {
   "cell_type": "code",
   "execution_count": 15,
   "metadata": {
    "collapsed": true
   },
   "outputs": [],
   "source": [
    "grouped = alliance.groupby(alliance['dt'].dt.date)"
   ]
  },
  {
   "cell_type": "code",
   "execution_count": 16,
   "metadata": {
    "collapsed": true
   },
   "outputs": [],
   "source": [
    "features = ['d0', 'd1', 'd2', 'd3', 'd4',\n",
    "       'd5', 'd6', 'd7', 'd8', 'd9', 'd10', 'd11', 'd12', 'd13', 'd14',\n",
    "       'd15', 'temp','humidity','dir_(degrees)', 'spd_(m/s)']"
   ]
  },
  {
   "cell_type": "code",
   "execution_count": 37,
   "metadata": {
    "collapsed": true
   },
   "outputs": [],
   "source": [
    "X = []\n",
    "Y = []"
   ]
  },
  {
   "cell_type": "code",
   "execution_count": 49,
   "metadata": {
    "scrolled": true
   },
   "outputs": [
    {
     "name": "stderr",
     "output_type": "stream",
     "text": [
      "/usr/local/lib/python2.7/site-packages/ipykernel_launcher.py:5: SettingWithCopyWarning: \n",
      "A value is trying to be set on a copy of a slice from a DataFrame.\n",
      "Try using .loc[row_indexer,col_indexer] = value instead\n",
      "\n",
      "See the caveats in the documentation: http://pandas.pydata.org/pandas-docs/stable/indexing.html#indexing-view-versus-copy\n",
      "  \"\"\"\n"
     ]
    },
    {
     "name": "stdout",
     "output_type": "stream",
     "text": [
      "2016-05-06\n",
      "2\n",
      "2016-05-29\n",
      "16\n",
      "2016-05-30\n",
      "13\n",
      "2016-06-06\n",
      "17\n",
      "2016-06-15\n",
      "15\n",
      "2016-06-16\n",
      "11\n",
      "2016-06-18\n",
      "17\n",
      "2016-06-28\n",
      "16\n",
      "2016-07-01\n",
      "15\n",
      "2016-07-05\n",
      "13\n",
      "2016-07-06\n",
      "13\n",
      "2016-07-15\n",
      "15\n",
      "2016-07-19\n",
      "17\n",
      "2016-07-23\n",
      "11\n",
      "2016-07-24\n",
      "4\n",
      "2016-07-25\n",
      "13\n",
      "2016-07-26\n",
      "9\n",
      "2016-07-27\n",
      "11\n",
      "2016-07-28\n",
      "13\n",
      "2016-08-01\n",
      "14\n",
      "2016-08-02\n",
      "9\n",
      "2016-08-03\n",
      "15\n",
      "2016-08-10\n",
      "17\n",
      "2016-08-11\n",
      "17\n",
      "2016-08-18\n",
      "11\n",
      "2016-08-20\n",
      "13\n",
      "2016-08-21\n",
      "17\n",
      "2016-08-25\n",
      "17\n",
      "2016-08-26\n",
      "11\n",
      "2016-09-11\n",
      "16\n",
      "2016-09-12\n",
      "15\n",
      "2016-09-13\n",
      "16\n",
      "2016-09-16\n",
      "15\n",
      "2016-09-20\n",
      "16\n",
      "2016-09-21\n",
      "16\n",
      "2016-09-23\n",
      "14\n",
      "2016-10-01\n",
      "15\n",
      "2016-10-03\n",
      "15\n",
      "2016-10-11\n",
      "16\n",
      "2016-10-12\n",
      "15\n",
      "2016-10-13\n",
      "12\n",
      "2016-10-14\n",
      "15\n",
      "2016-10-15\n",
      "17\n",
      "2016-10-16\n",
      "11\n",
      "2016-10-17\n",
      "12\n",
      "2016-10-19\n",
      "8\n",
      "2016-10-30\n",
      "17\n",
      "2016-11-23\n",
      "17\n",
      "2016-12-05\n",
      "17\n",
      "2016-12-06\n",
      "11\n",
      "2016-12-15\n",
      "13\n",
      "2016-12-19\n",
      "11\n",
      "2016-12-20\n",
      "12\n",
      "2016-12-24\n",
      "17\n",
      "2016-12-27\n",
      "11\n",
      "2016-12-28\n",
      "15\n",
      "2017-01-03\n",
      "13\n",
      "2017-01-04\n",
      "7\n",
      "2017-01-05\n",
      "17\n",
      "2017-01-06\n",
      "15\n",
      "2017-01-07\n",
      "14\n",
      "2017-01-08\n",
      "14\n",
      "2017-01-09\n",
      "11\n",
      "2017-01-10\n",
      "5\n"
     ]
    }
   ],
   "source": [
    "X = []\n",
    "Y = []\n",
    "counter = 0\n",
    "for name, group in grouped:\n",
    "    group['hour_x'] = group['dt'].dt.hour\n",
    "    group = group.drop_duplicates(['hour_x'])\n",
    "   \n",
    "    group = group.set_index('hour_x')\n",
    "\n",
    "    if len(group) < 18:\n",
    "        print pd.to_datetime(name).date()\n",
    "        print len(group)\n",
    "        continue\n",
    "\n",
    "    group = group[features]\n",
    "    group = group.reindex(range(24))\n",
    "    group = group.fillna(method='pad')\n",
    "    group = group.fillna(method='bfill')\n",
    "            \n",
    "    X.append(group.as_matrix())\n",
    "    if pd.to_datetime(name).date() in polution_dates:\n",
    "        Y.append(1)\n",
    "        #print pd.to_datetime(name).date()\n",
    "    else:\n",
    "        Y.append(0)\n",
    "    "
   ]
  },
  {
   "cell_type": "code",
   "execution_count": 50,
   "metadata": {},
   "outputs": [
    {
     "data": {
      "text/plain": [
       "58"
      ]
     },
     "execution_count": 50,
     "metadata": {},
     "output_type": "execute_result"
    }
   ],
   "source": [
    "sum(Y)"
   ]
  },
  {
   "cell_type": "code",
   "execution_count": 140,
   "metadata": {},
   "outputs": [
    {
     "data": {
      "text/plain": [
       "18"
      ]
     },
     "execution_count": 140,
     "metadata": {},
     "output_type": "execute_result"
    }
   ],
   "source": [
    "counter"
   ]
  },
  {
   "cell_type": "code",
   "execution_count": 59,
   "metadata": {
    "collapsed": true
   },
   "outputs": [],
   "source": [
    "features = ['d0', 'd1', 'd2', 'd3', 'd4',\n",
    "       'd5', 'd6', 'd7', 'd8', 'd9', 'd10', 'd11', 'd12', 'd13', 'd14',\n",
    "       'd15', 'temp','humidity','dir_(degrees)', 'spd_(m/s)']\n",
    "\n",
    "X = []\n",
    "Y = []\n",
    "\n",
    "def make_x_y(pickle):\n",
    "    alliance = pd.read_pickle(pickle)\n",
    "    alliance['d'] = pd.to_datetime(alliance['d'])\n",
    "    pm25 = alliance.groupby(alliance['dt'].dt.date)['pm25'].mean()\n",
    "    pm10 = alliance.groupby(alliance['dt'].dt.date)['pm10'].mean()\n",
    "    polution_dates = set(pm25[pm25>25].index.values).union(set(pm10[pm10>100].index.values))\n",
    "    polution_dates = set([pd.to_datetime(x).date() for x in polution_dates])\n",
    "    \n",
    "    grouped = alliance.groupby(alliance['dt'].dt.date)\n",
    "    \n",
    "    for name, group in grouped:\n",
    "        group['hour_x'] = group['dt'].dt.hour\n",
    "        group = group.drop_duplicates(['hour_x'])\n",
    "\n",
    "        group = group.set_index('hour_x')\n",
    "\n",
    "        if len(group) < 18:\n",
    "            #print pd.to_datetime(name).date()\n",
    "            #print len(group)\n",
    "            continue\n",
    "\n",
    "        group = group[features]\n",
    "        group = group.reindex(range(24))\n",
    "        group = group.fillna(method='pad')\n",
    "        group = group.fillna(method='bfill')\n",
    "\n",
    "        X.append(group.as_matrix())\n",
    "        if pd.to_datetime(name).date() in polution_dates:\n",
    "            Y.append(1)\n",
    "            #print pd.to_datetime(name).date()\n",
    "        else:\n",
    "            Y.append(0)\n",
    "        \n",
    "    print \"finished %s\" %pickle\n",
    "    "
   ]
  },
  {
   "cell_type": "code",
   "execution_count": 60,
   "metadata": {},
   "outputs": [
    {
     "name": "stderr",
     "output_type": "stream",
     "text": [
      "/usr/local/lib/python2.7/site-packages/ipykernel_launcher.py:19: SettingWithCopyWarning: \n",
      "A value is trying to be set on a copy of a slice from a DataFrame.\n",
      "Try using .loc[row_indexer,col_indexer] = value instead\n",
      "\n",
      "See the caveats in the documentation: http://pandas.pydata.org/pandas-docs/stable/indexing.html#indexing-view-versus-copy\n"
     ]
    },
    {
     "name": "stdout",
     "output_type": "stream",
     "text": [
      "finished pickles/kibera_sub.p\n",
      "finished pickles/scholastica_sub.p\n",
      "finished pickles/unep_sub.p\n",
      "finished pickles/alliance_sub.p\n",
      "finished pickles/allsaints_sub.p\n"
     ]
    }
   ],
   "source": [
    "pickles = [\"kibera_sub.p\", \"scholastica_sub.p\",\n",
    "         \"unep_sub.p\",\"alliance_sub.p\",  \"allsaints_sub.p\"]\n",
    "for p in pickles:\n",
    "    p = \"pickles/\"+p\n",
    "    make_x_y(p)"
   ]
  },
  {
   "cell_type": "code",
   "execution_count": 86,
   "metadata": {},
   "outputs": [],
   "source": [
    "neg_index = []\n",
    "pos_index = []\n",
    "\n",
    "for i,y in enumerate(Y):\n",
    "    if y==0:\n",
    "        neg_index.append(i)\n",
    "    else:\n",
    "        pos_index.append(i)"
   ]
  },
  {
   "cell_type": "code",
   "execution_count": null,
   "metadata": {
    "collapsed": true
   },
   "outputs": [],
   "source": [
    "len"
   ]
  },
  {
   "cell_type": "code",
   "execution_count": 94,
   "metadata": {},
   "outputs": [
    {
     "ename": "TypeError",
     "evalue": "'float' object cannot be interpreted as an index",
     "output_type": "error",
     "traceback": [
      "\u001b[0;31m---------------------------------------------------------------------------\u001b[0m",
      "\u001b[0;31mTypeError\u001b[0m                                 Traceback (most recent call last)",
      "\u001b[0;32m<ipython-input-94-533cacf93fdd>\u001b[0m in \u001b[0;36m<module>\u001b[0;34m()\u001b[0m\n\u001b[1;32m      3\u001b[0m \u001b[0mx_pos\u001b[0m \u001b[0;34m=\u001b[0m \u001b[0mshuffle\u001b[0m\u001b[0;34m(\u001b[0m\u001b[0mx_neg\u001b[0m\u001b[0;34m)\u001b[0m\u001b[0;34m[\u001b[0m\u001b[0mlen\u001b[0m\u001b[0;34m(\u001b[0m\u001b[0mpos_index\u001b[0m\u001b[0;34m)\u001b[0m\u001b[0;34m]\u001b[0m\u001b[0;34m\u001b[0m\u001b[0m\n\u001b[1;32m      4\u001b[0m \u001b[0;34m\u001b[0m\u001b[0m\n\u001b[0;32m----> 5\u001b[0;31m \u001b[0mx_new\u001b[0m \u001b[0;34m=\u001b[0m \u001b[0mnp\u001b[0m\u001b[0;34m.\u001b[0m\u001b[0mconcatenate\u001b[0m\u001b[0;34m(\u001b[0m\u001b[0mx_neg\u001b[0m\u001b[0;34m,\u001b[0m\u001b[0mx_pos\u001b[0m\u001b[0;34m)\u001b[0m\u001b[0;34m\u001b[0m\u001b[0m\n\u001b[0m\u001b[1;32m      6\u001b[0m \u001b[0my_new\u001b[0m \u001b[0;34m=\u001b[0m \u001b[0mnp\u001b[0m\u001b[0;34m.\u001b[0m\u001b[0mconcatenate\u001b[0m\u001b[0;34m(\u001b[0m\u001b[0;34m[\u001b[0m\u001b[0;36m0\u001b[0m\u001b[0;34m]\u001b[0m\u001b[0;34m*\u001b[0m\u001b[0mlen\u001b[0m\u001b[0;34m(\u001b[0m\u001b[0mneg\u001b[0m\u001b[0;34m)\u001b[0m\u001b[0;34m,\u001b[0m\u001b[0;34m[\u001b[0m\u001b[0;36m1\u001b[0m\u001b[0;34m]\u001b[0m\u001b[0;34m*\u001b[0m\u001b[0mlen\u001b[0m\u001b[0;34m(\u001b[0m\u001b[0mpos\u001b[0m\u001b[0;34m)\u001b[0m\u001b[0;34m)\u001b[0m\u001b[0;34m\u001b[0m\u001b[0m\n",
      "\u001b[0;31mTypeError\u001b[0m: 'float' object cannot be interpreted as an index"
     ]
    }
   ],
   "source": [
    "x_neg = np.take(X, neg_index)\n",
    "x_pos = np.take(X, pos_index)\n",
    "x_pos = shuffle(x_neg)[len(pos_index)]\n",
    "\n",
    "x_new = np.concatenate(x_neg,x_pos)\n",
    "y_new = np.concatenate([0]*len(neg),[1]*len(pos))"
   ]
  },
  {
   "cell_type": "code",
   "execution_count": 62,
   "metadata": {
    "collapsed": true
   },
   "outputs": [],
   "source": [
    "X_train, X_test, y_train, y_test = train_test_split(X, , test_size=0.20, random_state=42)"
   ]
  },
  {
   "cell_type": "code",
   "execution_count": 70,
   "metadata": {},
   "outputs": [
    {
     "data": {
      "text/plain": [
       "[array([[  1.30397606e+03,   1.27738837e+03,   1.28816541e+03,\n",
       "           5.88011487e+02,   1.10893476e+02,   6.77395986e+01,\n",
       "           3.87341774e+01,   2.40117683e+01,   2.06377023e+01,\n",
       "           0.00000000e+00,   0.00000000e+00,   0.00000000e+00,\n",
       "           0.00000000e+00,   0.00000000e+00,   0.00000000e+00,\n",
       "           0.00000000e+00,   1.87800000e+01,   7.37700000e+01,\n",
       "           2.00000000e+01,   3.00000000e+00],\n",
       "        [  1.75610847e+03,   2.01000818e+03,   2.05735770e+03,\n",
       "           7.72313595e+02,   2.88323038e+02,   1.52414097e+02,\n",
       "           9.03797473e+01,   8.00392278e+00,   0.00000000e+00,\n",
       "           8.77629085e+00,   1.10893476e+01,   1.03188512e+01,\n",
       "           0.00000000e+00,   0.00000000e+00,   0.00000000e+00,\n",
       "           0.00000000e+00,   1.84400000e+01,   7.53900000e+01,\n",
       "           3.00000000e+01,   4.00000000e+00],\n",
       "        [  5.55008908e+03,   4.65244883e+03,   3.06750180e+03,\n",
       "           1.00049716e+03,   2.43965647e+02,   1.18544298e+02,\n",
       "           9.68354435e+01,   4.80235367e+01,   1.03188512e+01,\n",
       "           0.00000000e+00,   0.00000000e+00,   2.06377023e+01,\n",
       "           0.00000000e+00,   0.00000000e+00,   0.00000000e+00,\n",
       "           0.00000000e+00,   1.84700000e+01,   7.78300000e+01,\n",
       "           6.00000000e+01,   2.00000000e+00],\n",
       "        [  3.78087532e+03,   3.19347094e+03,   2.25197262e+03,\n",
       "           9.21510539e+02,   2.99412385e+02,   2.03218796e+02,\n",
       "           1.16202532e+02,   8.00392278e+01,   6.19131069e+01,\n",
       "           4.38814542e+01,   1.10893476e+01,   2.06377023e+01,\n",
       "           0.00000000e+00,   1.49372361e+01,   0.00000000e+00,\n",
       "           2.56950075e+01,   1.83900000e+01,   7.65800000e+01,\n",
       "           2.00000000e+01,   2.00000000e+00],\n",
       "        [  2.39826753e+03,   2.01626988e+03,   1.18622426e+03,\n",
       "           3.77380506e+02,   1.21982824e+02,   1.01609398e+02,\n",
       "           1.42025317e+02,   4.80235367e+01,   3.09565535e+01,\n",
       "           8.77629085e+00,   0.00000000e+00,   1.03188512e+01,\n",
       "           0.00000000e+00,   0.00000000e+00,   0.00000000e+00,\n",
       "           0.00000000e+00,   1.82100000e+01,   7.81000000e+01,\n",
       "           1.00000000e+01,   2.00000000e+00],\n",
       "        [  1.31052871e+03,   1.32748204e+03,   8.71133440e+02,\n",
       "           2.01854690e+02,   6.65360856e+01,   8.46744983e+01,\n",
       "           5.16455699e+01,   4.00196139e+01,   1.03188512e+01,\n",
       "           2.63288725e+01,   0.00000000e+00,   0.00000000e+00,\n",
       "           0.00000000e+00,   0.00000000e+00,   0.00000000e+00,\n",
       "           0.00000000e+00,   2.21700000e+01,   7.03800000e+01,\n",
       "           2.40000000e+02,   2.00000000e+00],\n",
       "        [  7.07685502e+02,   6.26170772e+02,   4.72636228e+02,\n",
       "           1.66749526e+02,   7.76254333e+01,   7.62070485e+01,\n",
       "           5.16455699e+01,   1.60078456e+01,   1.03188512e+01,\n",
       "           3.51051634e+01,   1.10893476e+01,   1.03188512e+01,\n",
       "           0.00000000e+00,   0.00000000e+00,   0.00000000e+00,\n",
       "           0.00000000e+00,   2.36700000e+01,   6.54400000e+01,\n",
       "           2.20000000e+02,   2.00000000e+00],\n",
       "        [  1.09429147e+03,   6.01123941e+02,   4.44834097e+02,\n",
       "           1.31644363e+02,   8.87147809e+01,   5.08046990e+01,\n",
       "           1.93670887e+01,   0.00000000e+00,   3.09565535e+01,\n",
       "           0.00000000e+00,   1.10893476e+01,   0.00000000e+00,\n",
       "           0.00000000e+00,   1.49372361e+01,   0.00000000e+00,\n",
       "           0.00000000e+00,   2.73800000e+01,   5.47000000e+01,\n",
       "           2.00000000e+02,   3.00000000e+00],\n",
       "        [  2.44413604e+03,   1.56542693e+03,   1.13062000e+03,\n",
       "           2.63288725e+02,   1.88518909e+02,   1.10076848e+02,\n",
       "           8.39240511e+01,   7.20353050e+01,   6.19131069e+01,\n",
       "           4.38814542e+01,   5.54467380e+01,   1.03188512e+01,\n",
       "           2.52585063e+01,   1.49372361e+01,   1.72437735e+01,\n",
       "           0.00000000e+00,   2.74500000e+01,   5.18000000e+01,\n",
       "           2.00000000e+02,   4.00000000e+00],\n",
       "        [  1.24500227e+03,   1.17093934e+03,   9.45272457e+02,\n",
       "           5.17801160e+02,   1.99608257e+02,   1.52414097e+02,\n",
       "           1.54936710e+02,   6.40313822e+01,   8.25508093e+01,\n",
       "           2.63288725e+01,   2.21786952e+01,   6.19131069e+01,\n",
       "           1.26292531e+01,   1.49372361e+01,   0.00000000e+00,\n",
       "           0.00000000e+00,   2.84400000e+01,   4.96000000e+01,\n",
       "           9.00000000e+01,   6.00000000e+00],\n",
       "        [  1.24500227e+03,   1.17093934e+03,   9.45272457e+02,\n",
       "           5.17801160e+02,   1.99608257e+02,   1.52414097e+02,\n",
       "           1.54936710e+02,   6.40313822e+01,   8.25508093e+01,\n",
       "           2.63288725e+01,   2.21786952e+01,   6.19131069e+01,\n",
       "           1.26292531e+01,   1.49372361e+01,   0.00000000e+00,\n",
       "           0.00000000e+00,   2.84400000e+01,   4.96000000e+01,\n",
       "           9.00000000e+01,   6.00000000e+00],\n",
       "        [  4.58685048e+02,   3.38132217e+02,   3.61427704e+02,\n",
       "           2.72065016e+02,   1.21982824e+02,   1.01609398e+02,\n",
       "           1.22658228e+02,   1.04050996e+02,   8.25508093e+01,\n",
       "           3.51051634e+01,   7.76254333e+01,   4.12754046e+01,\n",
       "           3.78877594e+01,   0.00000000e+00,   0.00000000e+00,\n",
       "           0.00000000e+00,   2.71500000e+01,   5.22600000e+01,\n",
       "           2.10000000e+02,   3.00000000e+00],\n",
       "        [  4.58685048e+02,   3.38132217e+02,   3.61427704e+02,\n",
       "           2.72065016e+02,   1.21982824e+02,   1.01609398e+02,\n",
       "           1.22658228e+02,   1.04050996e+02,   8.25508093e+01,\n",
       "           3.51051634e+01,   7.76254333e+01,   4.12754046e+01,\n",
       "           3.78877594e+01,   0.00000000e+00,   0.00000000e+00,\n",
       "           0.00000000e+00,   2.71500000e+01,   5.22600000e+01,\n",
       "           2.10000000e+02,   3.00000000e+00],\n",
       "        [  3.27632177e+02,   3.25608801e+02,   2.96556065e+02,\n",
       "           1.75525817e+02,   5.54467380e+01,   2.54023495e+01,\n",
       "           8.39240511e+01,   2.40117683e+01,   5.15942558e+01,\n",
       "           1.75525817e+01,   4.43573904e+01,   3.09565535e+01,\n",
       "           0.00000000e+00,   0.00000000e+00,   0.00000000e+00,\n",
       "           0.00000000e+00,   2.67900000e+01,   5.09400000e+01,\n",
       "           2.60000000e+02,   4.00000000e+00],\n",
       "        [  2.49000454e+02,   3.31870509e+02,   1.76080163e+02,\n",
       "           1.31644363e+02,   6.65360856e+01,   7.62070485e+01,\n",
       "           2.58227849e+01,   1.60078456e+01,   1.03188512e+01,\n",
       "           2.63288725e+01,   1.10893476e+01,   1.03188512e+01,\n",
       "           0.00000000e+00,   0.00000000e+00,   0.00000000e+00,\n",
       "           0.00000000e+00,   2.54000000e+01,   5.33900000e+01,\n",
       "           1.90000000e+02,   4.00000000e+00],\n",
       "        [  9.50133313e+02,   8.89162496e+02,   8.61866063e+02,\n",
       "           3.42275343e+02,   3.43769776e+02,   2.28621145e+02,\n",
       "           3.22784812e+02,   2.88141220e+02,   1.03188512e+02,\n",
       "           8.77629085e+01,   2.21786952e+01,   5.15942558e+01,\n",
       "           2.52585063e+01,   0.00000000e+00,   0.00000000e+00,\n",
       "           2.56950075e+01,   2.49300000e+01,   5.43900000e+01,\n",
       "           2.10000000e+02,   4.00000000e+00],\n",
       "        [  7.06374974e+03,   7.92732197e+03,   6.65397671e+03,\n",
       "           2.42225627e+03,   7.42986290e+02,   5.84254038e+02,\n",
       "           4.45443040e+02,   2.32113761e+02,   1.13507363e+02,\n",
       "           7.89866176e+01,   6.65360856e+01,   1.03188512e+01,\n",
       "           2.52585063e+01,   0.00000000e+00,   0.00000000e+00,\n",
       "           0.00000000e+00,   2.39500000e+01,   6.00700000e+01,\n",
       "           2.00000000e+02,   2.00000000e+00],\n",
       "        [  8.45291017e+02,   8.20283711e+02,   7.41390162e+02,\n",
       "           3.24722761e+02,   9.98041285e+01,   5.08046990e+01,\n",
       "           5.16455699e+01,   2.40117683e+01,   3.09565535e+01,\n",
       "           8.77629085e+00,   1.10893476e+01,   0.00000000e+00,\n",
       "           0.00000000e+00,   0.00000000e+00,   0.00000000e+00,\n",
       "           0.00000000e+00,   2.08300000e+01,   6.74800000e+01,\n",
       "           1.70000000e+02,   2.00000000e+00],\n",
       "        [  1.04187032e+03,   1.28991179e+03,   9.45272457e+02,\n",
       "           2.54512435e+02,   8.87147809e+01,   9.31419481e+01,\n",
       "           1.29113925e+01,   2.40117683e+01,   2.06377023e+01,\n",
       "           2.63288725e+01,   0.00000000e+00,   1.03188512e+01,\n",
       "           0.00000000e+00,   0.00000000e+00,   0.00000000e+00,\n",
       "           0.00000000e+00,   2.03900000e+01,   7.32800000e+01,\n",
       "           1.40000000e+02,   3.00000000e+00],\n",
       "        [  6.22501136e+02,   5.94862233e+02,   5.28240491e+02,\n",
       "           2.80841307e+02,   5.54467380e+01,   8.46744983e+01,\n",
       "           5.16455699e+01,   0.00000000e+00,   1.03188512e+01,\n",
       "           1.75525817e+01,   1.10893476e+01,   0.00000000e+00,\n",
       "           0.00000000e+00,   0.00000000e+00,   0.00000000e+00,\n",
       "           0.00000000e+00,   2.00500000e+01,   7.79500000e+01,\n",
       "           9.00000000e+01,   4.00000000e+00],\n",
       "        [  1.21223906e+03,   1.22729471e+03,   1.26963065e+03,\n",
       "           4.82695997e+02,   1.55250867e+02,   7.62070485e+01,\n",
       "           3.87341774e+01,   8.00392278e+00,   0.00000000e+00,\n",
       "           0.00000000e+00,   0.00000000e+00,   0.00000000e+00,\n",
       "           0.00000000e+00,   0.00000000e+00,   0.00000000e+00,\n",
       "           0.00000000e+00,   1.94400000e+01,   8.33200000e+01,\n",
       "           3.60000000e+02,   4.00000000e+00],\n",
       "        [  9.69791244e+02,   7.70190049e+02,   5.83844753e+02,\n",
       "           2.45736144e+02,   9.98041285e+01,   2.54023495e+01,\n",
       "           3.22784812e+01,   1.60078456e+01,   2.06377023e+01,\n",
       "           0.00000000e+00,   0.00000000e+00,   0.00000000e+00,\n",
       "           0.00000000e+00,   0.00000000e+00,   0.00000000e+00,\n",
       "           0.00000000e+00,   1.95800000e+01,   8.39000000e+01,\n",
       "           3.50000000e+02,   5.00000000e+00],\n",
       "        [  1.01565975e+03,   1.01439665e+03,   6.30181638e+02,\n",
       "           1.66749526e+02,   5.54467380e+01,   5.92721488e+01,\n",
       "           3.87341774e+01,   8.00392278e+00,   0.00000000e+00,\n",
       "           0.00000000e+00,   0.00000000e+00,   0.00000000e+00,\n",
       "           0.00000000e+00,   0.00000000e+00,   0.00000000e+00,\n",
       "           0.00000000e+00,   2.00100000e+01,   8.30200000e+01,\n",
       "           2.00000000e+01,   4.00000000e+00],\n",
       "        [  3.80053325e+02,   3.69440755e+02,   5.00438359e+02,\n",
       "           1.49196944e+02,   5.54467380e+01,   1.69348997e+01,\n",
       "           2.58227849e+01,   0.00000000e+00,   0.00000000e+00,\n",
       "           0.00000000e+00,   0.00000000e+00,   0.00000000e+00,\n",
       "           0.00000000e+00,   0.00000000e+00,   0.00000000e+00,\n",
       "           5.13900151e+01,   1.92800000e+01,   8.52800000e+01,\n",
       "           3.60000000e+02,   3.00000000e+00]]),\n",
       " array([[  930.4754  ,   876.6391  ,   704.3207  ,   403.7094  ,\n",
       "           133.0722  ,   101.6094  ,    32.27848 ,    24.01177 ,\n",
       "            10.31885 ,    26.32887 ,     0.      ,     0.      ,\n",
       "             0.      ,     0.      ,     0.      ,     0.      ,\n",
       "            18.79    ,    72.46    ,    50.      ,     5.      ],\n",
       "        [  747.0014  ,   538.5069  ,   481.9036  ,   307.1702  ,\n",
       "           121.9828  ,   152.4141  ,    38.73418 ,    24.01177 ,\n",
       "             0.      ,     0.      ,    11.08935 ,     0.      ,\n",
       "             0.      ,     0.      ,     0.      ,     0.      ,\n",
       "            19.07    ,    71.97    ,    40.      ,     4.      ],\n",
       "        [  747.0014  ,   538.5069  ,   481.9036  ,   307.1702  ,\n",
       "           121.9828  ,   152.4141  ,    38.73418 ,    24.01177 ,\n",
       "             0.      ,     0.      ,    11.08935 ,     0.      ,\n",
       "             0.      ,     0.      ,     0.      ,     0.      ,\n",
       "            19.07    ,    71.97    ,    40.      ,     4.      ],\n",
       "        [  747.0014  ,   538.5069  ,   481.9036  ,   307.1702  ,\n",
       "           121.9828  ,   152.4141  ,    38.73418 ,    24.01177 ,\n",
       "             0.      ,     0.      ,    11.08935 ,     0.      ,\n",
       "             0.      ,     0.      ,     0.      ,     0.      ,\n",
       "            19.07    ,    71.97    ,    40.      ,     4.      ],\n",
       "        [  747.0014  ,   538.5069  ,   481.9036  ,   307.1702  ,\n",
       "           121.9828  ,   152.4141  ,    38.73418 ,    24.01177 ,\n",
       "             0.      ,     0.      ,    11.08935 ,     0.      ,\n",
       "             0.      ,     0.      ,     0.      ,     0.      ,\n",
       "            19.07    ,    71.97    ,    40.      ,     4.      ],\n",
       "        [  458.685   ,   275.5151  ,   417.032   ,   131.6444  ,\n",
       "            44.35739 ,    84.6745  ,    25.82278 ,    24.01177 ,\n",
       "            10.31885 ,     0.      ,    11.08935 ,     0.      ,\n",
       "             0.      ,     0.      ,     0.      ,     0.      ,\n",
       "            18.62    ,    73.28    ,    70.      ,     2.      ],\n",
       "        [  471.7903  ,   432.0578  ,   407.7646  ,   131.6444  ,\n",
       "            88.71478 ,    84.6745  ,    19.36709 ,    32.01569 ,\n",
       "            20.6377  ,     8.776291,     0.      ,     0.      ,\n",
       "             0.      ,     0.      ,     0.      ,     0.      ,\n",
       "            23.65    ,    57.2     ,    70.      ,     2.      ],\n",
       "        [  517.6588  ,   313.0854  ,   287.2887  ,   105.3155  ,\n",
       "            33.26804 ,    50.8047  ,    38.73418 ,    16.00785 ,\n",
       "            10.31885 ,     0.      ,     0.      ,     0.      ,\n",
       "             0.      ,     0.      ,     0.      ,     0.      ,\n",
       "            28.37    ,    44.66    ,   130.      ,     2.      ],\n",
       "        [  275.211   ,   269.2534  ,   139.0107  ,   149.1969  ,\n",
       "            55.44674 ,    33.8698  ,    12.91139 ,    32.01569 ,\n",
       "             0.      ,    26.32887 ,     0.      ,     0.      ,\n",
       "             0.      ,     0.      ,     0.      ,     0.      ,\n",
       "            30.66    ,    37.12    ,   200.      ,     3.      ],\n",
       "        [  314.5269  ,   187.8512  ,   203.8823  ,    43.88145 ,\n",
       "            88.71478 ,    33.8698  ,     6.455696,     8.003923,\n",
       "             0.      ,     0.      ,     0.      ,     0.      ,\n",
       "             0.      ,     0.      ,     0.      ,     0.      ,\n",
       "            32.63    ,    31.72    ,   190.      ,     3.      ],\n",
       "        [  176.9214  ,   118.9724  ,   129.7433  ,    26.32887 ,\n",
       "            33.26804 ,    25.40235 ,    51.64557 ,    32.01569 ,\n",
       "            20.6377  ,    35.10516 ,    22.1787  ,     0.      ,\n",
       "             0.      ,     0.      ,     0.      ,     0.      ,\n",
       "            29.85    ,    33.64    ,   230.      ,     3.      ],\n",
       "        [  262.1057  ,   219.1598  ,   250.2192  ,   175.5258  ,\n",
       "            44.35739 ,    67.7396  ,    71.01266 ,    40.01961 ,\n",
       "            20.6377  ,     8.776291,     0.      ,    10.31885 ,\n",
       "             0.      ,     0.      ,     0.      ,     0.      ,\n",
       "            30.01    ,    30.62    ,   120.      ,     3.      ],\n",
       "        [  301.4216  ,   219.1598  ,   231.6844  ,    78.98662 ,\n",
       "            66.53609 ,   101.6094  ,    19.36709 ,    24.01177 ,\n",
       "            41.2754  ,     8.776291,    11.08935 ,     0.      ,\n",
       "             0.      ,     0.      ,     0.      ,     0.      ,\n",
       "            30.4     ,    29.4     ,   130.      ,     3.      ],\n",
       "        [  445.5798  ,   338.1322  ,   435.5667  ,   122.8681  ,\n",
       "           133.0722  ,   143.9466  ,    96.83544 ,   104.051   ,\n",
       "            30.95655 ,    35.10516 ,     0.      ,     0.      ,\n",
       "             0.      ,     0.      ,     0.      ,     0.      ,\n",
       "            29.24    ,    33.89    ,    90.      ,     3.      ],\n",
       "        [  275.211   ,   181.5895  ,   231.6844  ,   122.8681  ,\n",
       "            77.62543 ,    42.33725 ,    71.01266 ,    56.02746 ,\n",
       "            72.23196 ,    17.55258 ,    11.08935 ,     0.      ,\n",
       "            12.62925 ,     0.      ,     0.      ,     0.      ,\n",
       "            27.6     ,    37.55    ,   360.      ,     3.      ],\n",
       "        [  642.1591  ,   632.4325  ,   685.7859  ,   175.5258  ,\n",
       "            99.80413 ,    67.7396  ,    71.01266 ,    48.02354 ,\n",
       "            51.59426 ,     8.776291,    11.08935 ,    10.31885 ,\n",
       "             0.      ,     0.      ,     0.      ,     0.      ,\n",
       "            25.82    ,    40.54    ,   150.      ,     4.      ],\n",
       "        [  589.7379  ,   576.0771  ,   509.7057  ,   184.3021  ,\n",
       "            66.53609 ,    59.27215 ,    77.46835 ,    56.02746 ,\n",
       "            10.31885 ,     0.      ,     0.      ,     0.      ,\n",
       "             0.      ,     0.      ,     0.      ,     0.      ,\n",
       "            25.43    ,    41.91    ,   130.      ,     8.      ],\n",
       "        [  380.0533  ,   463.3664  ,   417.032   ,   166.7495  ,\n",
       "            44.35739 ,    42.33725 ,    19.36709 ,    40.01961 ,\n",
       "            10.31885 ,     0.      ,    11.08935 ,     0.      ,\n",
       "             0.      ,     0.      ,     0.      ,    25.69501 ,\n",
       "            24.36    ,    50.46    ,   110.      ,     7.      ],\n",
       "        [  897.7122  ,   576.0771  ,   435.5667  ,   219.4073  ,\n",
       "            66.53609 ,    50.8047  ,    12.91139 ,     8.003923,\n",
       "            10.31885 ,     0.      ,     0.      ,     0.      ,\n",
       "             0.      ,     0.      ,     0.      ,     0.      ,\n",
       "            23.43    ,    54.3     ,    90.      ,     7.      ],\n",
       "        [  249.0005  ,   194.1129  ,   240.9518  ,   122.8681  ,\n",
       "            33.26804 ,    16.9349  ,    51.64557 ,     0.      ,\n",
       "            10.31885 ,     0.      ,    33.26804 ,     0.      ,\n",
       "             0.      ,     0.      ,     0.      ,     0.      ,\n",
       "            22.93    ,    46.82    ,    90.      ,     6.      ],\n",
       "        [  255.5531  ,   206.6364  ,   222.417   ,   114.0918  ,\n",
       "            66.53609 ,    16.9349  ,    25.82278 ,    32.01569 ,\n",
       "            10.31885 ,     8.776291,    11.08935 ,     0.      ,\n",
       "             0.      ,     0.      ,     0.      ,     0.      ,\n",
       "            21.73    ,    50.12    ,    80.      ,     6.      ],\n",
       "        [ 1421.924   ,   726.3581  ,   509.7057  ,   219.4073  ,\n",
       "           110.8935  ,   110.0768  ,    19.36709 ,     8.003923,\n",
       "             0.      ,     8.776291,     0.      ,     0.      ,\n",
       "             0.      ,     0.      ,     0.      ,     0.      ,\n",
       "            20.85    ,    53.08    ,   290.      ,     3.      ],\n",
       "        [  327.6322  ,   288.0386  ,   361.4277  ,   175.5258  ,\n",
       "            44.35739 ,    59.27215 ,    38.73418 ,     8.003923,\n",
       "             0.      ,     8.776291,     0.      ,    10.31885 ,\n",
       "             0.      ,     0.      ,     0.      ,     0.      ,\n",
       "            20.02    ,    57.38    ,    60.      ,     7.      ],\n",
       "        [  812.5278  ,  1014.397   ,   936.0051  ,   263.2887  ,\n",
       "           199.6083  ,   169.349   ,    45.18987 ,    24.01177 ,\n",
       "            10.31885 ,     0.      ,     0.      ,     0.      ,\n",
       "             0.      ,     0.      ,     0.      ,    25.69501 ,\n",
       "            18.96    ,    67.39    ,    50.      ,     7.      ]])]"
      ]
     },
     "execution_count": 70,
     "metadata": {},
     "output_type": "execute_result"
    }
   ],
   "source": [
    "X_train[:2]"
   ]
  },
  {
   "cell_type": "code",
   "execution_count": 80,
   "metadata": {
    "collapsed": true
   },
   "outputs": [],
   "source": [
    "import pickle"
   ]
  },
  {
   "cell_type": "code",
   "execution_count": 81,
   "metadata": {
    "collapsed": true
   },
   "outputs": [],
   "source": [
    "dic = {'X_train':X_train,\"X_test\":X_test, \"y_train\":y_train, \"y_test\":y_test }\n",
    "pickle.dump(dic,open(\"lstm_xy.p\",'w'))"
   ]
  }
 ],
 "metadata": {
  "kernelspec": {
   "display_name": "Python 2",
   "language": "python",
   "name": "python2"
  },
  "language_info": {
   "codemirror_mode": {
    "name": "ipython",
    "version": 2
   },
   "file_extension": ".py",
   "mimetype": "text/x-python",
   "name": "python",
   "nbconvert_exporter": "python",
   "pygments_lexer": "ipython2",
   "version": "2.7.13"
  }
 },
 "nbformat": 4,
 "nbformat_minor": 2
}
