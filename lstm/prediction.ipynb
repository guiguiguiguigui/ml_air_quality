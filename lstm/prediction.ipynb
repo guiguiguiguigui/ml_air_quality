{
 "cells": [
  {
   "cell_type": "code",
   "execution_count": 13,
   "metadata": {
    "collapsed": true
   },
   "outputs": [],
   "source": [
    "import pandas as pd\n",
    "import numpy as np\n",
    "import matplotlib.pyplot as plt\n",
    "from collections import Counter\n",
    "\n",
    "\n",
    "from sklearn.model_selection import train_test_split\n",
    "from sklearn.utils import shuffle\n",
    "from scipy.io import savemat"
   ]
  },
  {
   "cell_type": "code",
   "execution_count": 2,
   "metadata": {},
   "outputs": [],
   "source": [
    "from os import listdir"
   ]
  },
  {
   "cell_type": "code",
   "execution_count": 6,
   "metadata": {},
   "outputs": [],
   "source": [
    "pickles = [\"../pickles/\" + x for x in listdir(\"../pickles\") if x[-1]=='p']"
   ]
  },
  {
   "cell_type": "code",
   "execution_count": 2,
   "metadata": {
    "collapsed": true
   },
   "outputs": [],
   "source": [
    "p = \"pickles/kibera_sub.p\""
   ]
  },
  {
   "cell_type": "code",
   "execution_count": 8,
   "metadata": {
    "collapsed": true
   },
   "outputs": [],
   "source": [
    "polution_date_all = []\n",
    "X = []\n",
    "Y = []\n",
    "features = ['d0', 'd1', 'd2', 'd3', 'd4',\n",
    "       'd5', 'd6', 'd7', 'd8', 'd9', 'd10', 'd11', 'd12', 'd13', 'd14',\n",
    "       'd15', 'temp','humidity','dir_(degrees)', 'spd_(m/s)']"
   ]
  },
  {
   "cell_type": "code",
   "execution_count": null,
   "metadata": {
    "collapsed": true
   },
   "outputs": [],
   "source": [
    "def make_df(p):\n",
    "    alliance = pd.read_pickle(p)\n",
    "    alliance['d'] = pd.to_datetime(alliance['d'])\n",
    "    pm25 = alliance.groupby(alliance['dt'].dt.date)['pm25'].mean()\n",
    "    pm10 = alliance.groupby(alliance['dt'].dt.date)['pm10'].mean()\n",
    "    polution_dates = set(pm25[pm25>25].index.values).union(set(pm10[pm10>100].index.values))\n",
    "    polution_dates = set([pd.to_datetime(x).date() for x in polution_dates])\n",
    "    polution_date_all.append(polution_dates)\n",
    "    print(len(polution_dates))\n",
    "    grouped = alliance.groupby(alliance['dt'].dt.date)\n",
    "    \n",
    "    \n",
    "    for name, group in grouped:\n",
    "        group['hour_x'] = group['dt'].dt.hour\n",
    "        group = group.drop_duplicates(['hour_x'])\n",
    "\n",
    "        group = group.set_index('hour_x')\n",
    "\n",
    "        if len(group) < 18:\n",
    "            print pd.to_datetime(name).date()\n",
    "            print len(group)\n",
    "            continue\n",
    "\n",
    "        group = group[features]\n",
    "        group = group.reindex(range(24))\n",
    "        group = group.fillna(method='pad')\n",
    "        group = group.fillna(method='bfill')\n",
    "\n",
    "        X.append(group.as_matrix())\n",
    "        if pd.to_datetime(name).date() in polution_dates:\n",
    "            Y.append(1)\n",
    "            #print pd.to_datetime(name).date()\n",
    "        else:\n",
    "            Y.append(0)\n",
    "    \n",
    "    "
   ]
  },
  {
   "cell_type": "code",
   "execution_count": 3,
   "metadata": {
    "collapsed": true
   },
   "outputs": [],
   "source": [
    "alliance = pd.read_pickle(p)"
   ]
  },
  {
   "cell_type": "code",
   "execution_count": 4,
   "metadata": {
    "collapsed": true
   },
   "outputs": [],
   "source": [
    "alliance['d'] = pd.to_datetime(alliance['d'])"
   ]
  },
  {
   "cell_type": "code",
   "execution_count": 5,
   "metadata": {},
   "outputs": [
    {
     "data": {
      "text/plain": [
       "array(['Unnamed: 0', 'd', 't', 'date_x', 'no2', 'o3', 'no', 'so2', 'temp',\n",
       "       'humidity', 'pm1', 'pm25', 'pm10', 'bin0', 'bin1', 'bin2', 'bin3',\n",
       "       'bin4', 'bin5', 'bin6', 'bin7', 'bin8', 'bin9', 'bin10', 'bin11',\n",
       "       'bin12', 'bin13', 'bin14', 'bin15', 'd0', 'd1', 'd2', 'd3', 'd4',\n",
       "       'd5', 'd6', 'd7', 'd8', 'd9', 'd10', 'd11', 'd12', 'd13', 'd14',\n",
       "       'd15', 'dt', 'date_y', 'nsec', 'altm_(hpa)', 'temp (degree_c)',\n",
       "       'dew (degree_c)', 'rh_(percentage)', 'dir_(degrees)', 'spd_(m/s)',\n",
       "       'vis (km)', 'clouds (====)'], dtype=object)"
      ]
     },
     "execution_count": 5,
     "metadata": {},
     "output_type": "execute_result"
    }
   ],
   "source": [
    "alliance.columns.values"
   ]
  },
  {
   "cell_type": "code",
   "execution_count": 23,
   "metadata": {
    "collapsed": true
   },
   "outputs": [],
   "source": [
    "pm25 = alliance.groupby(alliance['dt'].dt.date)['pm25'].mean()"
   ]
  },
  {
   "cell_type": "code",
   "execution_count": 7,
   "metadata": {},
   "outputs": [
    {
     "data": {
      "text/plain": [
       "(249, 73)"
      ]
     },
     "execution_count": 7,
     "metadata": {},
     "output_type": "execute_result"
    }
   ],
   "source": [
    "len(pm25), len(pm25[pm25>25])"
   ]
  },
  {
   "cell_type": "code",
   "execution_count": 22,
   "metadata": {
    "collapsed": true
   },
   "outputs": [],
   "source": [
    "pm10 = alliance.groupby(alliance['dt'].dt.date)['pm10'].mean()"
   ]
  },
  {
   "cell_type": "code",
   "execution_count": 9,
   "metadata": {},
   "outputs": [
    {
     "data": {
      "text/plain": [
       "(249, 8)"
      ]
     },
     "execution_count": 9,
     "metadata": {},
     "output_type": "execute_result"
    }
   ],
   "source": [
    "len(pm10), len(pm10[pm10>100])"
   ]
  },
  {
   "cell_type": "code",
   "execution_count": 10,
   "metadata": {
    "collapsed": true
   },
   "outputs": [
    {
     "data": {
      "text/plain": [
       "d\n",
       "2016-01-06    26.787619\n",
       "2016-01-07    25.248095\n",
       "2016-01-09    27.730000\n",
       "2016-01-10    26.187500\n",
       "2016-02-06    26.582414\n",
       "2016-02-08    27.608000\n",
       "2016-02-09    45.528000\n",
       "2016-03-09    44.701702\n",
       "2016-04-06    38.355000\n",
       "2016-05-07    27.114706\n",
       "2016-05-08    30.022000\n",
       "2016-05-23    34.773636\n",
       "2016-05-24    30.735000\n",
       "2016-05-25    28.948929\n",
       "2016-05-27    50.521053\n",
       "2016-05-28    30.304828\n",
       "2016-05-31    35.993333\n",
       "2016-06-06    35.198571\n",
       "2016-06-07    63.118889\n",
       "2016-06-08    39.922500\n",
       "2016-06-09    26.238966\n",
       "2016-06-13    31.312400\n",
       "2016-06-15    42.070938\n",
       "2016-06-17    37.602222\n",
       "2016-06-18    38.268500\n",
       "2016-06-20    28.439104\n",
       "2016-06-21    25.995185\n",
       "2016-06-22    26.751739\n",
       "2016-06-23    26.657143\n",
       "2016-06-24    49.473750\n",
       "                ...    \n",
       "2016-07-27    45.645000\n",
       "2016-07-29    27.698621\n",
       "2016-07-30    28.902105\n",
       "2016-08-06    25.926538\n",
       "2016-08-13    35.804516\n",
       "2016-08-16    29.172258\n",
       "2016-08-17    25.946400\n",
       "2016-08-18    56.073125\n",
       "2016-08-21    25.850741\n",
       "2016-08-26    30.140833\n",
       "2016-08-27    35.593636\n",
       "2016-08-28    26.288214\n",
       "2016-08-29    45.199143\n",
       "2016-08-31    44.530345\n",
       "2016-09-05    25.657188\n",
       "2016-09-07    29.160333\n",
       "2016-09-09    25.429545\n",
       "2016-09-14    33.417778\n",
       "2016-09-21    30.537778\n",
       "2016-09-25    26.493333\n",
       "2016-09-26    34.245185\n",
       "2016-09-27    31.044444\n",
       "2016-10-09    27.104348\n",
       "2016-10-12    38.261875\n",
       "2016-10-20    27.309143\n",
       "2016-10-22    30.041364\n",
       "2016-11-05    32.822500\n",
       "2016-11-06    27.600312\n",
       "2016-12-07    40.171724\n",
       "2016-12-14    28.526250\n",
       "Name: pm25, Length: 73, dtype: float64"
      ]
     },
     "execution_count": 10,
     "metadata": {},
     "output_type": "execute_result"
    }
   ],
   "source": [
    "pm25[pm25>25]"
   ]
  },
  {
   "cell_type": "code",
   "execution_count": 11,
   "metadata": {
    "collapsed": true
   },
   "outputs": [
    {
     "data": {
      "text/plain": [
       "d\n",
       "2016-02-08    114.842000\n",
       "2016-06-15    129.880000\n",
       "2016-07-06    121.768696\n",
       "2016-07-23    117.365000\n",
       "2016-07-24    156.142500\n",
       "2016-07-27    107.644167\n",
       "2016-08-18    119.978125\n",
       "2016-08-29    103.630571\n",
       "Name: pm10, dtype: float64"
      ]
     },
     "execution_count": 11,
     "metadata": {},
     "output_type": "execute_result"
    }
   ],
   "source": [
    "pm10[pm10>100]"
   ]
  },
  {
   "cell_type": "code",
   "execution_count": 12,
   "metadata": {
    "collapsed": true
   },
   "outputs": [],
   "source": [
    "both = alliance.groupby(['d'])['pm10','pm25'].mean()"
   ]
  },
  {
   "cell_type": "code",
   "execution_count": 25,
   "metadata": {
    "collapsed": true
   },
   "outputs": [],
   "source": [
    "polution_dates = set(pm25[pm25>25].index.values).union(set(pm10[pm10>100].index.values))\n",
    "polution_dates = set([pd.to_datetime(x).date() for x in polution_dates])"
   ]
  },
  {
   "cell_type": "code",
   "execution_count": 26,
   "metadata": {
    "collapsed": true
   },
   "outputs": [
    {
     "data": {
      "text/plain": [
       "{datetime.date(2016, 5, 9),\n",
       " datetime.date(2016, 5, 11),\n",
       " datetime.date(2016, 5, 23),\n",
       " datetime.date(2016, 5, 24),\n",
       " datetime.date(2016, 5, 25),\n",
       " datetime.date(2016, 5, 27),\n",
       " datetime.date(2016, 5, 28),\n",
       " datetime.date(2016, 5, 31),\n",
       " datetime.date(2016, 6, 1),\n",
       " datetime.date(2016, 6, 2),\n",
       " datetime.date(2016, 6, 4),\n",
       " datetime.date(2016, 6, 6),\n",
       " datetime.date(2016, 6, 7),\n",
       " datetime.date(2016, 6, 8),\n",
       " datetime.date(2016, 6, 11),\n",
       " datetime.date(2016, 6, 13),\n",
       " datetime.date(2016, 6, 15),\n",
       " datetime.date(2016, 6, 17),\n",
       " datetime.date(2016, 6, 18),\n",
       " datetime.date(2016, 6, 20),\n",
       " datetime.date(2016, 6, 21),\n",
       " datetime.date(2016, 6, 22),\n",
       " datetime.date(2016, 6, 23),\n",
       " datetime.date(2016, 6, 24),\n",
       " datetime.date(2016, 6, 25),\n",
       " datetime.date(2016, 6, 27),\n",
       " datetime.date(2016, 6, 28),\n",
       " datetime.date(2016, 7, 1),\n",
       " datetime.date(2016, 7, 5),\n",
       " datetime.date(2016, 7, 6),\n",
       " datetime.date(2016, 7, 7),\n",
       " datetime.date(2016, 7, 8),\n",
       " datetime.date(2016, 7, 9),\n",
       " datetime.date(2016, 7, 12),\n",
       " datetime.date(2016, 7, 13),\n",
       " datetime.date(2016, 7, 14),\n",
       " datetime.date(2016, 7, 15),\n",
       " datetime.date(2016, 7, 16),\n",
       " datetime.date(2016, 7, 18),\n",
       " datetime.date(2016, 7, 22),\n",
       " datetime.date(2016, 7, 23),\n",
       " datetime.date(2016, 7, 24),\n",
       " datetime.date(2016, 7, 27),\n",
       " datetime.date(2016, 7, 29),\n",
       " datetime.date(2016, 7, 30),\n",
       " datetime.date(2016, 8, 2),\n",
       " datetime.date(2016, 8, 5),\n",
       " datetime.date(2016, 8, 6),\n",
       " datetime.date(2016, 8, 13),\n",
       " datetime.date(2016, 8, 16),\n",
       " datetime.date(2016, 8, 17),\n",
       " datetime.date(2016, 8, 18),\n",
       " datetime.date(2016, 8, 21),\n",
       " datetime.date(2016, 8, 26),\n",
       " datetime.date(2016, 8, 27),\n",
       " datetime.date(2016, 8, 28),\n",
       " datetime.date(2016, 8, 29),\n",
       " datetime.date(2016, 8, 31),\n",
       " datetime.date(2016, 9, 1),\n",
       " datetime.date(2016, 9, 2),\n",
       " datetime.date(2016, 9, 3),\n",
       " datetime.date(2016, 9, 6),\n",
       " datetime.date(2016, 9, 7),\n",
       " datetime.date(2016, 9, 9),\n",
       " datetime.date(2016, 9, 10),\n",
       " datetime.date(2016, 9, 14),\n",
       " datetime.date(2016, 9, 21),\n",
       " datetime.date(2016, 9, 25),\n",
       " datetime.date(2016, 9, 26),\n",
       " datetime.date(2016, 9, 27),\n",
       " datetime.date(2016, 10, 1),\n",
       " datetime.date(2016, 10, 20),\n",
       " datetime.date(2016, 10, 22),\n",
       " datetime.date(2016, 12, 10),\n",
       " datetime.date(2016, 12, 14)}"
      ]
     },
     "execution_count": 26,
     "metadata": {},
     "output_type": "execute_result"
    }
   ],
   "source": [
    "polution_dates"
   ]
  },
  {
   "cell_type": "code",
   "execution_count": 27,
   "metadata": {},
   "outputs": [
    {
     "data": {
      "text/plain": [
       "75"
      ]
     },
     "execution_count": 27,
     "metadata": {},
     "output_type": "execute_result"
    }
   ],
   "source": [
    "len(polution_dates)"
   ]
  },
  {
   "cell_type": "code",
   "execution_count": 15,
   "metadata": {
    "collapsed": true
   },
   "outputs": [],
   "source": [
    "grouped = alliance.groupby(alliance['dt'].dt.date)"
   ]
  },
  {
   "cell_type": "code",
   "execution_count": 16,
   "metadata": {
    "collapsed": true
   },
   "outputs": [],
   "source": [
    "features = ['d0', 'd1', 'd2', 'd3', 'd4',\n",
    "       'd5', 'd6', 'd7', 'd8', 'd9', 'd10', 'd11', 'd12', 'd13', 'd14',\n",
    "       'd15', 'temp','humidity','dir_(degrees)', 'spd_(m/s)']"
   ]
  },
  {
   "cell_type": "code",
   "execution_count": 37,
   "metadata": {
    "collapsed": true
   },
   "outputs": [],
   "source": [
    "X = []\n",
    "Y = []"
   ]
  },
  {
   "cell_type": "code",
   "execution_count": 49,
   "metadata": {
    "scrolled": true
   },
   "outputs": [
    {
     "name": "stderr",
     "output_type": "stream",
     "text": [
      "/usr/local/lib/python2.7/site-packages/ipykernel_launcher.py:5: SettingWithCopyWarning: \n",
      "A value is trying to be set on a copy of a slice from a DataFrame.\n",
      "Try using .loc[row_indexer,col_indexer] = value instead\n",
      "\n",
      "See the caveats in the documentation: http://pandas.pydata.org/pandas-docs/stable/indexing.html#indexing-view-versus-copy\n",
      "  \"\"\"\n"
     ]
    },
    {
     "name": "stdout",
     "output_type": "stream",
     "text": [
      "2016-05-06\n",
      "2\n",
      "2016-05-29\n",
      "16\n",
      "2016-05-30\n",
      "13\n",
      "2016-06-06\n",
      "17\n",
      "2016-06-15\n",
      "15\n",
      "2016-06-16\n",
      "11\n",
      "2016-06-18\n",
      "17\n",
      "2016-06-28\n",
      "16\n",
      "2016-07-01\n",
      "15\n",
      "2016-07-05\n",
      "13\n",
      "2016-07-06\n",
      "13\n",
      "2016-07-15\n",
      "15\n",
      "2016-07-19\n",
      "17\n",
      "2016-07-23\n",
      "11\n",
      "2016-07-24\n",
      "4\n",
      "2016-07-25\n",
      "13\n",
      "2016-07-26\n",
      "9\n",
      "2016-07-27\n",
      "11\n",
      "2016-07-28\n",
      "13\n",
      "2016-08-01\n",
      "14\n",
      "2016-08-02\n",
      "9\n",
      "2016-08-03\n",
      "15\n",
      "2016-08-10\n",
      "17\n",
      "2016-08-11\n",
      "17\n",
      "2016-08-18\n",
      "11\n",
      "2016-08-20\n",
      "13\n",
      "2016-08-21\n",
      "17\n",
      "2016-08-25\n",
      "17\n",
      "2016-08-26\n",
      "11\n",
      "2016-09-11\n",
      "16\n",
      "2016-09-12\n",
      "15\n",
      "2016-09-13\n",
      "16\n",
      "2016-09-16\n",
      "15\n",
      "2016-09-20\n",
      "16\n",
      "2016-09-21\n",
      "16\n",
      "2016-09-23\n",
      "14\n",
      "2016-10-01\n",
      "15\n",
      "2016-10-03\n",
      "15\n",
      "2016-10-11\n",
      "16\n",
      "2016-10-12\n",
      "15\n",
      "2016-10-13\n",
      "12\n",
      "2016-10-14\n",
      "15\n",
      "2016-10-15\n",
      "17\n",
      "2016-10-16\n",
      "11\n",
      "2016-10-17\n",
      "12\n",
      "2016-10-19\n",
      "8\n",
      "2016-10-30\n",
      "17\n",
      "2016-11-23\n",
      "17\n",
      "2016-12-05\n",
      "17\n",
      "2016-12-06\n",
      "11\n",
      "2016-12-15\n",
      "13\n",
      "2016-12-19\n",
      "11\n",
      "2016-12-20\n",
      "12\n",
      "2016-12-24\n",
      "17\n",
      "2016-12-27\n",
      "11\n",
      "2016-12-28\n",
      "15\n",
      "2017-01-03\n",
      "13\n",
      "2017-01-04\n",
      "7\n",
      "2017-01-05\n",
      "17\n",
      "2017-01-06\n",
      "15\n",
      "2017-01-07\n",
      "14\n",
      "2017-01-08\n",
      "14\n",
      "2017-01-09\n",
      "11\n",
      "2017-01-10\n",
      "5\n"
     ]
    }
   ],
   "source": [
    "X = []\n",
    "Y = []\n",
    "counter = 0\n",
    "for name, group in grouped:\n",
    "    group['hour_x'] = group['dt'].dt.hour\n",
    "    group = group.drop_duplicates(['hour_x'])\n",
    "   \n",
    "    group = group.set_index('hour_x')\n",
    "\n",
    "    if len(group) < 18:\n",
    "        print pd.to_datetime(name).date()\n",
    "        print len(group)\n",
    "        continue\n",
    "\n",
    "    group = group[features]\n",
    "    group = group.reindex(range(24))\n",
    "    group = group.fillna(method='pad')\n",
    "    group = group.fillna(method='bfill')\n",
    "            \n",
    "    X.append(group.as_matrix())\n",
    "    if pd.to_datetime(name).date() in polution_dates:\n",
    "        Y.append(1)\n",
    "        #print pd.to_datetime(name).date()\n",
    "    else:\n",
    "        Y.append(0)\n",
    "    "
   ]
  },
  {
   "cell_type": "code",
   "execution_count": 50,
   "metadata": {},
   "outputs": [
    {
     "data": {
      "text/plain": [
       "58"
      ]
     },
     "execution_count": 50,
     "metadata": {},
     "output_type": "execute_result"
    }
   ],
   "source": [
    "sum(Y)"
   ]
  },
  {
   "cell_type": "code",
   "execution_count": 41,
   "metadata": {
    "collapsed": true
   },
   "outputs": [],
   "source": [
    "features = ['d0', 'd1', 'd2', 'd3', 'd4',\n",
    "       'd5', 'd6', 'd7', 'd8', 'd9', 'd10', 'd11', 'd12', 'd13', 'd14',\n",
    "       'd15', 'temp','humidity','dir_(degrees)', 'spd_(m/s)']\n",
    "\n",
    "\n",
    "def make_x_y(pickle):\n",
    "    pos = 0\n",
    "    neg = 0\n",
    "    alliance = pd.read_pickle(pickle)\n",
    "    alliance['d'] = pd.to_datetime(alliance['d'])\n",
    "    pm25 = alliance.groupby(alliance['dt'].dt.date)['pm25'].mean()\n",
    "    pm10 = alliance.groupby(alliance['dt'].dt.date)['pm10'].mean()\n",
    "    polution_dates = set(pm25[pm25>20].index.values).union(set(pm10[pm10>100].index.values))\n",
    "    polution_dates = set([pd.to_datetime(x).date() for x in polution_dates])\n",
    "    \n",
    "    grouped = alliance.groupby(alliance['dt'].dt.date)\n",
    "    \n",
    "    for name, group in grouped:\n",
    "        group['hour_x'] = group['dt'].dt.hour\n",
    "        group = group.drop_duplicates(['hour_x'])\n",
    "\n",
    "        group = group.set_index('hour_x')\n",
    "\n",
    "        if len(group) < 18:\n",
    "            #print pd.to_datetime(name).date()\n",
    "            #print len(group)\n",
    "            continue\n",
    "\n",
    "        group = group[features]\n",
    "        group = group.reindex(range(24))\n",
    "        group = group.fillna(method='pad')\n",
    "        group = group.fillna(method='bfill')\n",
    "\n",
    "        X.append(group.as_matrix())\n",
    "        if pd.to_datetime(name).date() in polution_dates:\n",
    "            Y.append(1)\n",
    "            pos += 1\n",
    "            #print pd.to_datetime(name).date()\n",
    "        else:\n",
    "            Y.append(0)\n",
    "            neg += 1\n",
    "            \n",
    "    \n",
    "    print(pos,neg)\n",
    "    print \"finished %s\" %pickle\n",
    "    "
   ]
  },
  {
   "cell_type": "code",
   "execution_count": 42,
   "metadata": {},
   "outputs": [
    {
     "name": "stderr",
     "output_type": "stream",
     "text": [
      "/usr/local/lib/python2.7/site-packages/ipykernel_launcher.py:19: SettingWithCopyWarning: \n",
      "A value is trying to be set on a copy of a slice from a DataFrame.\n",
      "Try using .loc[row_indexer,col_indexer] = value instead\n",
      "\n",
      "See the caveats in the documentation: http://pandas.pydata.org/pandas-docs/stable/indexing.html#indexing-view-versus-copy\n"
     ]
    },
    {
     "name": "stdout",
     "output_type": "stream",
     "text": [
      "(100, 85)\n",
      "finished ../pickles/kibera_sub.p\n",
      "(43, 140)\n",
      "finished ../pickles/scholastica_sub.p\n",
      "(40, 124)\n",
      "finished ../pickles/alliance_sub.p\n"
     ]
    }
   ],
   "source": [
    "#pickles = [\"kibera_sub.p\", \"scholastica_sub.p\",\"unep_sub.p\",\"alliance_sub.p\",  \"allsaints_sub.p\"]\n",
    "X = []\n",
    "Y = []\n",
    "pickles = [\"kibera_sub.p\", \"scholastica_sub.p\",\"alliance_sub.p\"]\n",
    "for p in pickles:\n",
    "    p = \"../pickles/\"+p\n",
    "    make_x_y(p)"
   ]
  },
  {
   "cell_type": "code",
   "execution_count": 50,
   "metadata": {
    "collapsed": true
   },
   "outputs": [],
   "source": [
    "neg_index = []\n",
    "pos_index = []\n",
    "\n",
    "for i,y in enumerate(Y):\n",
    "    if y==0:\n",
    "        neg_index.append(i)\n",
    "    else:\n",
    "        pos_index.append(i)"
   ]
  },
  {
   "cell_type": "code",
   "execution_count": 44,
   "metadata": {},
   "outputs": [
    {
     "data": {
      "text/plain": [
       "183"
      ]
     },
     "execution_count": 44,
     "metadata": {},
     "output_type": "execute_result"
    }
   ],
   "source": [
    "len(pos_index)"
   ]
  },
  {
   "cell_type": "code",
   "execution_count": 45,
   "metadata": {},
   "outputs": [
    {
     "data": {
      "text/plain": [
       "349"
      ]
     },
     "execution_count": 45,
     "metadata": {},
     "output_type": "execute_result"
    }
   ],
   "source": [
    "len(neg_index)"
   ]
  },
  {
   "cell_type": "code",
   "execution_count": 52,
   "metadata": {
    "collapsed": true
   },
   "outputs": [],
   "source": [
    "X_train, X_test, y_train, y_test = train_test_split(X, Y, test_size=0.20, random_state=42)"
   ]
  },
  {
   "cell_type": "code",
   "execution_count": 53,
   "metadata": {},
   "outputs": [
    {
     "data": {
      "text/plain": [
       "[array([[  301.4216  ,   313.0854  ,   342.8929  ,   193.0784  ,\n",
       "            77.62543 ,   110.0768  ,    32.27848 ,     0.      ,\n",
       "             0.      ,     8.776291,     0.      ,     0.      ,\n",
       "             0.      ,     0.      ,     0.      ,     0.      ,\n",
       "            19.43    ,    69.8     ,    50.      ,     3.      ],\n",
       "        [  301.4216  ,   313.0854  ,   342.8929  ,   193.0784  ,\n",
       "            77.62543 ,   110.0768  ,    32.27848 ,     0.      ,\n",
       "             0.      ,     8.776291,     0.      ,     0.      ,\n",
       "             0.      ,     0.      ,     0.      ,     0.      ,\n",
       "            19.43    ,    69.8     ,    50.      ,     3.      ],\n",
       "        [  334.1848  ,   313.0854  ,   454.1015  ,   236.9599  ,\n",
       "           166.3402  ,    84.6745  ,    38.73418 ,    16.00785 ,\n",
       "            10.31885 ,     8.776291,     0.      ,     0.      ,\n",
       "             0.      ,     0.      ,     0.      ,     0.      ,\n",
       "            18.69    ,    72.28    ,    50.      ,     4.      ],\n",
       "        [  334.1848  ,   313.0854  ,   454.1015  ,   236.9599  ,\n",
       "           166.3402  ,    84.6745  ,    38.73418 ,    16.00785 ,\n",
       "            10.31885 ,     8.776291,     0.      ,     0.      ,\n",
       "             0.      ,     0.      ,     0.      ,     0.      ,\n",
       "            18.69    ,    72.28    ,    50.      ,     4.      ],\n",
       "        [  688.0276  ,   563.5537  ,   463.3689  ,   289.6176  ,\n",
       "            99.80413 ,    59.27215 ,    25.82278 ,     0.      ,\n",
       "            20.6377  ,     8.776291,     0.      ,     0.      ,\n",
       "             0.      ,     0.      ,     0.      ,     0.      ,\n",
       "            18.22    ,    77.86    ,   360.      ,     3.      ],\n",
       "        [  688.0276  ,   676.2644  ,   593.1121  ,   289.6176  ,\n",
       "           199.6083  ,   143.9466  ,    51.64557 ,    24.01177 ,\n",
       "            61.91311 ,     0.      ,     0.      ,     0.      ,\n",
       "             0.      ,     0.      ,     0.      ,     0.      ,\n",
       "            19.33    ,    74.23    ,    20.      ,     3.      ],\n",
       "        [ 1251.555   ,  1145.893   ,   796.9944  ,   333.4991  ,\n",
       "           188.5189  ,   101.6094  ,   122.6582  ,    72.03531 ,\n",
       "            41.2754  ,     8.776291,     0.      ,     0.      ,\n",
       "             0.      ,     0.      ,     0.      ,     0.      ,\n",
       "            20.92    ,    68.28    ,    50.      ,     2.      ],\n",
       "        [  517.6588  ,   676.2644  ,   528.2405  ,   201.8547  ,\n",
       "            66.53609 ,    59.27215 ,    45.18987 ,    24.01177 ,\n",
       "            20.6377  ,    26.32887 ,     0.      ,     0.      ,\n",
       "             0.      ,     0.      ,     0.      ,     0.      ,\n",
       "            24.59    ,    55.06    ,    60.      ,     2.      ],\n",
       "        [  779.7646  ,   638.6942  ,   630.1816  ,   166.7495  ,\n",
       "           144.1615  ,    84.6745  ,    64.55696 ,    24.01177 ,\n",
       "            20.6377  ,    35.10516 ,     0.      ,     0.      ,\n",
       "             0.      ,     0.      ,     0.      ,     0.      ,\n",
       "            27.51    ,    47.71    ,    80.      ,     4.      ],\n",
       "        [  779.7646  ,   638.6942  ,   630.1816  ,   166.7495  ,\n",
       "           144.1615  ,    84.6745  ,    64.55696 ,    24.01177 ,\n",
       "            20.6377  ,    35.10516 ,     0.      ,     0.      ,\n",
       "             0.      ,     0.      ,     0.      ,     0.      ,\n",
       "            27.51    ,    47.71    ,    80.      ,     4.      ],\n",
       "        [  779.7646  ,   638.6942  ,   630.1816  ,   166.7495  ,\n",
       "           144.1615  ,    84.6745  ,    64.55696 ,    24.01177 ,\n",
       "            20.6377  ,    35.10516 ,     0.      ,     0.      ,\n",
       "             0.      ,     0.      ,     0.      ,     0.      ,\n",
       "            27.51    ,    47.71    ,    80.      ,     4.      ],\n",
       "        [ 1087.739   ,   720.0964  ,   583.8448  ,   149.1969  ,\n",
       "           144.1615  ,    59.27215 ,    45.18987 ,    24.01177 ,\n",
       "            10.31885 ,    17.55258 ,     0.      ,     0.      ,\n",
       "             0.      ,     0.      ,     0.      ,     0.      ,\n",
       "            28.44    ,    39.41    ,    40.      ,     5.      ],\n",
       "        [  373.5007  ,   313.0854  ,   333.6256  ,   122.8681  ,\n",
       "            55.44674 ,    59.27215 ,    77.46835 ,    16.00785 ,\n",
       "             0.      ,     0.      ,     0.      ,     0.      ,\n",
       "             0.      ,     0.      ,     0.      ,     0.      ,\n",
       "            28.62    ,    37.      ,    70.      ,     5.      ],\n",
       "        [  393.1586  ,   450.843   ,   472.6362  ,   175.5258  ,\n",
       "            77.62543 ,   101.6094  ,    25.82278 ,    24.01177 ,\n",
       "             0.      ,     8.776291,    11.08935 ,     0.      ,\n",
       "             0.      ,     0.      ,     0.      ,     0.      ,\n",
       "            28.48    ,    36.42    ,    40.      ,     5.      ],\n",
       "        [  439.0271  ,   375.7025  ,   296.5561  ,   175.5258  ,\n",
       "            77.62543 ,    93.14195 ,    71.01266 ,    24.01177 ,\n",
       "            51.59426 ,    52.65775 ,     0.      ,     0.      ,\n",
       "             0.      ,     0.      ,    17.24377 ,     0.      ,\n",
       "            27.24    ,    40.05    ,    40.      ,     5.      ],\n",
       "        [  707.6855  ,   676.2644  ,   583.8448  ,   280.8413  ,\n",
       "           166.3402  ,    59.27215 ,    83.92405 ,    40.01961 ,\n",
       "             0.      ,     8.776291,     0.      ,    10.31885 ,\n",
       "            12.62925 ,     0.      ,     0.      ,     0.      ,\n",
       "            25.94    ,    44.23    ,    60.      ,     5.      ],\n",
       "        [  897.7122  ,   845.3305  ,   787.727   ,   228.1836  ,\n",
       "           177.4296  ,   118.5443  ,   116.2025  ,    40.01961 ,\n",
       "            10.31885 ,     0.      ,     0.      ,    20.6377  ,\n",
       "             0.      ,     0.      ,     0.      ,     0.      ,\n",
       "            24.85    ,    44.26    ,    60.      ,     7.      ],\n",
       "        [ 1631.608   ,  1496.548   ,  1297.433   ,   298.3939  ,\n",
       "           133.0722  ,   110.0768  ,   103.2911  ,    40.01961 ,\n",
       "            20.6377  ,    26.32887 ,     0.      ,     0.      ,\n",
       "             0.      ,     0.      ,     0.      ,     0.      ,\n",
       "            23.58    ,    49.69    ,    50.      ,     8.      ],\n",
       "        [ 1258.108   ,  1133.369   ,  1102.818   ,   342.2753  ,\n",
       "           177.4296  ,   101.6094  ,    32.27848 ,    32.01569 ,\n",
       "            41.2754  ,     0.      ,     0.      ,     0.      ,\n",
       "             0.      ,     0.      ,     0.      ,    25.69501 ,\n",
       "            23.08    ,    51.01    ,    80.      ,     9.      ],\n",
       "        [ 1054.976   ,  1095.799   ,   973.0746  ,   394.9331  ,\n",
       "           199.6083  ,   135.4792  ,    71.01266 ,    48.02354 ,\n",
       "            61.91311 ,    17.55258 ,     0.      ,    20.6377  ,\n",
       "             0.      ,     0.      ,     0.      ,     0.      ,\n",
       "            22.29    ,    54.21    ,    80.      ,     8.      ],\n",
       "        [  458.685   ,   563.5537  ,   509.7057  ,   122.8681  ,\n",
       "            33.26804 ,    33.8698  ,    71.01266 ,    24.01177 ,\n",
       "             0.      ,     8.776291,     0.      ,     0.      ,\n",
       "             0.      ,     0.      ,     0.      ,     0.      ,\n",
       "            21.69    ,    57.38    ,    80.      ,     9.      ],\n",
       "        [  294.869   ,   306.8237  ,   305.8234  ,   140.4207  ,\n",
       "            77.62543 ,    59.27215 ,    38.73418 ,    24.01177 ,\n",
       "            10.31885 ,     0.      ,     0.      ,     0.      ,\n",
       "            12.62925 ,     0.      ,     0.      ,     0.      ,\n",
       "            21.39    ,    59.09    ,    80.      ,     7.      ],\n",
       "        [  504.5536  ,   532.2452  ,   463.3689  ,   157.9732  ,\n",
       "           110.8935  ,    93.14195 ,    32.27848 ,    24.01177 ,\n",
       "             0.      ,     0.      ,     0.      ,    10.31885 ,\n",
       "             0.      ,     0.      ,     0.      ,     0.      ,\n",
       "            20.99    ,    61.78    ,    80.      ,     8.      ],\n",
       "        [ 1297.423   ,  1577.95    ,  1204.759   ,   509.0249  ,\n",
       "           210.6976  ,   127.0117  ,    64.55696 ,    16.00785 ,\n",
       "            10.31885 ,     0.      ,     0.      ,     0.      ,\n",
       "             0.      ,     0.      ,     0.      ,     0.      ,\n",
       "            20.07    ,    65.84    ,    70.      ,     6.      ]]),\n",
       " array([[  1.40881836e+03,   7.82713464e+02,   6.20914261e+02,\n",
       "           4.30038251e+02,   1.88518909e+02,   2.20153696e+02,\n",
       "           6.45569624e+01,   3.20156911e+01,   4.12754046e+01,\n",
       "           0.00000000e+00,   1.10893476e+01,   0.00000000e+00,\n",
       "           0.00000000e+00,   0.00000000e+00,   0.00000000e+00,\n",
       "           0.00000000e+00,   1.58700000e+01,   7.60900000e+01,\n",
       "           1.00000000e+01,   4.00000000e+00],\n",
       "        [  1.49400273e+03,   6.70002726e+02,   4.81903605e+02,\n",
       "           2.01854690e+02,   9.98041285e+01,   1.18544298e+02,\n",
       "           5.81012661e+01,   0.00000000e+00,   3.09565535e+01,\n",
       "           8.77629085e+00,   0.00000000e+00,   1.03188512e+01,\n",
       "           0.00000000e+00,   0.00000000e+00,   0.00000000e+00,\n",
       "           0.00000000e+00,   1.61500000e+01,   7.49900000e+01,\n",
       "           4.00000000e+01,   3.00000000e+00],\n",
       "        [  3.57119073e+03,   1.67813767e+03,   8.80400818e+02,\n",
       "           3.15946471e+02,   1.21982824e+02,   1.35479197e+02,\n",
       "           7.10126586e+01,   4.80235367e+01,   2.06377023e+01,\n",
       "           8.77629085e+00,   0.00000000e+00,   0.00000000e+00,\n",
       "           0.00000000e+00,   0.00000000e+00,   0.00000000e+00,\n",
       "           0.00000000e+00,   1.57100000e+01,   7.78300000e+01,\n",
       "           3.00000000e+01,   3.00000000e+00],\n",
       "        [  3.57119073e+03,   1.67813767e+03,   8.80400818e+02,\n",
       "           3.15946471e+02,   1.21982824e+02,   1.35479197e+02,\n",
       "           7.10126586e+01,   4.80235367e+01,   2.06377023e+01,\n",
       "           8.77629085e+00,   0.00000000e+00,   0.00000000e+00,\n",
       "           0.00000000e+00,   0.00000000e+00,   0.00000000e+00,\n",
       "           0.00000000e+00,   1.57100000e+01,   7.78300000e+01,\n",
       "           3.00000000e+01,   3.00000000e+00],\n",
       "        [  1.55297652e+03,   7.76451757e+02,   4.44834097e+02,\n",
       "           2.19407271e+02,   1.66340214e+02,   9.31419481e+01,\n",
       "           3.87341774e+01,   5.60274595e+01,   0.00000000e+00,\n",
       "           0.00000000e+00,   0.00000000e+00,   0.00000000e+00,\n",
       "           0.00000000e+00,   0.00000000e+00,   0.00000000e+00,\n",
       "           0.00000000e+00,   1.57500000e+01,   7.69100000e+01,\n",
       "           2.70000000e+02,   2.00000000e+00],\n",
       "        [  1.55297652e+03,   7.76451757e+02,   4.44834097e+02,\n",
       "           2.19407271e+02,   1.66340214e+02,   9.31419481e+01,\n",
       "           3.87341774e+01,   5.60274595e+01,   0.00000000e+00,\n",
       "           0.00000000e+00,   0.00000000e+00,   0.00000000e+00,\n",
       "           0.00000000e+00,   0.00000000e+00,   0.00000000e+00,\n",
       "           0.00000000e+00,   1.57500000e+01,   7.69100000e+01,\n",
       "           2.70000000e+02,   2.00000000e+00],\n",
       "        [  2.14926708e+03,   9.95611527e+02,   4.72636228e+02,\n",
       "           2.19407271e+02,   7.76254333e+01,   6.77395986e+01,\n",
       "           5.16455699e+01,   8.00392278e+00,   0.00000000e+00,\n",
       "           8.77629085e+00,   1.10893476e+01,   0.00000000e+00,\n",
       "           0.00000000e+00,   0.00000000e+00,   0.00000000e+00,\n",
       "           0.00000000e+00,   1.68900000e+01,   7.24000000e+01,\n",
       "           1.50000000e+02,   3.00000000e+00],\n",
       "        [  2.50966248e+03,   1.05196690e+03,   5.93112130e+02,\n",
       "           1.93078399e+02,   1.44161519e+02,   5.92721488e+01,\n",
       "           2.58227849e+01,   4.00196139e+01,   3.09565535e+01,\n",
       "           0.00000000e+00,   0.00000000e+00,   0.00000000e+00,\n",
       "           0.00000000e+00,   0.00000000e+00,   0.00000000e+00,\n",
       "           0.00000000e+00,   1.74900000e+01,   6.96800000e+01,\n",
       "           1.60000000e+02,   3.00000000e+00],\n",
       "        [  2.55553098e+03,   1.13963080e+03,   6.76518523e+02,\n",
       "           2.72065016e+02,   9.98041285e+01,   1.01609398e+02,\n",
       "           2.58227849e+01,   2.40117683e+01,   1.03188512e+01,\n",
       "           8.77629085e+00,   0.00000000e+00,   0.00000000e+00,\n",
       "           0.00000000e+00,   0.00000000e+00,   0.00000000e+00,\n",
       "           0.00000000e+00,   2.24000000e+01,   5.34800000e+01,\n",
       "           1.40000000e+02,   3.00000000e+00],\n",
       "        [  3.15182154e+03,   1.82215694e+03,   1.28816541e+03,\n",
       "           5.52906323e+02,   1.77429562e+02,   1.43946647e+02,\n",
       "           5.81012661e+01,   4.80235367e+01,   3.09565535e+01,\n",
       "           8.77629085e+00,   1.10893476e+01,   0.00000000e+00,\n",
       "           0.00000000e+00,   0.00000000e+00,   0.00000000e+00,\n",
       "           0.00000000e+00,   2.34600000e+01,   5.22300000e+01,\n",
       "           1.40000000e+02,   3.00000000e+00],\n",
       "        [  2.24755673e+03,   1.24607984e+03,   7.69192293e+02,\n",
       "           2.45736144e+02,   1.66340214e+02,   1.27011748e+02,\n",
       "           5.81012661e+01,   4.80235367e+01,   1.03188512e+01,\n",
       "           2.63288725e+01,   0.00000000e+00,   0.00000000e+00,\n",
       "           0.00000000e+00,   0.00000000e+00,   0.00000000e+00,\n",
       "           0.00000000e+00,   2.53300000e+01,   5.16800000e+01,\n",
       "           1.50000000e+02,   2.00000000e+00],\n",
       "        [  2.58174156e+03,   1.16467764e+03,   7.78459670e+02,\n",
       "           3.33499052e+02,   2.10697604e+02,   5.08046990e+01,\n",
       "           1.09746836e+02,   4.80235367e+01,   1.03188512e+01,\n",
       "           0.00000000e+00,   0.00000000e+00,   1.03188512e+01,\n",
       "           0.00000000e+00,   0.00000000e+00,   0.00000000e+00,\n",
       "           0.00000000e+00,   2.61200000e+01,   4.86900000e+01,\n",
       "           1.40000000e+02,   3.00000000e+00],\n",
       "        [  2.05097743e+03,   1.20224788e+03,   4.72636228e+02,\n",
       "           2.89617598e+02,   1.77429562e+02,   9.31419481e+01,\n",
       "           7.10126586e+01,   1.60078456e+01,   2.06377023e+01,\n",
       "           8.77629085e+00,   1.10893476e+01,   1.03188512e+01,\n",
       "           0.00000000e+00,   0.00000000e+00,   0.00000000e+00,\n",
       "           0.00000000e+00,   2.48500000e+01,   5.01500000e+01,\n",
       "           1.60000000e+02,   3.00000000e+00],\n",
       "        [  2.89626844e+03,   1.75327816e+03,   9.63807211e+02,\n",
       "           4.65143415e+02,   2.10697604e+02,   1.77816446e+02,\n",
       "           1.35569621e+02,   4.00196139e+01,   3.09565535e+01,\n",
       "           7.02103268e+01,   1.10893476e+01,   2.06377023e+01,\n",
       "           0.00000000e+00,   0.00000000e+00,   0.00000000e+00,\n",
       "           0.00000000e+00,   2.25100000e+01,   5.53400000e+01,\n",
       "           1.40000000e+02,   4.00000000e+00],\n",
       "        [  1.67747675e+03,   1.17720105e+03,   5.83844753e+02,\n",
       "           3.51051634e+02,   1.33072171e+02,   5.08046990e+01,\n",
       "           7.10126586e+01,   3.20156911e+01,   2.06377023e+01,\n",
       "           0.00000000e+00,   0.00000000e+00,   0.00000000e+00,\n",
       "           0.00000000e+00,   0.00000000e+00,   0.00000000e+00,\n",
       "           0.00000000e+00,   2.17900000e+01,   5.64100000e+01,\n",
       "           1.60000000e+02,   3.00000000e+00],\n",
       "        [  1.86095076e+03,   1.05822860e+03,   9.54539834e+02,\n",
       "           3.15946471e+02,   2.21786952e+02,   1.52414097e+02,\n",
       "           5.16455699e+01,   7.20353050e+01,   3.09565535e+01,\n",
       "           2.63288725e+01,   2.21786952e+01,   3.09565535e+01,\n",
       "           0.00000000e+00,   0.00000000e+00,   0.00000000e+00,\n",
       "           0.00000000e+00,   2.05700000e+01,   6.07100000e+01,\n",
       "           1.90000000e+02,   3.00000000e+00],\n",
       "        [  3.15182154e+03,   1.71570791e+03,   1.28816541e+03,\n",
       "           5.26577451e+02,   2.66144343e+02,   1.52414097e+02,\n",
       "           9.03797473e+01,   6.40313822e+01,   0.00000000e+00,\n",
       "           5.26577451e+01,   2.21786952e+01,   1.03188512e+01,\n",
       "           0.00000000e+00,   0.00000000e+00,   0.00000000e+00,\n",
       "           0.00000000e+00,   1.91600000e+01,   6.35200000e+01,\n",
       "           1.50000000e+02,   3.00000000e+00],\n",
       "        [  2.23445145e+03,   1.44019277e+03,   1.13062000e+03,\n",
       "           4.47590833e+02,   2.32876300e+02,   1.18544298e+02,\n",
       "           8.39240511e+01,   8.00392278e+01,   3.09565535e+01,\n",
       "           1.75525817e+01,   0.00000000e+00,   1.03188512e+01,\n",
       "           0.00000000e+00,   0.00000000e+00,   0.00000000e+00,\n",
       "           0.00000000e+00,   1.85700000e+01,   6.64200000e+01,\n",
       "           1.50000000e+02,   2.00000000e+00],\n",
       "        [  1.27776549e+03,   1.04570519e+03,   8.24796555e+02,\n",
       "           4.12485670e+02,   1.88518909e+02,   1.27011748e+02,\n",
       "           9.03797473e+01,   8.00392278e+01,   2.06377023e+01,\n",
       "           8.77629085e+00,   1.10893476e+01,   0.00000000e+00,\n",
       "           0.00000000e+00,   0.00000000e+00,   0.00000000e+00,\n",
       "           0.00000000e+00,   1.83000000e+01,   6.66900000e+01,\n",
       "           1.30000000e+02,   3.00000000e+00],\n",
       "        [  1.04842297e+03,   7.07572972e+02,   5.00438359e+02,\n",
       "           2.80841307e+02,   1.44161519e+02,   8.46744983e+01,\n",
       "           3.87341774e+01,   8.00392278e+00,   0.00000000e+00,\n",
       "           8.77629085e+00,   0.00000000e+00,   0.00000000e+00,\n",
       "           0.00000000e+00,   0.00000000e+00,   0.00000000e+00,\n",
       "           0.00000000e+00,   1.80500000e+01,   6.67200000e+01,\n",
       "           8.00000000e+01,   5.00000000e+00],\n",
       "        [  1.12050204e+03,   6.70002726e+02,   4.17031966e+02,\n",
       "           1.66749526e+02,   1.33072171e+02,   1.27011748e+02,\n",
       "           3.22784812e+01,   0.00000000e+00,   0.00000000e+00,\n",
       "           0.00000000e+00,   0.00000000e+00,   0.00000000e+00,\n",
       "           1.26292531e+01,   1.49372361e+01,   0.00000000e+00,\n",
       "           0.00000000e+00,   1.69900000e+01,   6.71800000e+01,\n",
       "           1.10000000e+02,   3.00000000e+00],\n",
       "        [  2.07718800e+03,   1.15841593e+03,   8.71133440e+02,\n",
       "           5.79235196e+02,   1.55250867e+02,   1.77816446e+02,\n",
       "           5.16455699e+01,   3.20156911e+01,   2.06377023e+01,\n",
       "           8.77629085e+00,   1.10893476e+01,   1.03188512e+01,\n",
       "           0.00000000e+00,   0.00000000e+00,   0.00000000e+00,\n",
       "           0.00000000e+00,   1.63500000e+01,   6.97400000e+01,\n",
       "           1.50000000e+02,   3.00000000e+00],\n",
       "        [  9.10817452e+02,   5.57291987e+02,   3.15090819e+02,\n",
       "           2.01854690e+02,   1.21982824e+02,   8.46744983e+01,\n",
       "           1.93670887e+01,   2.40117683e+01,   2.06377023e+01,\n",
       "           8.77629085e+00,   0.00000000e+00,   0.00000000e+00,\n",
       "           1.26292531e+01,   0.00000000e+00,   0.00000000e+00,\n",
       "           0.00000000e+00,   1.58300000e+01,   7.02600000e+01,\n",
       "           1.30000000e+02,   3.00000000e+00],\n",
       "        [  9.30475383e+02,   3.38132217e+02,   2.87288688e+02,\n",
       "           1.57973235e+02,   8.87147809e+01,   5.08046990e+01,\n",
       "           5.16455699e+01,   2.40117683e+01,   4.12754046e+01,\n",
       "           1.75525817e+01,   1.10893476e+01,   0.00000000e+00,\n",
       "           0.00000000e+00,   0.00000000e+00,   0.00000000e+00,\n",
       "           0.00000000e+00,   1.54000000e+01,   6.91900000e+01,\n",
       "           2.30000000e+02,   3.00000000e+00]])]"
      ]
     },
     "execution_count": 53,
     "metadata": {},
     "output_type": "execute_result"
    }
   ],
   "source": [
    "X_train[:2]"
   ]
  },
  {
   "cell_type": "code",
   "execution_count": 54,
   "metadata": {
    "collapsed": true
   },
   "outputs": [],
   "source": [
    "import pickle"
   ]
  },
  {
   "cell_type": "code",
   "execution_count": 55,
   "metadata": {
    "collapsed": true
   },
   "outputs": [],
   "source": [
    "dic = {'X_train':X_train,\"X_test\":X_test, \"y_train\":y_train, \"y_test\":y_test }\n",
    "pickle.dump(dic,open(\"lstm_xy_new.p\",'w'))"
   ]
  },
  {
   "cell_type": "code",
   "execution_count": null,
   "metadata": {
    "collapsed": true
   },
   "outputs": [],
   "source": []
  }
 ],
 "metadata": {
  "kernelspec": {
   "display_name": "Python 2",
   "language": "python",
   "name": "python2"
  },
  "language_info": {
   "codemirror_mode": {
    "name": "ipython",
    "version": 2
   },
   "file_extension": ".py",
   "mimetype": "text/x-python",
   "name": "python",
   "nbconvert_exporter": "python",
   "pygments_lexer": "ipython2",
   "version": "2.7.13"
  }
 },
 "nbformat": 4,
 "nbformat_minor": 2
}
