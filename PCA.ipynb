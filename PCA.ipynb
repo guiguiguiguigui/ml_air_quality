{
 "cells": [
  {
   "cell_type": "code",
   "execution_count": 96,
   "metadata": {
    "collapsed": true
   },
   "outputs": [],
   "source": [
    "import pandas as pd\n",
    "from sklearn.decomposition import PCA, KernelPCA\n",
    "from sklearn.cluster import KMeans,SpectralClustering,DBSCAN\n",
    "import numpy as np\n",
    "import matplotlib.pyplot as plt\n",
    "from collections import Counter\n",
    "import calmap\n",
    "from sklearn import metrics\n",
    "from sklearn.preprocessing import StandardScaler\n"
   ]
  },
  {
   "cell_type": "code",
   "execution_count": 3,
   "metadata": {
    "collapsed": true
   },
   "outputs": [],
   "source": [
    "p = \"pickles/alliance_sub.p\""
   ]
  },
  {
   "cell_type": "code",
   "execution_count": 4,
   "metadata": {
    "collapsed": true
   },
   "outputs": [],
   "source": [
    "df_merged = pd.read_pickle(p)"
   ]
  },
  {
   "cell_type": "code",
   "execution_count": 5,
   "metadata": {
    "scrolled": true
   },
   "outputs": [
    {
     "data": {
      "text/html": [
       "<div>\n",
       "<style scoped>\n",
       "    .dataframe tbody tr th:only-of-type {\n",
       "        vertical-align: middle;\n",
       "    }\n",
       "\n",
       "    .dataframe tbody tr th {\n",
       "        vertical-align: top;\n",
       "    }\n",
       "\n",
       "    .dataframe thead th {\n",
       "        text-align: right;\n",
       "    }\n",
       "</style>\n",
       "<table border=\"1\" class=\"dataframe\">\n",
       "  <thead>\n",
       "    <tr style=\"text-align: right;\">\n",
       "      <th></th>\n",
       "      <th>Unnamed: 0</th>\n",
       "      <th>d</th>\n",
       "      <th>t</th>\n",
       "      <th>date_x</th>\n",
       "      <th>no2</th>\n",
       "      <th>o3</th>\n",
       "      <th>no</th>\n",
       "      <th>so2</th>\n",
       "      <th>temp</th>\n",
       "      <th>humidity</th>\n",
       "      <th>...</th>\n",
       "      <th>date_y</th>\n",
       "      <th>nsec</th>\n",
       "      <th>altm_(hpa)</th>\n",
       "      <th>temp (degree_c)</th>\n",
       "      <th>dew (degree_c)</th>\n",
       "      <th>rh_(percentage)</th>\n",
       "      <th>dir_(degrees)</th>\n",
       "      <th>spd_(m/s)</th>\n",
       "      <th>vis (km)</th>\n",
       "      <th>clouds (====)</th>\n",
       "    </tr>\n",
       "  </thead>\n",
       "  <tbody>\n",
       "    <tr>\n",
       "      <th>0</th>\n",
       "      <td>10936</td>\n",
       "      <td>06/05/2016</td>\n",
       "      <td>22:00:10</td>\n",
       "      <td>2016-05-07 00:00:00</td>\n",
       "      <td>7</td>\n",
       "      <td>-7</td>\n",
       "      <td>-22</td>\n",
       "      <td>41</td>\n",
       "      <td>16.64</td>\n",
       "      <td>85.37</td>\n",
       "      <td>...</td>\n",
       "      <td>2016-05-06 22:00:00</td>\n",
       "      <td>3671550000</td>\n",
       "      <td>1023.0</td>\n",
       "      <td>19</td>\n",
       "      <td>18</td>\n",
       "      <td>94</td>\n",
       "      <td>320</td>\n",
       "      <td>3</td>\n",
       "      <td>10.0</td>\n",
       "      <td>FEW018</td>\n",
       "    </tr>\n",
       "    <tr>\n",
       "      <th>1</th>\n",
       "      <td>10966</td>\n",
       "      <td>06/05/2016</td>\n",
       "      <td>22:30:10</td>\n",
       "      <td>2016-05-07 00:30:00</td>\n",
       "      <td>5</td>\n",
       "      <td>-5</td>\n",
       "      <td>-22</td>\n",
       "      <td>45</td>\n",
       "      <td>16.64</td>\n",
       "      <td>84.88</td>\n",
       "      <td>...</td>\n",
       "      <td>2016-05-06 22:30:00</td>\n",
       "      <td>3671551800</td>\n",
       "      <td>1023.0</td>\n",
       "      <td>19</td>\n",
       "      <td>17</td>\n",
       "      <td>88</td>\n",
       "      <td>350</td>\n",
       "      <td>2</td>\n",
       "      <td>10.0</td>\n",
       "      <td>FEW018</td>\n",
       "    </tr>\n",
       "    <tr>\n",
       "      <th>2</th>\n",
       "      <td>10996</td>\n",
       "      <td>06/05/2016</td>\n",
       "      <td>23:00:10</td>\n",
       "      <td>2016-05-07 01:00:00</td>\n",
       "      <td>2</td>\n",
       "      <td>-2</td>\n",
       "      <td>-23</td>\n",
       "      <td>45</td>\n",
       "      <td>16.70</td>\n",
       "      <td>84.57</td>\n",
       "      <td>...</td>\n",
       "      <td>2016-05-06 23:00:00</td>\n",
       "      <td>3671553600</td>\n",
       "      <td>1023.0</td>\n",
       "      <td>18</td>\n",
       "      <td>17</td>\n",
       "      <td>94</td>\n",
       "      <td>30</td>\n",
       "      <td>3</td>\n",
       "      <td>10.0</td>\n",
       "      <td>FEW018</td>\n",
       "    </tr>\n",
       "    <tr>\n",
       "      <th>3</th>\n",
       "      <td>11026</td>\n",
       "      <td>06/05/2016</td>\n",
       "      <td>23:30:10</td>\n",
       "      <td>2016-05-07 01:30:00</td>\n",
       "      <td>2</td>\n",
       "      <td>-2</td>\n",
       "      <td>-22</td>\n",
       "      <td>46</td>\n",
       "      <td>16.62</td>\n",
       "      <td>85.15</td>\n",
       "      <td>...</td>\n",
       "      <td>2016-05-06 23:30:00</td>\n",
       "      <td>3671555400</td>\n",
       "      <td>1024.0</td>\n",
       "      <td>18</td>\n",
       "      <td>17</td>\n",
       "      <td>94</td>\n",
       "      <td>10</td>\n",
       "      <td>3</td>\n",
       "      <td>10.0</td>\n",
       "      <td>FEW018</td>\n",
       "    </tr>\n",
       "    <tr>\n",
       "      <th>4</th>\n",
       "      <td>11082</td>\n",
       "      <td>07/05/2016</td>\n",
       "      <td>00:29:53</td>\n",
       "      <td>2016-05-07 02:29:00</td>\n",
       "      <td>0</td>\n",
       "      <td>0</td>\n",
       "      <td>-23</td>\n",
       "      <td>45</td>\n",
       "      <td>16.74</td>\n",
       "      <td>85.37</td>\n",
       "      <td>...</td>\n",
       "      <td>2016-05-07 00:30:00</td>\n",
       "      <td>3671559000</td>\n",
       "      <td>1024.0</td>\n",
       "      <td>18</td>\n",
       "      <td>17</td>\n",
       "      <td>94</td>\n",
       "      <td>20</td>\n",
       "      <td>2</td>\n",
       "      <td>10.0</td>\n",
       "      <td>FEW018</td>\n",
       "    </tr>\n",
       "  </tbody>\n",
       "</table>\n",
       "<p>5 rows × 56 columns</p>\n",
       "</div>"
      ],
      "text/plain": [
       "   Unnamed: 0           d         t               date_x  no2  o3  no  so2  \\\n",
       "0       10936  06/05/2016  22:00:10  2016-05-07 00:00:00    7  -7 -22   41   \n",
       "1       10966  06/05/2016  22:30:10  2016-05-07 00:30:00    5  -5 -22   45   \n",
       "2       10996  06/05/2016  23:00:10  2016-05-07 01:00:00    2  -2 -23   45   \n",
       "3       11026  06/05/2016  23:30:10  2016-05-07 01:30:00    2  -2 -22   46   \n",
       "4       11082  07/05/2016  00:29:53  2016-05-07 02:29:00    0   0 -23   45   \n",
       "\n",
       "    temp  humidity      ...                    date_y        nsec  altm_(hpa)  \\\n",
       "0  16.64     85.37      ...       2016-05-06 22:00:00  3671550000      1023.0   \n",
       "1  16.64     84.88      ...       2016-05-06 22:30:00  3671551800      1023.0   \n",
       "2  16.70     84.57      ...       2016-05-06 23:00:00  3671553600      1023.0   \n",
       "3  16.62     85.15      ...       2016-05-06 23:30:00  3671555400      1024.0   \n",
       "4  16.74     85.37      ...       2016-05-07 00:30:00  3671559000      1024.0   \n",
       "\n",
       "   temp (degree_c)  dew (degree_c)  rh_(percentage)  dir_(degrees)  spd_(m/s)  \\\n",
       "0               19              18               94            320          3   \n",
       "1               19              17               88            350          2   \n",
       "2               18              17               94             30          3   \n",
       "3               18              17               94             10          3   \n",
       "4               18              17               94             20          2   \n",
       "\n",
       "   vis (km)  clouds (====)  \n",
       "0      10.0         FEW018  \n",
       "1      10.0         FEW018  \n",
       "2      10.0         FEW018  \n",
       "3      10.0         FEW018  \n",
       "4      10.0         FEW018  \n",
       "\n",
       "[5 rows x 56 columns]"
      ]
     },
     "execution_count": 5,
     "metadata": {},
     "output_type": "execute_result"
    }
   ],
   "source": [
    "df_merged.head()"
   ]
  },
  {
   "cell_type": "code",
   "execution_count": 6,
   "metadata": {
    "collapsed": true
   },
   "outputs": [],
   "source": [
    "features = ['no2','o3','no','so2','temp', 'humidity', 'd0', 'd1', 'd2', 'd3', 'd4','d5', 'd6', 'd7',\\\n",
    "            'd8', 'd9', 'd10', 'd11', 'd12', 'd13', 'd14', 'd15']"
   ]
  },
  {
   "cell_type": "code",
   "execution_count": 7,
   "metadata": {
    "collapsed": true
   },
   "outputs": [],
   "source": [
    "X = df_merged[features].as_matrix()"
   ]
  },
  {
   "cell_type": "code",
   "execution_count": 8,
   "metadata": {
    "collapsed": true
   },
   "outputs": [],
   "source": [
    "pca = PCA(n_components=2)\n",
    "\n",
    "reduced_data = pca.fit_transform(X)"
   ]
  },
  {
   "cell_type": "code",
   "execution_count": 107,
   "metadata": {},
   "outputs": [
    {
     "data": {
      "text/plain": [
       "KMeans(algorithm='auto', copy_x=True, init='k-means++', max_iter=300,\n",
       "    n_clusters=3, n_init=10, n_jobs=1, precompute_distances='auto',\n",
       "    random_state=None, tol=0.0001, verbose=0)"
      ]
     },
     "execution_count": 107,
     "metadata": {},
     "output_type": "execute_result"
    }
   ],
   "source": [
    "kmeans = KMeans(init='k-means++', n_clusters=3, n_init=10)\n",
    "kmeans.fit(reduced_data_k)"
   ]
  },
  {
   "cell_type": "code",
   "execution_count": null,
   "metadata": {
    "collapsed": true
   },
   "outputs": [],
   "source": []
  },
  {
   "cell_type": "code",
   "execution_count": 108,
   "metadata": {
    "collapsed": true
   },
   "outputs": [],
   "source": [
    "# Plot the decision boundary. For that, we will assign a color to each\n",
    "x_min, x_max = reduced_data_k[:, 0].min() - 1, reduced_data_k[:, 0].max() + 1\n"
   ]
  },
  {
   "cell_type": "code",
   "execution_count": 109,
   "metadata": {
    "collapsed": true
   },
   "outputs": [],
   "source": [
    "y_min, y_max = reduced_data_k[:, 1].min() - 1, reduced_data_k[:, 1].max() + 1"
   ]
  },
  {
   "cell_type": "code",
   "execution_count": 110,
   "metadata": {},
   "outputs": [
    {
     "data": {
      "text/plain": [
       "(-1.405326429455223,\n",
       " 1.2191846834145117,\n",
       " -1.0989163589545143,\n",
       " 1.2397801351506741)"
      ]
     },
     "execution_count": 110,
     "metadata": {},
     "output_type": "execute_result"
    }
   ],
   "source": [
    "y_min,y_max,x_min, x_max"
   ]
  },
  {
   "cell_type": "code",
   "execution_count": 111,
   "metadata": {
    "collapsed": true
   },
   "outputs": [],
   "source": [
    "\n",
    "# Step size of the mesh. Decrease to increase the quality of the VQ.\n",
    "h = 0.03     # point in the mesh [x_min, x_max]x[y_min, y_max].\n",
    "xx, yy = np.meshgrid(np.arange(x_min, x_max, h), np.arange(y_min, y_max, h))"
   ]
  },
  {
   "cell_type": "code",
   "execution_count": 112,
   "metadata": {},
   "outputs": [],
   "source": [
    "# Obtain labels for each point in mesh. Use last trained model.\n",
    "Z = kmeans.predict(np.c_[xx.ravel(), yy.ravel()])\n"
   ]
  },
  {
   "cell_type": "code",
   "execution_count": 121,
   "metadata": {
    "scrolled": false
   },
   "outputs": [
    {
     "data": {
      "image/png": "[encoded data removed]",
      "text/plain": [
       "<matplotlib.figure.Figure at 0x1154b71d0>"
      ]
     },
     "metadata": {},
     "output_type": "display_data"
    }
   ],
   "source": [
    "\n",
    "Z = Z.reshape(xx.shape)\n",
    "plt.figure(1,figsize=(12,8))\n",
    "plt.clf()\n",
    "plt.imshow(Z, interpolation='nearest',\n",
    "           extent=(xx.min(), xx.max(), yy.min(), yy.max()),\n",
    "           cmap=plt.cm.Paired,\n",
    "           aspect='auto', origin='lower')\n",
    "\n",
    "plt.plot(reduced_data_k[:, 0], reduced_data_k[:, 1], 'k.', markersize=2)\n",
    "# Plot the centroids as a white X\n",
    "centroids = kmeans.cluster_centers_\n",
    "plt.scatter(centroids[:, 0], centroids[:, 1],\n",
    "            marker='x', s=169, linewidths=3,\n",
    "            color='w', zorder=10)\n",
    "plt.title('K-means clustering on the rbf-kernel PCA-reduced Alliance dataset')\n",
    "plt.xlim(-0.4, 0.6)\n",
    "plt.ylim(-0.5, 0.5)\n",
    "#plt.xticks(())\n",
    "#plt.yticks(())\n",
    "plt.show()"
   ]
  },
  {
   "cell_type": "code",
   "execution_count": 136,
   "metadata": {
    "collapsed": true
   },
   "outputs": [],
   "source": [
    "db = DBSCAN(eps=0.1, min_samples=10).fit(reduced_data_k)\n",
    "core_samples_mask = np.zeros_like(db.labels_, dtype=bool)\n",
    "core_samples_mask[db.core_sample_indices_] = True\n",
    "labels = db.labels_\n",
    "n_clusters_ = len(set(labels)) - (1 if -1 in labels else 0)\n"
   ]
  },
  {
   "cell_type": "code",
   "execution_count": 138,
   "metadata": {
    "scrolled": false
   },
   "outputs": [
    {
     "data": {
      "image/png": "[encoded data removed]",
      "text/plain": [
       "<matplotlib.figure.Figure at 0x11736a050>"
      ]
     },
     "metadata": {},
     "output_type": "display_data"
    }
   ],
   "source": [
    "# Black removed and is used for noise instead.\n",
    "plt.figure(1,figsize=(12,8))\n",
    "unique_labels = set(labels)\n",
    "colors = [plt.cm.Spectral(each)\n",
    "          for each in np.linspace(0, 1, len(unique_labels))]\n",
    "for k, col in zip(unique_labels, colors):\n",
    "    if k == -1:\n",
    "        # Black used for noise.\n",
    "        col = [0, 0, 0, 1]\n",
    "\n",
    "    class_member_mask = (labels == k)\n",
    "    \n",
    "    xy = reduced_data_k[class_member_mask & ~core_samples_mask]\n",
    "    plt.plot(xy[:, 0], xy[:, 1], 'o', markerfacecolor=tuple(col), markeredgecolor='k', markersize=3)\n",
    "\n",
    "for k, col in zip(unique_labels, colors):\n",
    "    if k == -1:\n",
    "        # Black used for noise.\n",
    "        col = [0, 0, 0, 1]\n",
    "\n",
    "    class_member_mask = (labels == k)\n",
    "    \n",
    "\n",
    "    xy = reduced_data_k[class_member_mask & core_samples_mask]\n",
    "    plt.plot(xy[:, 0], xy[:, 1], 'o', markerfacecolor=tuple(col), markeredgecolor='k', markersize=14)\n",
    "\n",
    "\n",
    "plt.xlim(-0.4, 0.5)\n",
    "plt.ylim(-0.25, 0.35)\n",
    "plt.title('DBSCAN Estimated number of clusters: %d' % n_clusters_)\n",
    "plt.show()"
   ]
  },
  {
   "cell_type": "code",
   "execution_count": 98,
   "metadata": {},
   "outputs": [],
   "source": [
    "pca = KernelPCA(n_components=2, kernel='rbf')\n",
    "reduced_data_k = pca.fit_transform(X)"
   ]
  }
 ],
 "metadata": {
  "kernelspec": {
   "display_name": "Python 2",
   "language": "python",
   "name": "python2"
  },
  "language_info": {
   "codemirror_mode": {
    "name": "ipython",
    "version": 2
   },
   "file_extension": ".py",
   "mimetype": "text/x-python",
   "name": "python",
   "nbconvert_exporter": "python",
   "pygments_lexer": "ipython2",
   "version": "2.7.13"
  }
 },
 "nbformat": 4,
 "nbformat_minor": 2
}
