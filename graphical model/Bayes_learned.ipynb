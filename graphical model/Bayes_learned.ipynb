{
 "cells": [
  {
   "cell_type": "code",
   "execution_count": 1,
   "metadata": {
    "collapsed": true
   },
   "outputs": [],
   "source": [
    "import libpgm\n",
    "from libpgm.nodedata import NodeData\n",
    "from libpgm.lgbayesiannetwork import LGBayesianNetwork\n",
    "from libpgm.graphskeleton import GraphSkeleton\n",
    "import json\n",
    "\n",
    "from libpgm.pgmlearner import PGMLearner"
   ]
  },
  {
   "cell_type": "code",
   "execution_count": 2,
   "metadata": {
    "collapsed": true
   },
   "outputs": [],
   "source": [
    "num_sources = 3\n",
    "skeleton_file = 'skeleton.txt'\n",
    "data_file = 'data.txt'"
   ]
  },
  {
   "cell_type": "code",
   "execution_count": 3,
   "metadata": {
    "collapsed": true
   },
   "outputs": [],
   "source": [
    "num_sources = 4\n",
    "\n",
    "bins = [\"d\" + str(i) for i in range(16)]\n",
    "sources = [\"source\" + str(i) for i in range(num_sources)]\n",
    "factors = [\"humidity\", \"temp\", \"wind_dir\",\"wind_speed\",\"offset\"]#,\"time\"]\n",
    "nodes = bins + sources + factors"
   ]
  },
  {
   "cell_type": "code",
   "execution_count": 4,
   "metadata": {
    "collapsed": true
   },
   "outputs": [],
   "source": [
    "edges = []\n",
    "for factor in factors:\n",
    "    for source in sources:\n",
    "        edges.append([factor, source])\n",
    "for source in sources:\n",
    "    for b in bins:\n",
    "        edges.append([source, b])"
   ]
  },
  {
   "cell_type": "code",
   "execution_count": 5,
   "metadata": {
    "collapsed": true
   },
   "outputs": [],
   "source": [
    "frame = {\"V\": nodes, \"E\": edges}\n",
    "with open(skeleton_file, 'w') as f:\n",
    "    json.dump(frame, f)\n",
    "\n",
    "skeleton = GraphSkeleton()\n",
    "skeleton.load(skeleton_file)"
   ]
  },
  {
   "cell_type": "code",
   "execution_count": 6,
   "metadata": {
    "collapsed": true
   },
   "outputs": [],
   "source": [
    "model = LGBayesianNetwork(skeleton)"
   ]
  },
  {
   "cell_type": "code",
   "execution_count": 7,
   "metadata": {},
   "outputs": [
    {
     "data": {
      "text/plain": [
       "{'E': [['humidity', 'source0'],\n",
       "  ['humidity', 'source1'],\n",
       "  ['humidity', 'source2'],\n",
       "  ['humidity', 'source3'],\n",
       "  ['temp', 'source0'],\n",
       "  ['temp', 'source1'],\n",
       "  ['temp', 'source2'],\n",
       "  ['temp', 'source3'],\n",
       "  ['wind_dir', 'source0'],\n",
       "  ['wind_dir', 'source1'],\n",
       "  ['wind_dir', 'source2'],\n",
       "  ['wind_dir', 'source3'],\n",
       "  ['wind_speed', 'source0'],\n",
       "  ['wind_speed', 'source1'],\n",
       "  ['wind_speed', 'source2'],\n",
       "  ['wind_speed', 'source3'],\n",
       "  ['offset', 'source0'],\n",
       "  ['offset', 'source1'],\n",
       "  ['offset', 'source2'],\n",
       "  ['offset', 'source3'],\n",
       "  ['source0', 'd0'],\n",
       "  ['source0', 'd1'],\n",
       "  ['source0', 'd2'],\n",
       "  ['source0', 'd3'],\n",
       "  ['source0', 'd4'],\n",
       "  ['source0', 'd5'],\n",
       "  ['source0', 'd6'],\n",
       "  ['source0', 'd7'],\n",
       "  ['source0', 'd8'],\n",
       "  ['source0', 'd9'],\n",
       "  ['source0', 'd10'],\n",
       "  ['source0', 'd11'],\n",
       "  ['source0', 'd12'],\n",
       "  ['source0', 'd13'],\n",
       "  ['source0', 'd14'],\n",
       "  ['source0', 'd15'],\n",
       "  ['source1', 'd0'],\n",
       "  ['source1', 'd1'],\n",
       "  ['source1', 'd2'],\n",
       "  ['source1', 'd3'],\n",
       "  ['source1', 'd4'],\n",
       "  ['source1', 'd5'],\n",
       "  ['source1', 'd6'],\n",
       "  ['source1', 'd7'],\n",
       "  ['source1', 'd8'],\n",
       "  ['source1', 'd9'],\n",
       "  ['source1', 'd10'],\n",
       "  ['source1', 'd11'],\n",
       "  ['source1', 'd12'],\n",
       "  ['source1', 'd13'],\n",
       "  ['source1', 'd14'],\n",
       "  ['source1', 'd15'],\n",
       "  ['source2', 'd0'],\n",
       "  ['source2', 'd1'],\n",
       "  ['source2', 'd2'],\n",
       "  ['source2', 'd3'],\n",
       "  ['source2', 'd4'],\n",
       "  ['source2', 'd5'],\n",
       "  ['source2', 'd6'],\n",
       "  ['source2', 'd7'],\n",
       "  ['source2', 'd8'],\n",
       "  ['source2', 'd9'],\n",
       "  ['source2', 'd10'],\n",
       "  ['source2', 'd11'],\n",
       "  ['source2', 'd12'],\n",
       "  ['source2', 'd13'],\n",
       "  ['source2', 'd14'],\n",
       "  ['source2', 'd15'],\n",
       "  ['source3', 'd0'],\n",
       "  ['source3', 'd1'],\n",
       "  ['source3', 'd2'],\n",
       "  ['source3', 'd3'],\n",
       "  ['source3', 'd4'],\n",
       "  ['source3', 'd5'],\n",
       "  ['source3', 'd6'],\n",
       "  ['source3', 'd7'],\n",
       "  ['source3', 'd8'],\n",
       "  ['source3', 'd9'],\n",
       "  ['source3', 'd10'],\n",
       "  ['source3', 'd11'],\n",
       "  ['source3', 'd12'],\n",
       "  ['source3', 'd13'],\n",
       "  ['source3', 'd14'],\n",
       "  ['source3', 'd15']],\n",
       " 'V': ['d0',\n",
       "  'd1',\n",
       "  'd2',\n",
       "  'd3',\n",
       "  'd4',\n",
       "  'd5',\n",
       "  'd6',\n",
       "  'd7',\n",
       "  'd8',\n",
       "  'd9',\n",
       "  'd10',\n",
       "  'd11',\n",
       "  'd12',\n",
       "  'd13',\n",
       "  'd14',\n",
       "  'd15',\n",
       "  'source0',\n",
       "  'source1',\n",
       "  'source2',\n",
       "  'source3',\n",
       "  'humidity',\n",
       "  'temp',\n",
       "  'wind_dir',\n",
       "  'wind_speed',\n",
       "  'offset']}"
      ]
     },
     "execution_count": 7,
     "metadata": {},
     "output_type": "execute_result"
    }
   ],
   "source": [
    "frame"
   ]
  },
  {
   "cell_type": "markdown",
   "metadata": {},
   "source": [
    "### Prepare Data"
   ]
  },
  {
   "cell_type": "code",
   "execution_count": 8,
   "metadata": {
    "collapsed": true
   },
   "outputs": [],
   "source": [
    "import pandas as pd\n",
    "import numpy as np"
   ]
  },
  {
   "cell_type": "code",
   "execution_count": 9,
   "metadata": {},
   "outputs": [],
   "source": [
    "#p = \"pickles/alliance_sub_w_lables.p\"\n",
    "p = \"something.p\"\n",
    "df = pd.read_pickle(p)"
   ]
  },
  {
   "cell_type": "code",
   "execution_count": 10,
   "metadata": {},
   "outputs": [
    {
     "data": {
      "text/plain": [
       "array(['Unnamed: 0', 'd', 't', 'date_x', 'no2', 'o3', 'no', 'so2', 'temp',\n",
       "       'humidity', 'pm1', 'pm25', 'pm10', 'bin0', 'bin1', 'bin2', 'bin3',\n",
       "       'bin4', 'bin5', 'bin6', 'bin7', 'bin8', 'bin9', 'bin10', 'bin11',\n",
       "       'bin12', 'bin13', 'bin14', 'bin15', 'd0', 'd1', 'd2', 'd3', 'd4',\n",
       "       'd5', 'd6', 'd7', 'd8', 'd9', 'd10', 'd11', 'd12', 'd13', 'd14',\n",
       "       'd15', 'dt', 'date_y', 'nsec', 'altm_(hpa)', 'temp (degree_c)',\n",
       "       'dew (degree_c)', 'rh_(percentage)', 'dir_(degrees)', 'spd_(m/s)',\n",
       "       'vis (km)', 'clouds (====)', 'labels'], dtype=object)"
      ]
     },
     "execution_count": 10,
     "metadata": {},
     "output_type": "execute_result"
    }
   ],
   "source": [
    "df.columns.values"
   ]
  },
  {
   "cell_type": "code",
   "execution_count": 11,
   "metadata": {},
   "outputs": [
    {
     "data": {
      "text/plain": [
       "2    4102\n",
       "0    1001\n",
       "3     742\n",
       "1     425\n",
       "Name: labels, dtype: int64"
      ]
     },
     "execution_count": 11,
     "metadata": {},
     "output_type": "execute_result"
    }
   ],
   "source": [
    "df['labels'].value_counts()"
   ]
  },
  {
   "cell_type": "code",
   "execution_count": 12,
   "metadata": {
    "collapsed": true
   },
   "outputs": [],
   "source": [
    "df.rename(columns={'dir_(degrees)': 'wind_dir', 'spd_(m/s)': 'wind_speed'}, inplace=True)"
   ]
  },
  {
   "cell_type": "code",
   "execution_count": 13,
   "metadata": {
    "collapsed": true
   },
   "outputs": [],
   "source": [
    "features = ['temp','humidity',\"wind_dir\",\"wind_speed\",\"labels\"]\n",
    "nodes = bins + features"
   ]
  },
  {
   "cell_type": "code",
   "execution_count": 14,
   "metadata": {},
   "outputs": [],
   "source": [
    "df = df[nodes]"
   ]
  },
  {
   "cell_type": "code",
   "execution_count": 15,
   "metadata": {},
   "outputs": [],
   "source": [
    "#df['time'] = pd.to_datetime(df['time'])\n",
    "#df['time'] = df['time'].dt.hour"
   ]
  },
  {
   "cell_type": "code",
   "execution_count": 16,
   "metadata": {},
   "outputs": [],
   "source": [
    "maybe = df[bins].applymap(lambda x: (0 if x <= 0 else np.log(x)))\n",
    "feat = df[features]\n",
    "logged = pd.concat([maybe,feat], axis = 1)"
   ]
  },
  {
   "cell_type": "code",
   "execution_count": 17,
   "metadata": {
    "collapsed": true
   },
   "outputs": [],
   "source": [
    "df = logged"
   ]
  },
  {
   "cell_type": "code",
   "execution_count": 18,
   "metadata": {
    "scrolled": false
   },
   "outputs": [
    {
     "data": {
      "text/html": [
       "<div>\n",
       "<style scoped>\n",
       "    .dataframe tbody tr th:only-of-type {\n",
       "        vertical-align: middle;\n",
       "    }\n",
       "\n",
       "    .dataframe tbody tr th {\n",
       "        vertical-align: top;\n",
       "    }\n",
       "\n",
       "    .dataframe thead th {\n",
       "        text-align: right;\n",
       "    }\n",
       "</style>\n",
       "<table border=\"1\" class=\"dataframe\">\n",
       "  <thead>\n",
       "    <tr style=\"text-align: right;\">\n",
       "      <th></th>\n",
       "      <th>d0</th>\n",
       "      <th>d1</th>\n",
       "      <th>d2</th>\n",
       "      <th>d3</th>\n",
       "      <th>d4</th>\n",
       "      <th>d5</th>\n",
       "      <th>d6</th>\n",
       "      <th>d7</th>\n",
       "      <th>d8</th>\n",
       "      <th>d9</th>\n",
       "      <th>...</th>\n",
       "      <th>d11</th>\n",
       "      <th>d12</th>\n",
       "      <th>d13</th>\n",
       "      <th>d14</th>\n",
       "      <th>d15</th>\n",
       "      <th>temp</th>\n",
       "      <th>humidity</th>\n",
       "      <th>wind_dir</th>\n",
       "      <th>wind_speed</th>\n",
       "      <th>labels</th>\n",
       "    </tr>\n",
       "  </thead>\n",
       "  <tbody>\n",
       "    <tr>\n",
       "      <th>0</th>\n",
       "      <td>7.801447</td>\n",
       "      <td>7.107453</td>\n",
       "      <td>6.543989</td>\n",
       "      <td>5.263096</td>\n",
       "      <td>4.351895</td>\n",
       "      <td>4.775287</td>\n",
       "      <td>1.864963</td>\n",
       "      <td>2.079932</td>\n",
       "      <td>0.000000</td>\n",
       "      <td>0.000000</td>\n",
       "      <td>...</td>\n",
       "      <td>0.0</td>\n",
       "      <td>0.0</td>\n",
       "      <td>0.0</td>\n",
       "      <td>0.0</td>\n",
       "      <td>0.0</td>\n",
       "      <td>16.64</td>\n",
       "      <td>85.37</td>\n",
       "      <td>320</td>\n",
       "      <td>3</td>\n",
       "      <td>3</td>\n",
       "    </tr>\n",
       "    <tr>\n",
       "      <th>1</th>\n",
       "      <td>7.734940</td>\n",
       "      <td>7.027410</td>\n",
       "      <td>6.400888</td>\n",
       "      <td>5.307548</td>\n",
       "      <td>0.000000</td>\n",
       "      <td>3.927989</td>\n",
       "      <td>2.558110</td>\n",
       "      <td>2.079932</td>\n",
       "      <td>0.000000</td>\n",
       "      <td>0.000000</td>\n",
       "      <td>...</td>\n",
       "      <td>0.0</td>\n",
       "      <td>0.0</td>\n",
       "      <td>0.0</td>\n",
       "      <td>0.0</td>\n",
       "      <td>0.0</td>\n",
       "      <td>16.64</td>\n",
       "      <td>84.88</td>\n",
       "      <td>350</td>\n",
       "      <td>2</td>\n",
       "      <td>2</td>\n",
       "    </tr>\n",
       "    <tr>\n",
       "      <th>2</th>\n",
       "      <td>7.629262</td>\n",
       "      <td>6.884309</td>\n",
       "      <td>6.446008</td>\n",
       "      <td>4.737003</td>\n",
       "      <td>3.792279</td>\n",
       "      <td>3.927989</td>\n",
       "      <td>1.864963</td>\n",
       "      <td>3.178544</td>\n",
       "      <td>3.027120</td>\n",
       "      <td>0.000000</td>\n",
       "      <td>...</td>\n",
       "      <td>0.0</td>\n",
       "      <td>0.0</td>\n",
       "      <td>0.0</td>\n",
       "      <td>0.0</td>\n",
       "      <td>0.0</td>\n",
       "      <td>16.70</td>\n",
       "      <td>84.57</td>\n",
       "      <td>30</td>\n",
       "      <td>3</td>\n",
       "      <td>0</td>\n",
       "    </tr>\n",
       "    <tr>\n",
       "      <th>3</th>\n",
       "      <td>7.566844</td>\n",
       "      <td>6.838399</td>\n",
       "      <td>6.769795</td>\n",
       "      <td>5.467891</td>\n",
       "      <td>4.603210</td>\n",
       "      <td>4.215671</td>\n",
       "      <td>3.251257</td>\n",
       "      <td>2.079932</td>\n",
       "      <td>2.333972</td>\n",
       "      <td>2.172054</td>\n",
       "      <td>...</td>\n",
       "      <td>0.0</td>\n",
       "      <td>0.0</td>\n",
       "      <td>0.0</td>\n",
       "      <td>0.0</td>\n",
       "      <td>0.0</td>\n",
       "      <td>16.62</td>\n",
       "      <td>85.15</td>\n",
       "      <td>10</td>\n",
       "      <td>3</td>\n",
       "      <td>2</td>\n",
       "    </tr>\n",
       "    <tr>\n",
       "      <th>4</th>\n",
       "      <td>7.507490</td>\n",
       "      <td>7.004937</td>\n",
       "      <td>6.620950</td>\n",
       "      <td>5.698414</td>\n",
       "      <td>3.504597</td>\n",
       "      <td>3.745667</td>\n",
       "      <td>3.656722</td>\n",
       "      <td>2.079932</td>\n",
       "      <td>2.333972</td>\n",
       "      <td>2.172054</td>\n",
       "      <td>...</td>\n",
       "      <td>0.0</td>\n",
       "      <td>0.0</td>\n",
       "      <td>0.0</td>\n",
       "      <td>0.0</td>\n",
       "      <td>0.0</td>\n",
       "      <td>16.74</td>\n",
       "      <td>85.37</td>\n",
       "      <td>20</td>\n",
       "      <td>2</td>\n",
       "      <td>2</td>\n",
       "    </tr>\n",
       "  </tbody>\n",
       "</table>\n",
       "<p>5 rows × 21 columns</p>\n",
       "</div>"
      ],
      "text/plain": [
       "         d0        d1        d2        d3        d4        d5        d6  \\\n",
       "0  7.801447  7.107453  6.543989  5.263096  4.351895  4.775287  1.864963   \n",
       "1  7.734940  7.027410  6.400888  5.307548  0.000000  3.927989  2.558110   \n",
       "2  7.629262  6.884309  6.446008  4.737003  3.792279  3.927989  1.864963   \n",
       "3  7.566844  6.838399  6.769795  5.467891  4.603210  4.215671  3.251257   \n",
       "4  7.507490  7.004937  6.620950  5.698414  3.504597  3.745667  3.656722   \n",
       "\n",
       "         d7        d8        d9   ...    d11  d12  d13  d14  d15   temp  \\\n",
       "0  2.079932  0.000000  0.000000   ...    0.0  0.0  0.0  0.0  0.0  16.64   \n",
       "1  2.079932  0.000000  0.000000   ...    0.0  0.0  0.0  0.0  0.0  16.64   \n",
       "2  3.178544  3.027120  0.000000   ...    0.0  0.0  0.0  0.0  0.0  16.70   \n",
       "3  2.079932  2.333972  2.172054   ...    0.0  0.0  0.0  0.0  0.0  16.62   \n",
       "4  2.079932  2.333972  2.172054   ...    0.0  0.0  0.0  0.0  0.0  16.74   \n",
       "\n",
       "   humidity  wind_dir  wind_speed  labels  \n",
       "0     85.37       320           3       3  \n",
       "1     84.88       350           2       2  \n",
       "2     84.57        30           3       0  \n",
       "3     85.15        10           3       2  \n",
       "4     85.37        20           2       2  \n",
       "\n",
       "[5 rows x 21 columns]"
      ]
     },
     "execution_count": 18,
     "metadata": {},
     "output_type": "execute_result"
    }
   ],
   "source": [
    "df.head()"
   ]
  },
  {
   "cell_type": "code",
   "execution_count": 19,
   "metadata": {},
   "outputs": [
    {
     "data": {
      "text/plain": [
       "array(['d0', 'd1', 'd2', 'd3', 'd4', 'd5', 'd6', 'd7', 'd8', 'd9', 'd10',\n",
       "       'd11', 'd12', 'd13', 'd14', 'd15', 'temp', 'humidity', 'wind_dir',\n",
       "       'wind_speed', 'labels'], dtype=object)"
      ]
     },
     "execution_count": 19,
     "metadata": {},
     "output_type": "execute_result"
    }
   ],
   "source": [
    "df.columns.values"
   ]
  },
  {
   "cell_type": "code",
   "execution_count": 20,
   "metadata": {},
   "outputs": [],
   "source": [
    "label = pd.get_dummies( df['labels'] )"
   ]
  },
  {
   "cell_type": "code",
   "execution_count": 21,
   "metadata": {},
   "outputs": [],
   "source": [
    "label.rename(columns={0: 'source0', 1: 'source1', 2:'source2',3:'source3'}, inplace=True)"
   ]
  },
  {
   "cell_type": "code",
   "execution_count": 22,
   "metadata": {},
   "outputs": [],
   "source": [
    "df_w_labels = pd.concat([df,label], axis = 1)\n",
    "df_w_labels.drop('labels',axis=1,inplace=True)"
   ]
  },
  {
   "cell_type": "code",
   "execution_count": 35,
   "metadata": {
    "collapsed": true
   },
   "outputs": [],
   "source": [
    "#df_w_labels['offset'] = pd.Series([1]*len(df_w_labels))\n",
    "df_w_labels['offset'] = np.random.normal(1, 0.01, len(df_w_labels))"
   ]
  },
  {
   "cell_type": "code",
   "execution_count": 24,
   "metadata": {},
   "outputs": [
    {
     "data": {
      "text/plain": [
       "array(['d0', 'd1', 'd2', 'd3', 'd4', 'd5', 'd6', 'd7', 'd8', 'd9', 'd10',\n",
       "       'd11', 'd12', 'd13', 'd14', 'd15', 'temp', 'humidity', 'wind_dir',\n",
       "       'wind_speed', 'source0', 'source1', 'source2', 'source3', 'offset'], dtype=object)"
      ]
     },
     "execution_count": 24,
     "metadata": {},
     "output_type": "execute_result"
    }
   ],
   "source": [
    "df_w_labels.columns.values"
   ]
  },
  {
   "cell_type": "code",
   "execution_count": 36,
   "metadata": {},
   "outputs": [
    {
     "data": {
      "text/html": [
       "<div>\n",
       "<style scoped>\n",
       "    .dataframe tbody tr th:only-of-type {\n",
       "        vertical-align: middle;\n",
       "    }\n",
       "\n",
       "    .dataframe tbody tr th {\n",
       "        vertical-align: top;\n",
       "    }\n",
       "\n",
       "    .dataframe thead th {\n",
       "        text-align: right;\n",
       "    }\n",
       "</style>\n",
       "<table border=\"1\" class=\"dataframe\">\n",
       "  <thead>\n",
       "    <tr style=\"text-align: right;\">\n",
       "      <th></th>\n",
       "      <th>d0</th>\n",
       "      <th>d1</th>\n",
       "      <th>d2</th>\n",
       "      <th>d3</th>\n",
       "      <th>d4</th>\n",
       "      <th>d5</th>\n",
       "      <th>d6</th>\n",
       "      <th>d7</th>\n",
       "      <th>d8</th>\n",
       "      <th>d9</th>\n",
       "      <th>...</th>\n",
       "      <th>d15</th>\n",
       "      <th>temp</th>\n",
       "      <th>humidity</th>\n",
       "      <th>wind_dir</th>\n",
       "      <th>wind_speed</th>\n",
       "      <th>source0</th>\n",
       "      <th>source1</th>\n",
       "      <th>source2</th>\n",
       "      <th>source3</th>\n",
       "      <th>offset</th>\n",
       "    </tr>\n",
       "  </thead>\n",
       "  <tbody>\n",
       "    <tr>\n",
       "      <th>0</th>\n",
       "      <td>7.801447</td>\n",
       "      <td>7.107453</td>\n",
       "      <td>6.543989</td>\n",
       "      <td>5.263096</td>\n",
       "      <td>4.351895</td>\n",
       "      <td>4.775287</td>\n",
       "      <td>1.864963</td>\n",
       "      <td>2.079932</td>\n",
       "      <td>0.000000</td>\n",
       "      <td>0.000000</td>\n",
       "      <td>...</td>\n",
       "      <td>0.0</td>\n",
       "      <td>16.64</td>\n",
       "      <td>85.37</td>\n",
       "      <td>320</td>\n",
       "      <td>3</td>\n",
       "      <td>0</td>\n",
       "      <td>0</td>\n",
       "      <td>0</td>\n",
       "      <td>1</td>\n",
       "      <td>0.995781</td>\n",
       "    </tr>\n",
       "    <tr>\n",
       "      <th>1</th>\n",
       "      <td>7.734940</td>\n",
       "      <td>7.027410</td>\n",
       "      <td>6.400888</td>\n",
       "      <td>5.307548</td>\n",
       "      <td>0.000000</td>\n",
       "      <td>3.927989</td>\n",
       "      <td>2.558110</td>\n",
       "      <td>2.079932</td>\n",
       "      <td>0.000000</td>\n",
       "      <td>0.000000</td>\n",
       "      <td>...</td>\n",
       "      <td>0.0</td>\n",
       "      <td>16.64</td>\n",
       "      <td>84.88</td>\n",
       "      <td>350</td>\n",
       "      <td>2</td>\n",
       "      <td>0</td>\n",
       "      <td>0</td>\n",
       "      <td>1</td>\n",
       "      <td>0</td>\n",
       "      <td>0.993525</td>\n",
       "    </tr>\n",
       "    <tr>\n",
       "      <th>2</th>\n",
       "      <td>7.629262</td>\n",
       "      <td>6.884309</td>\n",
       "      <td>6.446008</td>\n",
       "      <td>4.737003</td>\n",
       "      <td>3.792279</td>\n",
       "      <td>3.927989</td>\n",
       "      <td>1.864963</td>\n",
       "      <td>3.178544</td>\n",
       "      <td>3.027120</td>\n",
       "      <td>0.000000</td>\n",
       "      <td>...</td>\n",
       "      <td>0.0</td>\n",
       "      <td>16.70</td>\n",
       "      <td>84.57</td>\n",
       "      <td>30</td>\n",
       "      <td>3</td>\n",
       "      <td>1</td>\n",
       "      <td>0</td>\n",
       "      <td>0</td>\n",
       "      <td>0</td>\n",
       "      <td>1.011963</td>\n",
       "    </tr>\n",
       "    <tr>\n",
       "      <th>3</th>\n",
       "      <td>7.566844</td>\n",
       "      <td>6.838399</td>\n",
       "      <td>6.769795</td>\n",
       "      <td>5.467891</td>\n",
       "      <td>4.603210</td>\n",
       "      <td>4.215671</td>\n",
       "      <td>3.251257</td>\n",
       "      <td>2.079932</td>\n",
       "      <td>2.333972</td>\n",
       "      <td>2.172054</td>\n",
       "      <td>...</td>\n",
       "      <td>0.0</td>\n",
       "      <td>16.62</td>\n",
       "      <td>85.15</td>\n",
       "      <td>10</td>\n",
       "      <td>3</td>\n",
       "      <td>0</td>\n",
       "      <td>0</td>\n",
       "      <td>1</td>\n",
       "      <td>0</td>\n",
       "      <td>0.986913</td>\n",
       "    </tr>\n",
       "    <tr>\n",
       "      <th>4</th>\n",
       "      <td>7.507490</td>\n",
       "      <td>7.004937</td>\n",
       "      <td>6.620950</td>\n",
       "      <td>5.698414</td>\n",
       "      <td>3.504597</td>\n",
       "      <td>3.745667</td>\n",
       "      <td>3.656722</td>\n",
       "      <td>2.079932</td>\n",
       "      <td>2.333972</td>\n",
       "      <td>2.172054</td>\n",
       "      <td>...</td>\n",
       "      <td>0.0</td>\n",
       "      <td>16.74</td>\n",
       "      <td>85.37</td>\n",
       "      <td>20</td>\n",
       "      <td>2</td>\n",
       "      <td>0</td>\n",
       "      <td>0</td>\n",
       "      <td>1</td>\n",
       "      <td>0</td>\n",
       "      <td>0.997670</td>\n",
       "    </tr>\n",
       "  </tbody>\n",
       "</table>\n",
       "<p>5 rows × 25 columns</p>\n",
       "</div>"
      ],
      "text/plain": [
       "         d0        d1        d2        d3        d4        d5        d6  \\\n",
       "0  7.801447  7.107453  6.543989  5.263096  4.351895  4.775287  1.864963   \n",
       "1  7.734940  7.027410  6.400888  5.307548  0.000000  3.927989  2.558110   \n",
       "2  7.629262  6.884309  6.446008  4.737003  3.792279  3.927989  1.864963   \n",
       "3  7.566844  6.838399  6.769795  5.467891  4.603210  4.215671  3.251257   \n",
       "4  7.507490  7.004937  6.620950  5.698414  3.504597  3.745667  3.656722   \n",
       "\n",
       "         d7        d8        d9    ...     d15   temp  humidity  wind_dir  \\\n",
       "0  2.079932  0.000000  0.000000    ...     0.0  16.64     85.37       320   \n",
       "1  2.079932  0.000000  0.000000    ...     0.0  16.64     84.88       350   \n",
       "2  3.178544  3.027120  0.000000    ...     0.0  16.70     84.57        30   \n",
       "3  2.079932  2.333972  2.172054    ...     0.0  16.62     85.15        10   \n",
       "4  2.079932  2.333972  2.172054    ...     0.0  16.74     85.37        20   \n",
       "\n",
       "   wind_speed  source0  source1  source2  source3    offset  \n",
       "0           3        0        0        0        1  0.995781  \n",
       "1           2        0        0        1        0  0.993525  \n",
       "2           3        1        0        0        0  1.011963  \n",
       "3           3        0        0        1        0  0.986913  \n",
       "4           2        0        0        1        0  0.997670  \n",
       "\n",
       "[5 rows x 25 columns]"
      ]
     },
     "execution_count": 36,
     "metadata": {},
     "output_type": "execute_result"
    }
   ],
   "source": [
    "df_w_labels.head()"
   ]
  },
  {
   "cell_type": "code",
   "execution_count": 37,
   "metadata": {
    "collapsed": true
   },
   "outputs": [],
   "source": [
    "data = df_w_labels.to_dict(orient='records')"
   ]
  },
  {
   "cell_type": "code",
   "execution_count": 38,
   "metadata": {
    "collapsed": true
   },
   "outputs": [],
   "source": [
    "new_data_file = \"data5.txt\""
   ]
  },
  {
   "cell_type": "code",
   "execution_count": 39,
   "metadata": {
    "collapsed": true
   },
   "outputs": [],
   "source": [
    "with open(new_data_file,'w') as f:\n",
    "    json.dump(data,f)"
   ]
  },
  {
   "cell_type": "code",
   "execution_count": 40,
   "metadata": {},
   "outputs": [
    {
     "data": {
      "text/plain": [
       "True"
      ]
     },
     "execution_count": 40,
     "metadata": {},
     "output_type": "execute_result"
    }
   ],
   "source": [
    "isinstance(data[1], dict)"
   ]
  },
  {
   "cell_type": "code",
   "execution_count": 41,
   "metadata": {},
   "outputs": [],
   "source": [
    "data_u = json.load(open(new_data_file))"
   ]
  },
  {
   "cell_type": "markdown",
   "metadata": {},
   "source": [
    "### Learning"
   ]
  },
  {
   "cell_type": "code",
   "execution_count": 31,
   "metadata": {
    "scrolled": true
   },
   "outputs": [],
   "source": [
    "# instantiate my learner \n",
    "#learner2 = PGMLearner()\n",
    "# estimate parameters\n",
    "#structure = learner.lg_estimatebn(data_u)\n",
    "#print structure"
   ]
  },
  {
   "cell_type": "code",
   "execution_count": 32,
   "metadata": {
    "collapsed": true
   },
   "outputs": [],
   "source": [
    "#structure.Vdata"
   ]
  },
  {
   "cell_type": "code",
   "execution_count": 42,
   "metadata": {
    "scrolled": false
   },
   "outputs": [
    {
     "name": "stdout",
     "output_type": "stream",
     "text": [
      "{\n",
      "  \"d8\": {\n",
      "    \"mean_base\": 1926.0, \n",
      "    \"parents\": [\n",
      "      \"source0\", \n",
      "      \"source1\", \n",
      "      \"source2\", \n",
      "      \"source3\"\n",
      "    ], \n",
      "    \"children\": [], \n",
      "    \"mean_scal\": [\n",
      "      -1924.2364176619863, \n",
      "      -1924.0245803556911, \n",
      "      -1924.137338714772, \n",
      "      -1924.197151506957\n",
      "    ], \n",
      "    \"variance\": 2.100732118822634\n",
      "  }, \n",
      "  \"d9\": {\n",
      "    \"mean_base\": 214.0, \n",
      "    \"parents\": [\n",
      "      \"source0\", \n",
      "      \"source1\", \n",
      "      \"source2\", \n",
      "      \"source3\"\n",
      "    ], \n",
      "    \"children\": [], \n",
      "    \"mean_scal\": [\n",
      "      -212.76196946272768, \n",
      "      -212.50818023311317, \n",
      "      -212.6694267542241, \n",
      "      -212.74524370420343\n",
      "    ], \n",
      "    \"variance\": 1.7888902031181715\n",
      "  }, \n",
      "  \"d6\": {\n",
      "    \"mean_base\": -1897.0, \n",
      "    \"parents\": [\n",
      "      \"source0\", \n",
      "      \"source1\", \n",
      "      \"source2\", \n",
      "      \"source3\"\n",
      "    ], \n",
      "    \"children\": [], \n",
      "    \"mean_scal\": [\n",
      "      1900.1667878616524, \n",
      "      1900.5002355526283, \n",
      "      1900.2828485097357, \n",
      "      1900.2003840778675\n",
      "    ], \n",
      "    \"variance\": 0.9658190230838954\n",
      "  }, \n",
      "  \"d7\": {\n",
      "    \"mean_base\": 1826.0, \n",
      "    \"parents\": [\n",
      "      \"source0\", \n",
      "      \"source1\", \n",
      "      \"source2\", \n",
      "      \"source3\"\n",
      "    ], \n",
      "    \"children\": [], \n",
      "    \"mean_scal\": [\n",
      "      -1823.5734577702008, \n",
      "      -1823.306214000634, \n",
      "      -1823.466536555178, \n",
      "      -1823.6022832340725\n",
      "    ], \n",
      "    \"variance\": 1.5933375667082146\n",
      "  }, \n",
      "  \"d4\": {\n",
      "    \"mean_base\": -2170.0, \n",
      "    \"parents\": [\n",
      "      \"source0\", \n",
      "      \"source1\", \n",
      "      \"source2\", \n",
      "      \"source3\"\n",
      "    ], \n",
      "    \"children\": [], \n",
      "    \"mean_scal\": [\n",
      "      2174.1152699907534, \n",
      "      2174.434263750564, \n",
      "      2174.2056484539476, \n",
      "      2174.210053476632\n",
      "    ], \n",
      "    \"variance\": 0.8068264998728409\n",
      "  }, \n",
      "  \"d5\": {\n",
      "    \"mean_base\": 2647.0, \n",
      "    \"parents\": [\n",
      "      \"source0\", \n",
      "      \"source1\", \n",
      "      \"source2\", \n",
      "      \"source3\"\n",
      "    ], \n",
      "    \"children\": [], \n",
      "    \"mean_scal\": [\n",
      "      -2643.06870387452, \n",
      "      -2642.76380111723, \n",
      "      -2643.011447942953, \n",
      "      -2643.0473134526637\n",
      "    ], \n",
      "    \"variance\": 0.7548666868824512\n",
      "  }, \n",
      "  \"d2\": {\n",
      "    \"mean_base\": -942.0, \n",
      "    \"parents\": [\n",
      "      \"source0\", \n",
      "      \"source1\", \n",
      "      \"source2\", \n",
      "      \"source3\"\n",
      "    ], \n",
      "    \"children\": [], \n",
      "    \"mean_scal\": [\n",
      "      948.1038079781833, \n",
      "      948.259022162868, \n",
      "      948.1409000811258, \n",
      "      948.1091241385956\n",
      "    ], \n",
      "    \"variance\": 0.4864743494981667\n",
      "  }, \n",
      "  \"d3\": {\n",
      "    \"mean_base\": 200.0, \n",
      "    \"parents\": [\n",
      "      \"source0\", \n",
      "      \"source1\", \n",
      "      \"source2\", \n",
      "      \"source3\"\n",
      "    ], \n",
      "    \"children\": [], \n",
      "    \"mean_scal\": [\n",
      "      -194.9006162703821, \n",
      "      -194.6481320743045, \n",
      "      -194.85575144161447, \n",
      "      -194.86695613815544\n",
      "    ], \n",
      "    \"variance\": 0.48837650756377116\n",
      "  }, \n",
      "  \"d0\": {\n",
      "    \"mean_base\": -1016.0, \n",
      "    \"parents\": [\n",
      "      \"source0\", \n",
      "      \"source1\", \n",
      "      \"source2\", \n",
      "      \"source3\"\n",
      "    ], \n",
      "    \"children\": [], \n",
      "    \"mean_scal\": [\n",
      "      1023.1151810849086, \n",
      "      1023.2880888098252, \n",
      "      1023.1553375572545, \n",
      "      1023.1399266802142\n",
      "    ], \n",
      "    \"variance\": 0.49106818114523776\n",
      "  }, \n",
      "  \"d1\": {\n",
      "    \"mean_base\": -440.0, \n",
      "    \"parents\": [\n",
      "      \"source0\", \n",
      "      \"source1\", \n",
      "      \"source2\", \n",
      "      \"source3\"\n",
      "    ], \n",
      "    \"children\": [], \n",
      "    \"mean_scal\": [\n",
      "      446.4917978204446, \n",
      "      446.63303272880785, \n",
      "      446.5312175206592, \n",
      "      446.4834788439981\n",
      "    ], \n",
      "    \"variance\": 0.5297395792222233\n",
      "  }, \n",
      "  \"d14\": {\n",
      "    \"mean_base\": 0.96875, \n",
      "    \"parents\": [\n",
      "      \"source0\", \n",
      "      \"source1\", \n",
      "      \"source2\", \n",
      "      \"source3\"\n",
      "    ], \n",
      "    \"children\": [], \n",
      "    \"mean_scal\": [\n",
      "      -0.913604961402959, \n",
      "      -0.921850805024131, \n",
      "      -0.9073263912297584, \n",
      "      -0.9201779498254496\n",
      "    ], \n",
      "    \"variance\": 0.19620656751165738\n",
      "  }, \n",
      "  \"d15\": {\n",
      "    \"mean_base\": -1.625, \n",
      "    \"parents\": [\n",
      "      \"source0\", \n",
      "      \"source1\", \n",
      "      \"source2\", \n",
      "      \"source3\"\n",
      "    ], \n",
      "    \"children\": [], \n",
      "    \"mean_scal\": [\n",
      "      1.7095386151352152, \n",
      "      1.6877376962156507, \n",
      "      1.7058213489450917, \n",
      "      1.726739997767073\n",
      "    ], \n",
      "    \"variance\": 0.312406487546221\n",
      "  }, \n",
      "  \"d10\": {\n",
      "    \"mean_base\": -177.5, \n",
      "    \"parents\": [\n",
      "      \"source0\", \n",
      "      \"source1\", \n",
      "      \"source2\", \n",
      "      \"source3\"\n",
      "    ], \n",
      "    \"children\": [], \n",
      "    \"mean_scal\": [\n",
      "      178.17172209730492, \n",
      "      178.37084726906036, \n",
      "      178.30712247643496, \n",
      "      178.2442399568672\n",
      "    ], \n",
      "    \"variance\": 1.5196652589679616\n",
      "  }, \n",
      "  \"d11\": {\n",
      "    \"mean_base\": -70.625, \n",
      "    \"parents\": [\n",
      "      \"source0\", \n",
      "      \"source1\", \n",
      "      \"source2\", \n",
      "      \"source3\"\n",
      "    ], \n",
      "    \"children\": [], \n",
      "    \"mean_scal\": [\n",
      "      71.12406767358735, \n",
      "      71.19214364368025, \n",
      "      71.08440358581083, \n",
      "      71.07114856357761\n",
      "    ], \n",
      "    \"variance\": 1.017865729384539\n",
      "  }, \n",
      "  \"d12\": {\n",
      "    \"mean_base\": 37.875, \n",
      "    \"parents\": [\n",
      "      \"source0\", \n",
      "      \"source1\", \n",
      "      \"source2\", \n",
      "      \"source3\"\n",
      "    ], \n",
      "    \"children\": [], \n",
      "    \"mean_scal\": [\n",
      "      -37.6647688865873, \n",
      "      -37.62287129020724, \n",
      "      -37.634024795726575, \n",
      "      -37.625477706986565\n",
      "    ], \n",
      "    \"variance\": 0.6193287069997666\n",
      "  }, \n",
      "  \"d13\": {\n",
      "    \"mean_base\": -1.3125, \n",
      "    \"parents\": [\n",
      "      \"source0\", \n",
      "      \"source1\", \n",
      "      \"source2\", \n",
      "      \"source3\"\n",
      "    ], \n",
      "    \"children\": [], \n",
      "    \"mean_scal\": [\n",
      "      1.4199224483289221, \n",
      "      1.403638028273409, \n",
      "      1.4223507486028582, \n",
      "      1.4446845710296645\n",
      "    ], \n",
      "    \"variance\": 0.3369379521231237\n",
      "  }, \n",
      "  \"source2\": {\n",
      "    \"mean_base\": 0.2973462345773396, \n",
      "    \"parents\": [\n",
      "      \"humidity\", \n",
      "      \"temp\", \n",
      "      \"wind_dir\", \n",
      "      \"wind_speed\", \n",
      "      \"offset\"\n",
      "    ], \n",
      "    \"children\": [\n",
      "      \"d0\", \n",
      "      \"d1\", \n",
      "      \"d2\", \n",
      "      \"d3\", \n",
      "      \"d4\", \n",
      "      \"d5\", \n",
      "      \"d6\", \n",
      "      \"d7\", \n",
      "      \"d8\", \n",
      "      \"d9\", \n",
      "      \"d10\", \n",
      "      \"d11\", \n",
      "      \"d12\", \n",
      "      \"d13\", \n",
      "      \"d14\", \n",
      "      \"d15\"\n",
      "    ], \n",
      "    \"mean_scal\": [\n",
      "      0.5473392906077275, \n",
      "      0.007328972467854857, \n",
      "      -0.00021615135764749163, \n",
      "      -0.0045611065401147954, \n",
      "      -0.001742501732600654\n",
      "    ], \n",
      "    \"variance\": 0.22530125065524334\n",
      "  }, \n",
      "  \"source3\": {\n",
      "    \"mean_base\": -0.14900120516939744, \n",
      "    \"parents\": [\n",
      "      \"humidity\", \n",
      "      \"temp\", \n",
      "      \"wind_dir\", \n",
      "      \"wind_speed\", \n",
      "      \"offset\"\n",
      "    ], \n",
      "    \"children\": [\n",
      "      \"d0\", \n",
      "      \"d1\", \n",
      "      \"d2\", \n",
      "      \"d3\", \n",
      "      \"d4\", \n",
      "      \"d5\", \n",
      "      \"d6\", \n",
      "      \"d7\", \n",
      "      \"d8\", \n",
      "      \"d9\", \n",
      "      \"d10\", \n",
      "      \"d11\", \n",
      "      \"d12\", \n",
      "      \"d13\", \n",
      "      \"d14\", \n",
      "      \"d15\"\n",
      "    ], \n",
      "    \"mean_scal\": [\n",
      "      0.010831020973340225, \n",
      "      -0.0019897073462770685, \n",
      "      9.692311256802449e-05, \n",
      "      0.006783888062455017, \n",
      "      0.0019696965653829934\n",
      "    ], \n",
      "    \"variance\": 0.10406969622837166\n",
      "  }, \n",
      "  \"source0\": {\n",
      "    \"mean_base\": 0.1453154571386651, \n",
      "    \"parents\": [\n",
      "      \"humidity\", \n",
      "      \"temp\", \n",
      "      \"wind_dir\", \n",
      "      \"wind_speed\", \n",
      "      \"offset\"\n",
      "    ], \n",
      "    \"children\": [\n",
      "      \"d0\", \n",
      "      \"d1\", \n",
      "      \"d2\", \n",
      "      \"d3\", \n",
      "      \"d4\", \n",
      "      \"d5\", \n",
      "      \"d6\", \n",
      "      \"d7\", \n",
      "      \"d8\", \n",
      "      \"d9\", \n",
      "      \"d10\", \n",
      "      \"d11\", \n",
      "      \"d12\", \n",
      "      \"d13\", \n",
      "      \"d14\", \n",
      "      \"d15\"\n",
      "    ], \n",
      "    \"mean_scal\": [\n",
      "      -0.056324064272963846, \n",
      "      0.0074412334051068485, \n",
      "      -9.491713892278213e-05, \n",
      "      0.000867290234813757, \n",
      "      0.00052688366420396\n",
      "    ], \n",
      "    \"variance\": 0.1338374551996989\n",
      "  }, \n",
      "  \"source1\": {\n",
      "    \"mean_base\": 0.7063395134578738, \n",
      "    \"parents\": [\n",
      "      \"humidity\", \n",
      "      \"temp\", \n",
      "      \"wind_dir\", \n",
      "      \"wind_speed\", \n",
      "      \"offset\"\n",
      "    ], \n",
      "    \"children\": [\n",
      "      \"d0\", \n",
      "      \"d1\", \n",
      "      \"d2\", \n",
      "      \"d3\", \n",
      "      \"d4\", \n",
      "      \"d5\", \n",
      "      \"d6\", \n",
      "      \"d7\", \n",
      "      \"d8\", \n",
      "      \"d9\", \n",
      "      \"d10\", \n",
      "      \"d11\", \n",
      "      \"d12\", \n",
      "      \"d13\", \n",
      "      \"d14\", \n",
      "      \"d15\"\n",
      "    ], \n",
      "    \"mean_scal\": [\n",
      "      -0.5018462473135645, \n",
      "      -0.012780498526680497, \n",
      "      0.00021414538400228134, \n",
      "      -0.0030900717571293737, \n",
      "      -0.0007540784969785861\n",
      "    ], \n",
      "    \"variance\": 0.06195004706416432\n",
      "  }, \n",
      "  \"offset\": {\n",
      "    \"mean_base\": 1.0000541201562323, \n",
      "    \"parents\": [], \n",
      "    \"children\": [\n",
      "      \"source0\", \n",
      "      \"source1\", \n",
      "      \"source2\", \n",
      "      \"source3\"\n",
      "    ], \n",
      "    \"mean_scal\": [], \n",
      "    \"variance\": 9.992679203763011e-05\n",
      "  }, \n",
      "  \"wind_dir\": {\n",
      "    \"mean_base\": 105.07814992025519, \n",
      "    \"parents\": [], \n",
      "    \"children\": [\n",
      "      \"source0\", \n",
      "      \"source1\", \n",
      "      \"source2\", \n",
      "      \"source3\"\n",
      "    ], \n",
      "    \"mean_scal\": [], \n",
      "    \"variance\": 6926.493095141797\n",
      "  }, \n",
      "  \"wind_speed\": {\n",
      "    \"mean_base\": 4.101116427432217, \n",
      "    \"parents\": [], \n",
      "    \"children\": [\n",
      "      \"source0\", \n",
      "      \"source1\", \n",
      "      \"source2\", \n",
      "      \"source3\"\n",
      "    ], \n",
      "    \"mean_scal\": [], \n",
      "    \"variance\": 3.593603219299517\n",
      "  }, \n",
      "  \"temp\": {\n",
      "    \"mean_base\": 18.95433971291866, \n",
      "    \"parents\": [], \n",
      "    \"children\": [\n",
      "      \"source0\", \n",
      "      \"source1\", \n",
      "      \"source2\", \n",
      "      \"source3\"\n",
      "    ], \n",
      "    \"mean_scal\": [], \n",
      "    \"variance\": 13.208683702777194\n",
      "  }, \n",
      "  \"humidity\": {\n",
      "    \"mean_base\": 63.91964593301408, \n",
      "    \"parents\": [], \n",
      "    \"children\": [\n",
      "      \"source0\", \n",
      "      \"source1\", \n",
      "      \"source2\", \n",
      "      \"source3\"\n",
      "    ], \n",
      "    \"mean_scal\": [], \n",
      "    \"variance\": 171.2215942925268\n",
      "  }\n",
      "}\n"
     ]
    }
   ],
   "source": [
    "# LOG DATA\n",
    "learner = PGMLearner()\n",
    "# estimate parameters\n",
    "result = learner.lg_mle_estimateparams(skeleton, data_u)\n",
    "\n",
    "# output\n",
    "print json.dumps(result.Vdata, indent=2)"
   ]
  },
  {
   "cell_type": "code",
   "execution_count": 34,
   "metadata": {
    "scrolled": false
   },
   "outputs": [
    {
     "ename": "LinAlgError",
     "evalue": "Singular matrix",
     "output_type": "error",
     "traceback": [
      "\u001b[0;31m---------------------------------------------------------------------------\u001b[0m",
      "\u001b[0;31mLinAlgError\u001b[0m                               Traceback (most recent call last)",
      "\u001b[0;32m<ipython-input-34-6245489d4f71>\u001b[0m in \u001b[0;36m<module>\u001b[0;34m()\u001b[0m\n\u001b[1;32m      3\u001b[0m \u001b[0mlearner\u001b[0m \u001b[0;34m=\u001b[0m \u001b[0mPGMLearner\u001b[0m\u001b[0;34m(\u001b[0m\u001b[0;34m)\u001b[0m\u001b[0;34m\u001b[0m\u001b[0m\n\u001b[1;32m      4\u001b[0m \u001b[0;31m# estimate parameters\u001b[0m\u001b[0;34m\u001b[0m\u001b[0;34m\u001b[0m\u001b[0m\n\u001b[0;32m----> 5\u001b[0;31m \u001b[0mresult\u001b[0m \u001b[0;34m=\u001b[0m \u001b[0mlearner\u001b[0m\u001b[0;34m.\u001b[0m\u001b[0mlg_mle_estimateparams\u001b[0m\u001b[0;34m(\u001b[0m\u001b[0mskeleton\u001b[0m\u001b[0;34m,\u001b[0m \u001b[0mdata_u\u001b[0m\u001b[0;34m)\u001b[0m\u001b[0;34m\u001b[0m\u001b[0m\n\u001b[0m\u001b[1;32m      6\u001b[0m \u001b[0;34m\u001b[0m\u001b[0m\n\u001b[1;32m      7\u001b[0m \u001b[0;31m# output\u001b[0m\u001b[0;34m\u001b[0m\u001b[0;34m\u001b[0m\u001b[0m\n",
      "\u001b[0;32m/usr/local/lib/python2.7/site-packages/libpgm/pgmlearner.pyc\u001b[0m in \u001b[0;36mlg_mle_estimateparams\u001b[0;34m(self, graphskeleton, data)\u001b[0m\n\u001b[1;32m    346\u001b[0m             \u001b[0ma\u001b[0m \u001b[0;34m=\u001b[0m \u001b[0mnp\u001b[0m\u001b[0;34m.\u001b[0m\u001b[0marray\u001b[0m\u001b[0;34m(\u001b[0m\u001b[0msmallsystem\u001b[0m\u001b[0;34m)\u001b[0m\u001b[0;34m\u001b[0m\u001b[0m\n\u001b[1;32m    347\u001b[0m             \u001b[0mb\u001b[0m \u001b[0;34m=\u001b[0m \u001b[0mnp\u001b[0m\u001b[0;34m.\u001b[0m\u001b[0marray\u001b[0m\u001b[0;34m(\u001b[0m\u001b[0mevector\u001b[0m\u001b[0;34m)\u001b[0m\u001b[0;34m\u001b[0m\u001b[0m\n\u001b[0;32m--> 348\u001b[0;31m             \u001b[0msolve\u001b[0m \u001b[0;34m=\u001b[0m \u001b[0mlist\u001b[0m\u001b[0;34m(\u001b[0m\u001b[0mnp\u001b[0m\u001b[0;34m.\u001b[0m\u001b[0mlinalg\u001b[0m\u001b[0;34m.\u001b[0m\u001b[0msolve\u001b[0m\u001b[0;34m(\u001b[0m\u001b[0ma\u001b[0m\u001b[0;34m,\u001b[0m \u001b[0mb\u001b[0m\u001b[0;34m)\u001b[0m\u001b[0;34m)\u001b[0m\u001b[0;34m\u001b[0m\u001b[0m\n\u001b[0m\u001b[1;32m    349\u001b[0m \u001b[0;34m\u001b[0m\u001b[0m\n\u001b[1;32m    350\u001b[0m             \u001b[0;31m# fill mean_base and mean_scal[] with this data\u001b[0m\u001b[0;34m\u001b[0m\u001b[0;34m\u001b[0m\u001b[0m\n",
      "\u001b[0;32m/usr/local/lib/python2.7/site-packages/numpy/linalg/linalg.pyc\u001b[0m in \u001b[0;36msolve\u001b[0;34m(a, b)\u001b[0m\n\u001b[1;32m    373\u001b[0m     \u001b[0msignature\u001b[0m \u001b[0;34m=\u001b[0m \u001b[0;34m'DD->D'\u001b[0m \u001b[0;32mif\u001b[0m \u001b[0misComplexType\u001b[0m\u001b[0;34m(\u001b[0m\u001b[0mt\u001b[0m\u001b[0;34m)\u001b[0m \u001b[0;32melse\u001b[0m \u001b[0;34m'dd->d'\u001b[0m\u001b[0;34m\u001b[0m\u001b[0m\n\u001b[1;32m    374\u001b[0m     \u001b[0mextobj\u001b[0m \u001b[0;34m=\u001b[0m \u001b[0mget_linalg_error_extobj\u001b[0m\u001b[0;34m(\u001b[0m\u001b[0m_raise_linalgerror_singular\u001b[0m\u001b[0;34m)\u001b[0m\u001b[0;34m\u001b[0m\u001b[0m\n\u001b[0;32m--> 375\u001b[0;31m     \u001b[0mr\u001b[0m \u001b[0;34m=\u001b[0m \u001b[0mgufunc\u001b[0m\u001b[0;34m(\u001b[0m\u001b[0ma\u001b[0m\u001b[0;34m,\u001b[0m \u001b[0mb\u001b[0m\u001b[0;34m,\u001b[0m \u001b[0msignature\u001b[0m\u001b[0;34m=\u001b[0m\u001b[0msignature\u001b[0m\u001b[0;34m,\u001b[0m \u001b[0mextobj\u001b[0m\u001b[0;34m=\u001b[0m\u001b[0mextobj\u001b[0m\u001b[0;34m)\u001b[0m\u001b[0;34m\u001b[0m\u001b[0m\n\u001b[0m\u001b[1;32m    376\u001b[0m \u001b[0;34m\u001b[0m\u001b[0m\n\u001b[1;32m    377\u001b[0m     \u001b[0;32mreturn\u001b[0m \u001b[0mwrap\u001b[0m\u001b[0;34m(\u001b[0m\u001b[0mr\u001b[0m\u001b[0;34m.\u001b[0m\u001b[0mastype\u001b[0m\u001b[0;34m(\u001b[0m\u001b[0mresult_t\u001b[0m\u001b[0;34m,\u001b[0m \u001b[0mcopy\u001b[0m\u001b[0;34m=\u001b[0m\u001b[0mFalse\u001b[0m\u001b[0;34m)\u001b[0m\u001b[0;34m)\u001b[0m\u001b[0;34m\u001b[0m\u001b[0m\n",
      "\u001b[0;32m/usr/local/lib/python2.7/site-packages/numpy/linalg/linalg.pyc\u001b[0m in \u001b[0;36m_raise_linalgerror_singular\u001b[0;34m(err, flag)\u001b[0m\n\u001b[1;32m     88\u001b[0m \u001b[0;34m\u001b[0m\u001b[0m\n\u001b[1;32m     89\u001b[0m \u001b[0;32mdef\u001b[0m \u001b[0m_raise_linalgerror_singular\u001b[0m\u001b[0;34m(\u001b[0m\u001b[0merr\u001b[0m\u001b[0;34m,\u001b[0m \u001b[0mflag\u001b[0m\u001b[0;34m)\u001b[0m\u001b[0;34m:\u001b[0m\u001b[0;34m\u001b[0m\u001b[0m\n\u001b[0;32m---> 90\u001b[0;31m     \u001b[0;32mraise\u001b[0m \u001b[0mLinAlgError\u001b[0m\u001b[0;34m(\u001b[0m\u001b[0;34m\"Singular matrix\"\u001b[0m\u001b[0;34m)\u001b[0m\u001b[0;34m\u001b[0m\u001b[0m\n\u001b[0m\u001b[1;32m     91\u001b[0m \u001b[0;34m\u001b[0m\u001b[0m\n\u001b[1;32m     92\u001b[0m \u001b[0;32mdef\u001b[0m \u001b[0m_raise_linalgerror_nonposdef\u001b[0m\u001b[0;34m(\u001b[0m\u001b[0merr\u001b[0m\u001b[0;34m,\u001b[0m \u001b[0mflag\u001b[0m\u001b[0;34m)\u001b[0m\u001b[0;34m:\u001b[0m\u001b[0;34m\u001b[0m\u001b[0m\n",
      "\u001b[0;31mLinAlgError\u001b[0m: Singular matrix"
     ]
    }
   ],
   "source": [
    "#not log\n",
    "# instantiate my learner \n",
    "learner = PGMLearner()\n",
    "# estimate parameters\n",
    "result = learner.lg_mle_estimateparams(skeleton, data_u)\n",
    "\n",
    "# output\n",
    "print json.dumps(result.Vdata, indent=2)"
   ]
  },
  {
   "cell_type": "markdown",
   "metadata": {},
   "source": [
    "### ---- Code below is useless (at least for now) ----"
   ]
  },
  {
   "cell_type": "code",
   "execution_count": null,
   "metadata": {},
   "outputs": [],
   "source": [
    "len(data)"
   ]
  },
  {
   "cell_type": "code",
   "execution_count": null,
   "metadata": {},
   "outputs": [],
   "source": [
    "#%%timeit\n",
    "result = learner.lg_estimatebn(data)"
   ]
  },
  {
   "cell_type": "code",
   "execution_count": null,
   "metadata": {
    "scrolled": true
   },
   "outputs": [],
   "source": [
    "result"
   ]
  },
  {
   "cell_type": "code",
   "execution_count": null,
   "metadata": {},
   "outputs": [],
   "source": [
    "%%timeit\n",
    "result_constraint = learner.lg_constraint_estimatestruct(data[:100])"
   ]
  },
  {
   "cell_type": "code",
   "execution_count": null,
   "metadata": {
    "collapsed": true
   },
   "outputs": [],
   "source": [
    "result_constraint = learner.lg_constraint_estimatestruct(data[:100])"
   ]
  },
  {
   "cell_type": "code",
   "execution_count": null,
   "metadata": {},
   "outputs": [],
   "source": [
    "print json.dumps(result.E, indent=2)\n",
    "print json.dumps(result.Vdata, indent=2)"
   ]
  },
  {
   "cell_type": "code",
   "execution_count": null,
   "metadata": {
    "scrolled": true
   },
   "outputs": [],
   "source": [
    "print json.dumps(result_constraint.E, indent=2)\n",
    "print json.dumps(result_constraint.Vdata, indent=2)"
   ]
  },
  {
   "cell_type": "code",
   "execution_count": null,
   "metadata": {
    "collapsed": true
   },
   "outputs": [],
   "source": [
    "from sklearn.covariance import EmpiricalCovariance"
   ]
  },
  {
   "cell_type": "code",
   "execution_count": null,
   "metadata": {
    "collapsed": true
   },
   "outputs": [],
   "source": [
    "p = \"pickles/alliance_sub.p\"\n",
    "df = pd.read_pickle(p)\n",
    "features = ['no2','o3','no','so2','temp', 'humidity', 'd0', 'd1', 'd2', 'd3', 'd4','d5', 'd6', 'd7',\\\n",
    "            'd8', 'd9', 'd10', 'd11', 'd12', 'd13', 'd14', 'd15',\"dir_(degrees)\",\"spd_(m/s)\"]\n",
    "df = df[features]"
   ]
  },
  {
   "cell_type": "code",
   "execution_count": null,
   "metadata": {},
   "outputs": [],
   "source": [
    "cov = EmpiricalCovariance()\n",
    "cov_fitted = cov.fit(df)"
   ]
  },
  {
   "cell_type": "code",
   "execution_count": null,
   "metadata": {},
   "outputs": [],
   "source": [
    "cov_fitted.covariance_"
   ]
  }
 ],
 "metadata": {
  "anaconda-cloud": {},
  "kernelspec": {
   "display_name": "Python 2",
   "language": "python",
   "name": "python2"
  },
  "language_info": {
   "codemirror_mode": {
    "name": "ipython",
    "version": 2
   },
   "file_extension": ".py",
   "mimetype": "text/x-python",
   "name": "python",
   "nbconvert_exporter": "python",
   "pygments_lexer": "ipython2",
   "version": "2.7.13"
  }
 },
 "nbformat": 4,
 "nbformat_minor": 2
}
