{
 "cells": [
  {
   "cell_type": "code",
   "execution_count": 3,
   "metadata": {
    "collapsed": true
   },
   "outputs": [],
   "source": [
    "import pandas as pd\n",
    "from sklearn.cluster import KMeans,SpectralClustering,DBSCAN\n",
    "import numpy as np\n",
    "import matplotlib.pyplot as plt\n",
    "from collections import Counter\n",
    "import calmap\n",
    "from sklearn import metrics\n",
    "from sklearn.preprocessing import StandardScaler\n"
   ]
  },
  {
   "cell_type": "code",
   "execution_count": 2,
   "metadata": {
    "collapsed": true,
    "scrolled": false
   },
   "outputs": [],
   "source": [
    "def make_dataframe(f):\n",
    "    df = pd.read_csv(f)\n",
    "    print(\"imported file. converting datetime\")\n",
    "    if 'time' in df.columns.values:\n",
    "        df['dt'] = pd.to_datetime(df['date'] + ' ' + df['time'], dayfirst=True)\n",
    "    else:\n",
    "        df['dt'] = pd.to_datetime(df['d'] + ' ' + df['t'],dayfirst=True)\n",
    "    df['dt'] = df['dt'].dt.round('min')\n",
    "    return df\n",
    "\n",
    "def cluster_a_file(df, n_clusters = 6):\n",
    "    \n",
    "    feature_design = [\"bin%d\"%x for x in range(16)]\n",
    "    print(\"feature design: \" + str(feature_design))\n",
    "    \n",
    "    kibera_recent = df.dropna(axis=0, how='any',subset=feature_design) #drops one line\n",
    "    print(\"dropping all rows containing NaN in feature matrix: %d -> %d\" % (len(df),len(kibera_recent)))\n",
    "    \n",
    "    X = kibera_recent[feature_design].as_matrix()\n",
    "    kmeans = KMeans(n_clusters = n_clusters, random_state=0).fit(X)\n",
    "    y_pred = kmeans.predict(X)\n",
    "    \n",
    "    kibera_recent['cluster'] = pd.Series(y_pred)\n",
    "    \n",
    "    count = Counter(y_pred)\n",
    "    print(\"# of points in each bin:\")\n",
    "    print count.items()\n",
    "    \n",
    "    return kibera_recent, kmeans\n",
    "\n",
    "def plot_cluster_centers(kmeans):\n",
    "    centers = kmeans.cluster_centers_.tolist()\n",
    "    for i,a in enumerate(centers):\n",
    "        plt.bar(range(16), a)\n",
    "        plt.title(\"cluster %d\" % (i+1))\n",
    "        plt.show()"
   ]
  },
  {
   "cell_type": "code",
   "execution_count": 378,
   "metadata": {
    "collapsed": true
   },
   "outputs": [],
   "source": [
    "wind = pd.read_csv(\"data/windspeed.csv\")\n",
    "wind['date'] = pd.to_datetime(wind['date'], dayfirst=True) + pd.Timedelta('03:00:00') #convert to Nairobi local time\n"
   ]
  },
  {
   "cell_type": "code",
   "execution_count": 372,
   "metadata": {
    "scrolled": true
   },
   "outputs": [
    {
     "data": {
      "text/html": [
       "<div>\n",
       "<style scoped>\n",
       "    .dataframe tbody tr th:only-of-type {\n",
       "        vertical-align: middle;\n",
       "    }\n",
       "\n",
       "    .dataframe tbody tr th {\n",
       "        vertical-align: top;\n",
       "    }\n",
       "\n",
       "    .dataframe thead th {\n",
       "        text-align: right;\n",
       "    }\n",
       "</style>\n",
       "<table border=\"1\" class=\"dataframe\">\n",
       "  <thead>\n",
       "    <tr style=\"text-align: right;\">\n",
       "      <th></th>\n",
       "      <th>date</th>\n",
       "      <th>nsec</th>\n",
       "      <th>altm_(hpa)</th>\n",
       "      <th>temp (degree_c)</th>\n",
       "      <th>dew (degree_c)</th>\n",
       "      <th>rh_(percentage)</th>\n",
       "      <th>dir_(degrees)</th>\n",
       "      <th>spd_(m/s)</th>\n",
       "      <th>vis (km)</th>\n",
       "      <th>clouds (====)</th>\n",
       "    </tr>\n",
       "  </thead>\n",
       "  <tbody>\n",
       "    <tr>\n",
       "      <th>0</th>\n",
       "      <td>2016-04-30 05:00:00</td>\n",
       "      <td>3670970400</td>\n",
       "      <td>1020.0</td>\n",
       "      <td>18</td>\n",
       "      <td>18</td>\n",
       "      <td>100</td>\n",
       "      <td>60</td>\n",
       "      <td>2</td>\n",
       "      <td>10.0</td>\n",
       "      <td>SCT007</td>\n",
       "    </tr>\n",
       "    <tr>\n",
       "      <th>1</th>\n",
       "      <td>2016-04-30 06:00:00</td>\n",
       "      <td>3670974000</td>\n",
       "      <td>1020.0</td>\n",
       "      <td>18</td>\n",
       "      <td>17</td>\n",
       "      <td>94</td>\n",
       "      <td>50</td>\n",
       "      <td>2</td>\n",
       "      <td>10.0</td>\n",
       "      <td>SCT007</td>\n",
       "    </tr>\n",
       "    <tr>\n",
       "      <th>2</th>\n",
       "      <td>2016-04-30 07:00:00</td>\n",
       "      <td>3670977600</td>\n",
       "      <td>1021.0</td>\n",
       "      <td>18</td>\n",
       "      <td>18</td>\n",
       "      <td>100</td>\n",
       "      <td>60</td>\n",
       "      <td>2</td>\n",
       "      <td>10.0</td>\n",
       "      <td>FEW007</td>\n",
       "    </tr>\n",
       "    <tr>\n",
       "      <th>3</th>\n",
       "      <td>2016-04-30 08:00:00</td>\n",
       "      <td>3670981200</td>\n",
       "      <td>1021.0</td>\n",
       "      <td>18</td>\n",
       "      <td>18</td>\n",
       "      <td>100</td>\n",
       "      <td>70</td>\n",
       "      <td>3</td>\n",
       "      <td>10.0</td>\n",
       "      <td>SCT007</td>\n",
       "    </tr>\n",
       "    <tr>\n",
       "      <th>4</th>\n",
       "      <td>2016-04-30 09:00:00</td>\n",
       "      <td>3670984800</td>\n",
       "      <td>1022.0</td>\n",
       "      <td>19</td>\n",
       "      <td>18</td>\n",
       "      <td>94</td>\n",
       "      <td>70</td>\n",
       "      <td>3</td>\n",
       "      <td>10.0</td>\n",
       "      <td>SCT010</td>\n",
       "    </tr>\n",
       "    <tr>\n",
       "      <th>5</th>\n",
       "      <td>2016-04-30 10:00:00</td>\n",
       "      <td>3670988400</td>\n",
       "      <td>1022.0</td>\n",
       "      <td>20</td>\n",
       "      <td>18</td>\n",
       "      <td>88</td>\n",
       "      <td>50</td>\n",
       "      <td>2</td>\n",
       "      <td>10.0</td>\n",
       "      <td>BKN021</td>\n",
       "    </tr>\n",
       "    <tr>\n",
       "      <th>6</th>\n",
       "      <td>2016-04-30 11:00:00</td>\n",
       "      <td>3670992000</td>\n",
       "      <td>1022.0</td>\n",
       "      <td>19</td>\n",
       "      <td>18</td>\n",
       "      <td>94</td>\n",
       "      <td>220</td>\n",
       "      <td>3</td>\n",
       "      <td>10.0</td>\n",
       "      <td>FEW010</td>\n",
       "    </tr>\n",
       "    <tr>\n",
       "      <th>7</th>\n",
       "      <td>2016-04-30 12:00:00</td>\n",
       "      <td>3670995600</td>\n",
       "      <td>1022.0</td>\n",
       "      <td>18</td>\n",
       "      <td>17</td>\n",
       "      <td>94</td>\n",
       "      <td>210</td>\n",
       "      <td>3</td>\n",
       "      <td>10.0</td>\n",
       "      <td>BKN022</td>\n",
       "    </tr>\n",
       "    <tr>\n",
       "      <th>8</th>\n",
       "      <td>2016-04-30 13:00:00</td>\n",
       "      <td>3670999200</td>\n",
       "      <td>1021.0</td>\n",
       "      <td>19</td>\n",
       "      <td>18</td>\n",
       "      <td>94</td>\n",
       "      <td>110</td>\n",
       "      <td>2</td>\n",
       "      <td>10.0</td>\n",
       "      <td>BKN023</td>\n",
       "    </tr>\n",
       "    <tr>\n",
       "      <th>9</th>\n",
       "      <td>2016-04-30 14:00:00</td>\n",
       "      <td>3671002800</td>\n",
       "      <td>1020.0</td>\n",
       "      <td>20</td>\n",
       "      <td>18</td>\n",
       "      <td>88</td>\n",
       "      <td>120</td>\n",
       "      <td>3</td>\n",
       "      <td>10.0</td>\n",
       "      <td>BKN023</td>\n",
       "    </tr>\n",
       "    <tr>\n",
       "      <th>10</th>\n",
       "      <td>2016-04-30 15:00:00</td>\n",
       "      <td>3671006400</td>\n",
       "      <td>1019.0</td>\n",
       "      <td>22</td>\n",
       "      <td>17</td>\n",
       "      <td>73</td>\n",
       "      <td>80</td>\n",
       "      <td>3</td>\n",
       "      <td>10.0</td>\n",
       "      <td>BKN024</td>\n",
       "    </tr>\n",
       "    <tr>\n",
       "      <th>11</th>\n",
       "      <td>2016-04-30 16:00:00</td>\n",
       "      <td>3671010000</td>\n",
       "      <td>1018.0</td>\n",
       "      <td>22</td>\n",
       "      <td>17</td>\n",
       "      <td>73</td>\n",
       "      <td>100</td>\n",
       "      <td>3</td>\n",
       "      <td>10.0</td>\n",
       "      <td>SCT025</td>\n",
       "    </tr>\n",
       "    <tr>\n",
       "      <th>12</th>\n",
       "      <td>2016-04-30 17:00:00</td>\n",
       "      <td>3671013600</td>\n",
       "      <td>1018.0</td>\n",
       "      <td>22</td>\n",
       "      <td>18</td>\n",
       "      <td>78</td>\n",
       "      <td>110</td>\n",
       "      <td>2</td>\n",
       "      <td>10.0</td>\n",
       "      <td>FEW024</td>\n",
       "    </tr>\n",
       "    <tr>\n",
       "      <th>13</th>\n",
       "      <td>2016-04-30 18:00:00</td>\n",
       "      <td>3671017200</td>\n",
       "      <td>1019.0</td>\n",
       "      <td>21</td>\n",
       "      <td>17</td>\n",
       "      <td>78</td>\n",
       "      <td>20</td>\n",
       "      <td>2</td>\n",
       "      <td>10.0</td>\n",
       "      <td>FEW023</td>\n",
       "    </tr>\n",
       "    <tr>\n",
       "      <th>14</th>\n",
       "      <td>2016-04-30 19:00:00</td>\n",
       "      <td>3671020800</td>\n",
       "      <td>1019.0</td>\n",
       "      <td>20</td>\n",
       "      <td>17</td>\n",
       "      <td>83</td>\n",
       "      <td>170</td>\n",
       "      <td>3</td>\n",
       "      <td>10.0</td>\n",
       "      <td>FEW022</td>\n",
       "    </tr>\n",
       "    <tr>\n",
       "      <th>15</th>\n",
       "      <td>2016-04-30 20:00:00</td>\n",
       "      <td>3671024400</td>\n",
       "      <td>1020.0</td>\n",
       "      <td>19</td>\n",
       "      <td>17</td>\n",
       "      <td>88</td>\n",
       "      <td>280</td>\n",
       "      <td>2</td>\n",
       "      <td>10.0</td>\n",
       "      <td>SCT022</td>\n",
       "    </tr>\n",
       "    <tr>\n",
       "      <th>16</th>\n",
       "      <td>2016-04-30 21:00:00</td>\n",
       "      <td>3671028000</td>\n",
       "      <td>1022.0</td>\n",
       "      <td>18</td>\n",
       "      <td>17</td>\n",
       "      <td>94</td>\n",
       "      <td>210</td>\n",
       "      <td>3</td>\n",
       "      <td>10.0</td>\n",
       "      <td>BKN022</td>\n",
       "    </tr>\n",
       "    <tr>\n",
       "      <th>17</th>\n",
       "      <td>2016-04-30 22:00:00</td>\n",
       "      <td>3671031600</td>\n",
       "      <td>1022.0</td>\n",
       "      <td>19</td>\n",
       "      <td>18</td>\n",
       "      <td>94</td>\n",
       "      <td>340</td>\n",
       "      <td>2</td>\n",
       "      <td>10.0</td>\n",
       "      <td>SCT020</td>\n",
       "    </tr>\n",
       "    <tr>\n",
       "      <th>18</th>\n",
       "      <td>2016-04-30 23:00:00</td>\n",
       "      <td>3671035200</td>\n",
       "      <td>1022.0</td>\n",
       "      <td>19</td>\n",
       "      <td>18</td>\n",
       "      <td>94</td>\n",
       "      <td>60</td>\n",
       "      <td>2</td>\n",
       "      <td>10.0</td>\n",
       "      <td>BKN019</td>\n",
       "    </tr>\n",
       "    <tr>\n",
       "      <th>19</th>\n",
       "      <td>2016-05-01 00:00:00</td>\n",
       "      <td>3671038800</td>\n",
       "      <td>1022.0</td>\n",
       "      <td>19</td>\n",
       "      <td>18</td>\n",
       "      <td>94</td>\n",
       "      <td>30</td>\n",
       "      <td>2</td>\n",
       "      <td>10.0</td>\n",
       "      <td>BKN019</td>\n",
       "    </tr>\n",
       "    <tr>\n",
       "      <th>20</th>\n",
       "      <td>2016-05-01 02:00:00</td>\n",
       "      <td>3671046000</td>\n",
       "      <td>1020.0</td>\n",
       "      <td>18</td>\n",
       "      <td>17</td>\n",
       "      <td>94</td>\n",
       "      <td>260</td>\n",
       "      <td>2</td>\n",
       "      <td>10.0</td>\n",
       "      <td>BKN018</td>\n",
       "    </tr>\n",
       "    <tr>\n",
       "      <th>21</th>\n",
       "      <td>2016-01-05 04:00:00</td>\n",
       "      <td>3671053200</td>\n",
       "      <td>1019.0</td>\n",
       "      <td>18</td>\n",
       "      <td>17</td>\n",
       "      <td>94</td>\n",
       "      <td>280</td>\n",
       "      <td>2</td>\n",
       "      <td>10.0</td>\n",
       "      <td>BKN017</td>\n",
       "    </tr>\n",
       "    <tr>\n",
       "      <th>22</th>\n",
       "      <td>2016-01-05 05:00:00</td>\n",
       "      <td>3671056800</td>\n",
       "      <td>1020.0</td>\n",
       "      <td>18</td>\n",
       "      <td>17</td>\n",
       "      <td>94</td>\n",
       "      <td>300</td>\n",
       "      <td>2</td>\n",
       "      <td>10.0</td>\n",
       "      <td>BKN017</td>\n",
       "    </tr>\n",
       "    <tr>\n",
       "      <th>23</th>\n",
       "      <td>2016-01-05 06:00:00</td>\n",
       "      <td>3671060400</td>\n",
       "      <td>1020.0</td>\n",
       "      <td>18</td>\n",
       "      <td>17</td>\n",
       "      <td>94</td>\n",
       "      <td>80</td>\n",
       "      <td>2</td>\n",
       "      <td>10.0</td>\n",
       "      <td>BKN017</td>\n",
       "    </tr>\n",
       "    <tr>\n",
       "      <th>24</th>\n",
       "      <td>2016-01-05 07:00:00</td>\n",
       "      <td>3671064000</td>\n",
       "      <td>1021.0</td>\n",
       "      <td>18</td>\n",
       "      <td>17</td>\n",
       "      <td>94</td>\n",
       "      <td>90</td>\n",
       "      <td>2</td>\n",
       "      <td>10.0</td>\n",
       "      <td>BKN017</td>\n",
       "    </tr>\n",
       "    <tr>\n",
       "      <th>25</th>\n",
       "      <td>2016-01-05 08:00:00</td>\n",
       "      <td>3671067600</td>\n",
       "      <td>1022.0</td>\n",
       "      <td>18</td>\n",
       "      <td>17</td>\n",
       "      <td>94</td>\n",
       "      <td>30</td>\n",
       "      <td>2</td>\n",
       "      <td>10.0</td>\n",
       "      <td>BKN018</td>\n",
       "    </tr>\n",
       "    <tr>\n",
       "      <th>26</th>\n",
       "      <td>2016-01-05 08:30:00</td>\n",
       "      <td>3671069400</td>\n",
       "      <td>1022.0</td>\n",
       "      <td>18</td>\n",
       "      <td>17</td>\n",
       "      <td>94</td>\n",
       "      <td>30</td>\n",
       "      <td>2</td>\n",
       "      <td>10.0</td>\n",
       "      <td>BKN018</td>\n",
       "    </tr>\n",
       "    <tr>\n",
       "      <th>27</th>\n",
       "      <td>2016-01-05 09:00:00</td>\n",
       "      <td>3671071200</td>\n",
       "      <td>1022.0</td>\n",
       "      <td>19</td>\n",
       "      <td>18</td>\n",
       "      <td>94</td>\n",
       "      <td>30</td>\n",
       "      <td>2</td>\n",
       "      <td>10.0</td>\n",
       "      <td>BKN018</td>\n",
       "    </tr>\n",
       "    <tr>\n",
       "      <th>28</th>\n",
       "      <td>2016-01-05 09:30:00</td>\n",
       "      <td>3671073000</td>\n",
       "      <td>1023.0</td>\n",
       "      <td>19</td>\n",
       "      <td>18</td>\n",
       "      <td>94</td>\n",
       "      <td>30</td>\n",
       "      <td>2</td>\n",
       "      <td>10.0</td>\n",
       "      <td>BKN019</td>\n",
       "    </tr>\n",
       "    <tr>\n",
       "      <th>29</th>\n",
       "      <td>2016-01-05 10:00:00</td>\n",
       "      <td>3671074800</td>\n",
       "      <td>1023.0</td>\n",
       "      <td>19</td>\n",
       "      <td>18</td>\n",
       "      <td>94</td>\n",
       "      <td>30</td>\n",
       "      <td>2</td>\n",
       "      <td>10.0</td>\n",
       "      <td>BKN020</td>\n",
       "    </tr>\n",
       "    <tr>\n",
       "      <th>30</th>\n",
       "      <td>2016-01-05 10:30:00</td>\n",
       "      <td>3671076600</td>\n",
       "      <td>1023.0</td>\n",
       "      <td>20</td>\n",
       "      <td>18</td>\n",
       "      <td>88</td>\n",
       "      <td>70</td>\n",
       "      <td>3</td>\n",
       "      <td>10.0</td>\n",
       "      <td>SCT020</td>\n",
       "    </tr>\n",
       "    <tr>\n",
       "      <th>31</th>\n",
       "      <td>2016-01-05 11:00:00</td>\n",
       "      <td>3671078400</td>\n",
       "      <td>1023.0</td>\n",
       "      <td>20</td>\n",
       "      <td>18</td>\n",
       "      <td>88</td>\n",
       "      <td>50</td>\n",
       "      <td>3</td>\n",
       "      <td>10.0</td>\n",
       "      <td>SCT020</td>\n",
       "    </tr>\n",
       "    <tr>\n",
       "      <th>32</th>\n",
       "      <td>2016-01-05 11:30:00</td>\n",
       "      <td>3671080200</td>\n",
       "      <td>1023.0</td>\n",
       "      <td>20</td>\n",
       "      <td>18</td>\n",
       "      <td>88</td>\n",
       "      <td>60</td>\n",
       "      <td>5</td>\n",
       "      <td>10.0</td>\n",
       "      <td>SCT020</td>\n",
       "    </tr>\n",
       "    <tr>\n",
       "      <th>33</th>\n",
       "      <td>2016-01-05 12:00:00</td>\n",
       "      <td>3671082000</td>\n",
       "      <td>1022.0</td>\n",
       "      <td>20</td>\n",
       "      <td>18</td>\n",
       "      <td>88</td>\n",
       "      <td>70</td>\n",
       "      <td>6</td>\n",
       "      <td>10.0</td>\n",
       "      <td>SCT020</td>\n",
       "    </tr>\n",
       "    <tr>\n",
       "      <th>34</th>\n",
       "      <td>2016-01-05 12:30:00</td>\n",
       "      <td>3671083800</td>\n",
       "      <td>1022.0</td>\n",
       "      <td>20</td>\n",
       "      <td>18</td>\n",
       "      <td>88</td>\n",
       "      <td>90</td>\n",
       "      <td>4</td>\n",
       "      <td>10.0</td>\n",
       "      <td>SCT018</td>\n",
       "    </tr>\n",
       "    <tr>\n",
       "      <th>35</th>\n",
       "      <td>2016-01-05 13:00:00</td>\n",
       "      <td>3671085600</td>\n",
       "      <td>1021.0</td>\n",
       "      <td>21</td>\n",
       "      <td>18</td>\n",
       "      <td>83</td>\n",
       "      <td>30</td>\n",
       "      <td>4</td>\n",
       "      <td>10.0</td>\n",
       "      <td>BKN019</td>\n",
       "    </tr>\n",
       "    <tr>\n",
       "      <th>36</th>\n",
       "      <td>2016-01-05 13:30:00</td>\n",
       "      <td>3671087400</td>\n",
       "      <td>1020.0</td>\n",
       "      <td>22</td>\n",
       "      <td>18</td>\n",
       "      <td>78</td>\n",
       "      <td>30</td>\n",
       "      <td>4</td>\n",
       "      <td>10.0</td>\n",
       "      <td>BKN019</td>\n",
       "    </tr>\n",
       "    <tr>\n",
       "      <th>37</th>\n",
       "      <td>2016-01-05 14:00:00</td>\n",
       "      <td>3671089200</td>\n",
       "      <td>1020.0</td>\n",
       "      <td>21</td>\n",
       "      <td>17</td>\n",
       "      <td>78</td>\n",
       "      <td>350</td>\n",
       "      <td>5</td>\n",
       "      <td>10.0</td>\n",
       "      <td>FEW015</td>\n",
       "    </tr>\n",
       "    <tr>\n",
       "      <th>38</th>\n",
       "      <td>2016-01-05 14:30:00</td>\n",
       "      <td>3671091000</td>\n",
       "      <td>1020.0</td>\n",
       "      <td>20</td>\n",
       "      <td>18</td>\n",
       "      <td>88</td>\n",
       "      <td>90</td>\n",
       "      <td>3</td>\n",
       "      <td>4.0</td>\n",
       "      <td>FEW015</td>\n",
       "    </tr>\n",
       "    <tr>\n",
       "      <th>39</th>\n",
       "      <td>2016-01-05 15:00:00</td>\n",
       "      <td>3671092800</td>\n",
       "      <td>1020.0</td>\n",
       "      <td>20</td>\n",
       "      <td>18</td>\n",
       "      <td>88</td>\n",
       "      <td>70</td>\n",
       "      <td>5</td>\n",
       "      <td>4.0</td>\n",
       "      <td>FEW015</td>\n",
       "    </tr>\n",
       "    <tr>\n",
       "      <th>40</th>\n",
       "      <td>2016-01-05 15:30:00</td>\n",
       "      <td>3671094600</td>\n",
       "      <td>1019.0</td>\n",
       "      <td>19</td>\n",
       "      <td>18</td>\n",
       "      <td>94</td>\n",
       "      <td>30</td>\n",
       "      <td>3</td>\n",
       "      <td>5.0</td>\n",
       "      <td>FEW017</td>\n",
       "    </tr>\n",
       "    <tr>\n",
       "      <th>41</th>\n",
       "      <td>2016-01-05 16:00:00</td>\n",
       "      <td>3671096400</td>\n",
       "      <td>1019.0</td>\n",
       "      <td>19</td>\n",
       "      <td>18</td>\n",
       "      <td>94</td>\n",
       "      <td>30</td>\n",
       "      <td>2</td>\n",
       "      <td>10.0</td>\n",
       "      <td>FEW017</td>\n",
       "    </tr>\n",
       "    <tr>\n",
       "      <th>42</th>\n",
       "      <td>2016-01-05 16:30:00</td>\n",
       "      <td>3671098200</td>\n",
       "      <td>1019.0</td>\n",
       "      <td>19</td>\n",
       "      <td>18</td>\n",
       "      <td>94</td>\n",
       "      <td>0</td>\n",
       "      <td>0</td>\n",
       "      <td>10.0</td>\n",
       "      <td>FEW018</td>\n",
       "    </tr>\n",
       "    <tr>\n",
       "      <th>43</th>\n",
       "      <td>2016-01-05 17:00:00</td>\n",
       "      <td>3671100000</td>\n",
       "      <td>1019.0</td>\n",
       "      <td>20</td>\n",
       "      <td>18</td>\n",
       "      <td>88</td>\n",
       "      <td>0</td>\n",
       "      <td>0</td>\n",
       "      <td>10.0</td>\n",
       "      <td>FEW020</td>\n",
       "    </tr>\n",
       "    <tr>\n",
       "      <th>44</th>\n",
       "      <td>2016-01-05 17:30:00</td>\n",
       "      <td>3671101800</td>\n",
       "      <td>1019.0</td>\n",
       "      <td>20</td>\n",
       "      <td>18</td>\n",
       "      <td>88</td>\n",
       "      <td>30</td>\n",
       "      <td>3</td>\n",
       "      <td>10.0</td>\n",
       "      <td>FEW020</td>\n",
       "    </tr>\n",
       "    <tr>\n",
       "      <th>45</th>\n",
       "      <td>2016-01-05 18:00:00</td>\n",
       "      <td>3671103600</td>\n",
       "      <td>1020.0</td>\n",
       "      <td>20</td>\n",
       "      <td>18</td>\n",
       "      <td>88</td>\n",
       "      <td>130</td>\n",
       "      <td>3</td>\n",
       "      <td>10.0</td>\n",
       "      <td>FEW020</td>\n",
       "    </tr>\n",
       "    <tr>\n",
       "      <th>46</th>\n",
       "      <td>2016-01-05 18:30:00</td>\n",
       "      <td>3671105400</td>\n",
       "      <td>1020.0</td>\n",
       "      <td>20</td>\n",
       "      <td>17</td>\n",
       "      <td>83</td>\n",
       "      <td>120</td>\n",
       "      <td>3</td>\n",
       "      <td>10.0</td>\n",
       "      <td>FEW020</td>\n",
       "    </tr>\n",
       "    <tr>\n",
       "      <th>47</th>\n",
       "      <td>2016-01-05 19:00:00</td>\n",
       "      <td>3671107200</td>\n",
       "      <td>1020.0</td>\n",
       "      <td>19</td>\n",
       "      <td>18</td>\n",
       "      <td>94</td>\n",
       "      <td>130</td>\n",
       "      <td>3</td>\n",
       "      <td>10.0</td>\n",
       "      <td>FEW020</td>\n",
       "    </tr>\n",
       "    <tr>\n",
       "      <th>48</th>\n",
       "      <td>2016-01-05 19:30:00</td>\n",
       "      <td>3671109000</td>\n",
       "      <td>1021.0</td>\n",
       "      <td>19</td>\n",
       "      <td>17</td>\n",
       "      <td>88</td>\n",
       "      <td>130</td>\n",
       "      <td>3</td>\n",
       "      <td>10.0</td>\n",
       "      <td>FEW020</td>\n",
       "    </tr>\n",
       "    <tr>\n",
       "      <th>49</th>\n",
       "      <td>2016-01-05 20:00:00</td>\n",
       "      <td>3671110800</td>\n",
       "      <td>1021.0</td>\n",
       "      <td>19</td>\n",
       "      <td>18</td>\n",
       "      <td>94</td>\n",
       "      <td>190</td>\n",
       "      <td>2</td>\n",
       "      <td>10.0</td>\n",
       "      <td>FEW021</td>\n",
       "    </tr>\n",
       "  </tbody>\n",
       "</table>\n",
       "</div>"
      ],
      "text/plain": [
       "                  date        nsec  altm_(hpa)  temp (degree_c)  \\\n",
       "0  2016-04-30 05:00:00  3670970400      1020.0               18   \n",
       "1  2016-04-30 06:00:00  3670974000      1020.0               18   \n",
       "2  2016-04-30 07:00:00  3670977600      1021.0               18   \n",
       "3  2016-04-30 08:00:00  3670981200      1021.0               18   \n",
       "4  2016-04-30 09:00:00  3670984800      1022.0               19   \n",
       "5  2016-04-30 10:00:00  3670988400      1022.0               20   \n",
       "6  2016-04-30 11:00:00  3670992000      1022.0               19   \n",
       "7  2016-04-30 12:00:00  3670995600      1022.0               18   \n",
       "8  2016-04-30 13:00:00  3670999200      1021.0               19   \n",
       "9  2016-04-30 14:00:00  3671002800      1020.0               20   \n",
       "10 2016-04-30 15:00:00  3671006400      1019.0               22   \n",
       "11 2016-04-30 16:00:00  3671010000      1018.0               22   \n",
       "12 2016-04-30 17:00:00  3671013600      1018.0               22   \n",
       "13 2016-04-30 18:00:00  3671017200      1019.0               21   \n",
       "14 2016-04-30 19:00:00  3671020800      1019.0               20   \n",
       "15 2016-04-30 20:00:00  3671024400      1020.0               19   \n",
       "16 2016-04-30 21:00:00  3671028000      1022.0               18   \n",
       "17 2016-04-30 22:00:00  3671031600      1022.0               19   \n",
       "18 2016-04-30 23:00:00  3671035200      1022.0               19   \n",
       "19 2016-05-01 00:00:00  3671038800      1022.0               19   \n",
       "20 2016-05-01 02:00:00  3671046000      1020.0               18   \n",
       "21 2016-01-05 04:00:00  3671053200      1019.0               18   \n",
       "22 2016-01-05 05:00:00  3671056800      1020.0               18   \n",
       "23 2016-01-05 06:00:00  3671060400      1020.0               18   \n",
       "24 2016-01-05 07:00:00  3671064000      1021.0               18   \n",
       "25 2016-01-05 08:00:00  3671067600      1022.0               18   \n",
       "26 2016-01-05 08:30:00  3671069400      1022.0               18   \n",
       "27 2016-01-05 09:00:00  3671071200      1022.0               19   \n",
       "28 2016-01-05 09:30:00  3671073000      1023.0               19   \n",
       "29 2016-01-05 10:00:00  3671074800      1023.0               19   \n",
       "30 2016-01-05 10:30:00  3671076600      1023.0               20   \n",
       "31 2016-01-05 11:00:00  3671078400      1023.0               20   \n",
       "32 2016-01-05 11:30:00  3671080200      1023.0               20   \n",
       "33 2016-01-05 12:00:00  3671082000      1022.0               20   \n",
       "34 2016-01-05 12:30:00  3671083800      1022.0               20   \n",
       "35 2016-01-05 13:00:00  3671085600      1021.0               21   \n",
       "36 2016-01-05 13:30:00  3671087400      1020.0               22   \n",
       "37 2016-01-05 14:00:00  3671089200      1020.0               21   \n",
       "38 2016-01-05 14:30:00  3671091000      1020.0               20   \n",
       "39 2016-01-05 15:00:00  3671092800      1020.0               20   \n",
       "40 2016-01-05 15:30:00  3671094600      1019.0               19   \n",
       "41 2016-01-05 16:00:00  3671096400      1019.0               19   \n",
       "42 2016-01-05 16:30:00  3671098200      1019.0               19   \n",
       "43 2016-01-05 17:00:00  3671100000      1019.0               20   \n",
       "44 2016-01-05 17:30:00  3671101800      1019.0               20   \n",
       "45 2016-01-05 18:00:00  3671103600      1020.0               20   \n",
       "46 2016-01-05 18:30:00  3671105400      1020.0               20   \n",
       "47 2016-01-05 19:00:00  3671107200      1020.0               19   \n",
       "48 2016-01-05 19:30:00  3671109000      1021.0               19   \n",
       "49 2016-01-05 20:00:00  3671110800      1021.0               19   \n",
       "\n",
       "    dew (degree_c)  rh_(percentage)  dir_(degrees)  spd_(m/s)  vis (km)  \\\n",
       "0               18              100             60          2      10.0   \n",
       "1               17               94             50          2      10.0   \n",
       "2               18              100             60          2      10.0   \n",
       "3               18              100             70          3      10.0   \n",
       "4               18               94             70          3      10.0   \n",
       "5               18               88             50          2      10.0   \n",
       "6               18               94            220          3      10.0   \n",
       "7               17               94            210          3      10.0   \n",
       "8               18               94            110          2      10.0   \n",
       "9               18               88            120          3      10.0   \n",
       "10              17               73             80          3      10.0   \n",
       "11              17               73            100          3      10.0   \n",
       "12              18               78            110          2      10.0   \n",
       "13              17               78             20          2      10.0   \n",
       "14              17               83            170          3      10.0   \n",
       "15              17               88            280          2      10.0   \n",
       "16              17               94            210          3      10.0   \n",
       "17              18               94            340          2      10.0   \n",
       "18              18               94             60          2      10.0   \n",
       "19              18               94             30          2      10.0   \n",
       "20              17               94            260          2      10.0   \n",
       "21              17               94            280          2      10.0   \n",
       "22              17               94            300          2      10.0   \n",
       "23              17               94             80          2      10.0   \n",
       "24              17               94             90          2      10.0   \n",
       "25              17               94             30          2      10.0   \n",
       "26              17               94             30          2      10.0   \n",
       "27              18               94             30          2      10.0   \n",
       "28              18               94             30          2      10.0   \n",
       "29              18               94             30          2      10.0   \n",
       "30              18               88             70          3      10.0   \n",
       "31              18               88             50          3      10.0   \n",
       "32              18               88             60          5      10.0   \n",
       "33              18               88             70          6      10.0   \n",
       "34              18               88             90          4      10.0   \n",
       "35              18               83             30          4      10.0   \n",
       "36              18               78             30          4      10.0   \n",
       "37              17               78            350          5      10.0   \n",
       "38              18               88             90          3       4.0   \n",
       "39              18               88             70          5       4.0   \n",
       "40              18               94             30          3       5.0   \n",
       "41              18               94             30          2      10.0   \n",
       "42              18               94              0          0      10.0   \n",
       "43              18               88              0          0      10.0   \n",
       "44              18               88             30          3      10.0   \n",
       "45              18               88            130          3      10.0   \n",
       "46              17               83            120          3      10.0   \n",
       "47              18               94            130          3      10.0   \n",
       "48              17               88            130          3      10.0   \n",
       "49              18               94            190          2      10.0   \n",
       "\n",
       "   clouds (====)  \n",
       "0         SCT007  \n",
       "1         SCT007  \n",
       "2         FEW007  \n",
       "3         SCT007  \n",
       "4         SCT010  \n",
       "5         BKN021  \n",
       "6         FEW010  \n",
       "7         BKN022  \n",
       "8         BKN023  \n",
       "9         BKN023  \n",
       "10        BKN024  \n",
       "11        SCT025  \n",
       "12        FEW024  \n",
       "13        FEW023  \n",
       "14        FEW022  \n",
       "15        SCT022  \n",
       "16        BKN022  \n",
       "17        SCT020  \n",
       "18        BKN019  \n",
       "19        BKN019  \n",
       "20        BKN018  \n",
       "21        BKN017  \n",
       "22        BKN017  \n",
       "23        BKN017  \n",
       "24        BKN017  \n",
       "25        BKN018  \n",
       "26        BKN018  \n",
       "27        BKN018  \n",
       "28        BKN019  \n",
       "29        BKN020  \n",
       "30        SCT020  \n",
       "31        SCT020  \n",
       "32        SCT020  \n",
       "33        SCT020  \n",
       "34        SCT018  \n",
       "35        BKN019  \n",
       "36        BKN019  \n",
       "37        FEW015  \n",
       "38        FEW015  \n",
       "39        FEW015  \n",
       "40        FEW017  \n",
       "41        FEW017  \n",
       "42        FEW018  \n",
       "43        FEW020  \n",
       "44        FEW020  \n",
       "45        FEW020  \n",
       "46        FEW020  \n",
       "47        FEW020  \n",
       "48        FEW020  \n",
       "49        FEW021  "
      ]
     },
     "execution_count": 372,
     "metadata": {},
     "output_type": "execute_result"
    }
   ],
   "source": [
    "wind.head(50)"
   ]
  },
  {
   "cell_type": "code",
   "execution_count": 405,
   "metadata": {
    "scrolled": true
   },
   "outputs": [
    {
     "name": "stdout",
     "output_type": "stream",
     "text": [
      "imported file. converting datetime\n"
     ]
    }
   ],
   "source": [
    "f = \"data/alliance_sub.csv\"\n",
    "\n",
    "kibera = make_dataframe(f)\n"
   ]
  },
  {
   "cell_type": "code",
   "execution_count": 406,
   "metadata": {
    "scrolled": true
   },
   "outputs": [
    {
     "data": {
      "text/plain": [
       "312844"
      ]
     },
     "execution_count": 406,
     "metadata": {},
     "output_type": "execute_result"
    }
   ],
   "source": [
    "len(kibera)"
   ]
  },
  {
   "cell_type": "code",
   "execution_count": 411,
   "metadata": {
    "scrolled": true
   },
   "outputs": [
    {
     "name": "stdout",
     "output_type": "stream",
     "text": [
      "298601\n",
      "210\n"
     ]
    },
    {
     "data": {
      "image/png": "[encoded data removed]",
      "text/plain": [
       "<matplotlib.figure.Figure at 0x1193c1a50>"
      ]
     },
     "metadata": {},
     "output_type": "display_data"
    }
   ],
   "source": [
    "cluster1 = pd.to_datetime(kibera.loc[kibera['dt'] < pd.datetime(2017, 1, 1)]['dt'].dt.date)\n",
    "print len(cluster1)\n",
    "plt.figure(figsize=(12, 12))\n",
    "cluster1_c = pd.Series.value_counts(cluster1)\n",
    "print len(cluster1_c)\n",
    "calmap.yearplot(cluster1_c, year=2016)\n",
    "plt.show()"
   ]
  },
  {
   "cell_type": "code",
   "execution_count": 408,
   "metadata": {
    "scrolled": true
   },
   "outputs": [
    {
     "name": "stdout",
     "output_type": "stream",
     "text": [
      "14243\n",
      "10\n"
     ]
    },
    {
     "data": {
      "image/png": "[encoded data removed]",
      "text/plain": [
       "<matplotlib.figure.Figure at 0x118ae5310>"
      ]
     },
     "metadata": {},
     "output_type": "display_data"
    }
   ],
   "source": [
    "cluster1 = pd.to_datetime(kibera.loc[kibera['dt'] >= pd.datetime(2017, 1, 1)]['dt'].dt.date)\n",
    "print len(cluster1)\n",
    "\n",
    "plt.figure(figsize=(12, 12))\n",
    "cluster1_c = pd.Series.value_counts(cluster1)\n",
    "print len(cluster1_c)\n",
    "calmap.yearplot(cluster1_c, year=2017)\n",
    "plt.show()"
   ]
  },
  {
   "cell_type": "code",
   "execution_count": 379,
   "metadata": {
    "collapsed": true
   },
   "outputs": [],
   "source": [
    "kibera_merged = pd.merge(kibera, wind, how='inner', left_on='dt', right_on='date')"
   ]
  },
  {
   "cell_type": "code",
   "execution_count": 106,
   "metadata": {
    "collapsed": true
   },
   "outputs": [],
   "source": [
    "kibera_merged2 = pd.merge(kibera_unsc, wind, how='inner', left_on='dt', right_on='date')"
   ]
  },
  {
   "cell_type": "code",
   "execution_count": 117,
   "metadata": {
    "scrolled": true
   },
   "outputs": [
    {
     "data": {
      "text/html": [
       "<div>\n",
       "<style scoped>\n",
       "    .dataframe tbody tr th:only-of-type {\n",
       "        vertical-align: middle;\n",
       "    }\n",
       "\n",
       "    .dataframe tbody tr th {\n",
       "        vertical-align: top;\n",
       "    }\n",
       "\n",
       "    .dataframe thead th {\n",
       "        text-align: right;\n",
       "    }\n",
       "</style>\n",
       "<table border=\"1\" class=\"dataframe\">\n",
       "  <thead>\n",
       "    <tr style=\"text-align: right;\">\n",
       "      <th></th>\n",
       "      <th>Unnamed: 0</th>\n",
       "      <th>d</th>\n",
       "      <th>t</th>\n",
       "      <th>date_x</th>\n",
       "      <th>no2</th>\n",
       "      <th>o3</th>\n",
       "      <th>no</th>\n",
       "      <th>so2</th>\n",
       "      <th>temp</th>\n",
       "      <th>humidity</th>\n",
       "      <th>...</th>\n",
       "      <th>date_y</th>\n",
       "      <th>nsec</th>\n",
       "      <th>altm_(hpa)</th>\n",
       "      <th>temp (degree_c)</th>\n",
       "      <th>dew (degree_c)</th>\n",
       "      <th>rh_(percentage)</th>\n",
       "      <th>dir_(degrees)</th>\n",
       "      <th>spd_(m/s)</th>\n",
       "      <th>vis (km)</th>\n",
       "      <th>clouds (====)</th>\n",
       "    </tr>\n",
       "  </thead>\n",
       "  <tbody>\n",
       "    <tr>\n",
       "      <th>0</th>\n",
       "      <td>13770</td>\n",
       "      <td>06/05/2016</td>\n",
       "      <td>22:00:25</td>\n",
       "      <td>2016-05-07 00:00:00</td>\n",
       "      <td>2</td>\n",
       "      <td>-2</td>\n",
       "      <td>-13</td>\n",
       "      <td>-33</td>\n",
       "      <td>19.20</td>\n",
       "      <td>84.45</td>\n",
       "      <td>...</td>\n",
       "      <td>2016-06-05 22:00:00</td>\n",
       "      <td>3671550000</td>\n",
       "      <td>1023.0</td>\n",
       "      <td>19</td>\n",
       "      <td>18</td>\n",
       "      <td>94</td>\n",
       "      <td>320</td>\n",
       "      <td>3</td>\n",
       "      <td>10.0</td>\n",
       "      <td>FEW018</td>\n",
       "    </tr>\n",
       "    <tr>\n",
       "      <th>1</th>\n",
       "      <td>13800</td>\n",
       "      <td>06/05/2016</td>\n",
       "      <td>22:30:25</td>\n",
       "      <td>2016-05-07 00:30:00</td>\n",
       "      <td>0</td>\n",
       "      <td>0</td>\n",
       "      <td>-14</td>\n",
       "      <td>-33</td>\n",
       "      <td>18.95</td>\n",
       "      <td>83.96</td>\n",
       "      <td>...</td>\n",
       "      <td>2016-06-05 22:30:00</td>\n",
       "      <td>3671551800</td>\n",
       "      <td>1023.0</td>\n",
       "      <td>19</td>\n",
       "      <td>17</td>\n",
       "      <td>88</td>\n",
       "      <td>350</td>\n",
       "      <td>2</td>\n",
       "      <td>10.0</td>\n",
       "      <td>FEW018</td>\n",
       "    </tr>\n",
       "    <tr>\n",
       "      <th>2</th>\n",
       "      <td>13830</td>\n",
       "      <td>06/05/2016</td>\n",
       "      <td>23:00:25</td>\n",
       "      <td>2016-05-07 01:00:00</td>\n",
       "      <td>1</td>\n",
       "      <td>-1</td>\n",
       "      <td>-15</td>\n",
       "      <td>-33</td>\n",
       "      <td>19.05</td>\n",
       "      <td>85.03</td>\n",
       "      <td>...</td>\n",
       "      <td>2016-06-05 23:00:00</td>\n",
       "      <td>3671553600</td>\n",
       "      <td>1023.0</td>\n",
       "      <td>18</td>\n",
       "      <td>17</td>\n",
       "      <td>94</td>\n",
       "      <td>30</td>\n",
       "      <td>3</td>\n",
       "      <td>10.0</td>\n",
       "      <td>FEW018</td>\n",
       "    </tr>\n",
       "    <tr>\n",
       "      <th>3</th>\n",
       "      <td>13860</td>\n",
       "      <td>06/05/2016</td>\n",
       "      <td>23:30:25</td>\n",
       "      <td>2016-05-07 01:30:00</td>\n",
       "      <td>3</td>\n",
       "      <td>-3</td>\n",
       "      <td>-15</td>\n",
       "      <td>-34</td>\n",
       "      <td>18.84</td>\n",
       "      <td>86.40</td>\n",
       "      <td>...</td>\n",
       "      <td>2016-06-05 23:30:00</td>\n",
       "      <td>3671555400</td>\n",
       "      <td>1024.0</td>\n",
       "      <td>18</td>\n",
       "      <td>17</td>\n",
       "      <td>94</td>\n",
       "      <td>10</td>\n",
       "      <td>3</td>\n",
       "      <td>10.0</td>\n",
       "      <td>FEW018</td>\n",
       "    </tr>\n",
       "    <tr>\n",
       "      <th>4</th>\n",
       "      <td>14126</td>\n",
       "      <td>07/05/2016</td>\n",
       "      <td>04:00:13</td>\n",
       "      <td>2016-05-07 06:00:00</td>\n",
       "      <td>3</td>\n",
       "      <td>-2</td>\n",
       "      <td>-8</td>\n",
       "      <td>2</td>\n",
       "      <td>17.93</td>\n",
       "      <td>86.04</td>\n",
       "      <td>...</td>\n",
       "      <td>2016-07-05 04:00:00</td>\n",
       "      <td>3671571600</td>\n",
       "      <td>1022.0</td>\n",
       "      <td>17</td>\n",
       "      <td>15</td>\n",
       "      <td>88</td>\n",
       "      <td>20</td>\n",
       "      <td>4</td>\n",
       "      <td>10.0</td>\n",
       "      <td>SCT008</td>\n",
       "    </tr>\n",
       "  </tbody>\n",
       "</table>\n",
       "<p>5 rows × 56 columns</p>\n",
       "</div>"
      ],
      "text/plain": [
       "   Unnamed: 0           d         t               date_x  no2  o3  no  so2  \\\n",
       "0       13770  06/05/2016  22:00:25  2016-05-07 00:00:00    2  -2 -13  -33   \n",
       "1       13800  06/05/2016  22:30:25  2016-05-07 00:30:00    0   0 -14  -33   \n",
       "2       13830  06/05/2016  23:00:25  2016-05-07 01:00:00    1  -1 -15  -33   \n",
       "3       13860  06/05/2016  23:30:25  2016-05-07 01:30:00    3  -3 -15  -34   \n",
       "4       14126  07/05/2016  04:00:13  2016-05-07 06:00:00    3  -2  -8    2   \n",
       "\n",
       "    temp  humidity      ...                    date_y        nsec  altm_(hpa)  \\\n",
       "0  19.20     84.45      ...       2016-06-05 22:00:00  3671550000      1023.0   \n",
       "1  18.95     83.96      ...       2016-06-05 22:30:00  3671551800      1023.0   \n",
       "2  19.05     85.03      ...       2016-06-05 23:00:00  3671553600      1023.0   \n",
       "3  18.84     86.40      ...       2016-06-05 23:30:00  3671555400      1024.0   \n",
       "4  17.93     86.04      ...       2016-07-05 04:00:00  3671571600      1022.0   \n",
       "\n",
       "   temp (degree_c)  dew (degree_c)  rh_(percentage)  dir_(degrees)  spd_(m/s)  \\\n",
       "0               19              18               94            320          3   \n",
       "1               19              17               88            350          2   \n",
       "2               18              17               94             30          3   \n",
       "3               18              17               94             10          3   \n",
       "4               17              15               88             20          4   \n",
       "\n",
       "   vis (km)  clouds (====)  \n",
       "0      10.0         FEW018  \n",
       "1      10.0         FEW018  \n",
       "2      10.0         FEW018  \n",
       "3      10.0         FEW018  \n",
       "4      10.0         SCT008  \n",
       "\n",
       "[5 rows x 56 columns]"
      ]
     },
     "execution_count": 117,
     "metadata": {},
     "output_type": "execute_result"
    }
   ],
   "source": [
    "#wind_n = kibera_merged[['bin0', 'bin1', 'bin2', 'bin3', 'bin4', 'bin5']]\n",
    "kibera_merged.head()\n",
    "#kibera_merged.columns.values\n"
   ]
  },
  {
   "cell_type": "code",
   "execution_count": 109,
   "metadata": {},
   "outputs": [
    {
     "data": {
      "text/plain": [
       "7216"
      ]
     },
     "execution_count": 109,
     "metadata": {},
     "output_type": "execute_result"
    }
   ],
   "source": [
    "kibera_merged2.head()\n",
    "len(kibera_merged2)"
   ]
  },
  {
   "cell_type": "code",
   "execution_count": 4,
   "metadata": {
    "collapsed": true
   },
   "outputs": [],
   "source": [
    "def spectral_clustering(df, n_clusters = 6):\n",
    "    \n",
    "    feature_design = [\"bin%d\"%x for x in range(16)]\n",
    "    print(\"feature design: \" + str(feature_design))\n",
    "    \n",
    "    df_na = df.dropna(axis=0, how='any',subset=feature_design) #drops one line\n",
    "    print(\"dropping all rows containing NaN in feature matrix: %d -> %d\" % (len(df),len(df_na)))\n",
    "    df_cluster = df_na.drop_duplicates(subset=feature_design)\n",
    "    print(\"dropping duplicate rows to make matrix solvable: %d -> %d\" % (len(df_na),len(df_cluster)))\n",
    "\n",
    "    X = df_cluster[feature_design].as_matrix()\n",
    "    \n",
    "    spectral = SpectralClustering(n_clusters = n_clusters)\n",
    "    y_pred = spectral.fit_predict(X)\n",
    "    \n",
    "    df_cluster['cluster'] = pd.Series(y_pred)\n",
    "    \n",
    "    count = Counter(y_pred)\n",
    "    print(\"# of points in each bin:\")\n",
    "    print count.items()\n",
    "    \n",
    "    return y_pred\n",
    "\n",
    "def dbscan(df,eps):\n",
    "    feature_design = [\"bin%d\"%x for x in range(16)]\n",
    "    #print(\"feature design: \" + str(feature_design))\n",
    "    \n",
    "    df_na = df.dropna(axis=0, how='any',subset=feature_design) #drops one line\n",
    "    #print(\"dropping all rows containing NaN in feature matrix: %d -> %d\" % (len(df),len(df_na)))\n",
    "    X = df_na[feature_design].as_matrix()\n",
    "    #X = StandardScaler().fit_transform(X)\n",
    "    \n",
    "    ####################################\n",
    "    # Compute DBSCAN\n",
    "    db = DBSCAN(eps=eps,min_samples=5).fit(X)\n",
    "    core_samples_mask = np.zeros_like(db.labels_, dtype=bool)\n",
    "    core_samples_mask[db.core_sample_indices_] = True\n",
    "    labels = db.labels_\n",
    "\n",
    "    # Number of clusters in labels, ignoring noise if present.\n",
    "    n_clusters_ = len(set(labels)) - (1 if -1 in labels else 0)\n",
    "    sil =  metrics.silhouette_score(X, labels)\n",
    "\n",
    "    print('EPS = %0.3f, Estimated number of clusters: %d, Silhouette Coef: %0.3f' % (eps,n_clusters_,sil))\n",
    "    \n",
    "    return n_clusters_, labels, sil\n",
    "    "
   ]
  },
  {
   "cell_type": "code",
   "execution_count": 5,
   "metadata": {
    "collapsed": true
   },
   "outputs": [],
   "source": [
    "files = [\"Kibera.csv\",\"kibera_sub.csv\", \"Scholastica.csv\", \"scholastica_sub.csv\",\n",
    "         \"UNEP.csv\", \"unep_sub.csv\", \"Alliance.csv\", \"alliance_sub.csv\", \"AllSaints.csv\", \"allsaints_sub.csv\"]\n"
   ]
  },
  {
   "cell_type": "code",
   "execution_count": 391,
   "metadata": {
    "scrolled": true
   },
   "outputs": [
    {
     "name": "stdout",
     "output_type": "stream",
     "text": [
      "--------\n",
      "pickles/Kibera.p\n",
      "EPS = 5.000, Estimated number of clusters: 1, Silhouette Coef: -0.114\n",
      "5 1 -0.113894316335\n",
      "EPS = 10.000, Estimated number of clusters: 23, Silhouette Coef: -0.571\n",
      "10 23 -0.571379436039\n",
      "EPS = 20.000, Estimated number of clusters: 28, Silhouette Coef: -0.398\n",
      "20 28 -0.397610378359\n",
      "EPS = 30.000, Estimated number of clusters: 12, Silhouette Coef: 0.162\n",
      "30 12 0.162032350569\n",
      "EPS = 50.000, Estimated number of clusters: 11, Silhouette Coef: 0.330\n",
      "50 11 0.33013739312\n",
      "EPS = 60.000, Estimated number of clusters: 7, Silhouette Coef: 0.502\n",
      "60 7 0.501998755418\n",
      "EPS = 70.000, Estimated number of clusters: 5, Silhouette Coef: 0.656\n",
      "70 5 0.65552001011\n",
      "EPS = 80.000, Estimated number of clusters: 6, Silhouette Coef: 0.598\n",
      "80 6 0.597905134781\n",
      "EPS = 100.000, Estimated number of clusters: 4, Silhouette Coef: 0.676\n",
      "100 4 0.676085975621\n",
      "EPS = 150.000, Estimated number of clusters: 3, Silhouette Coef: 0.758\n",
      "150 3 0.758444607677\n",
      "EPS = 200.000, Estimated number of clusters: 3, Silhouette Coef: 0.820\n",
      "200 3 0.819716427598\n",
      "--------\n",
      "--------\n",
      "pickles/kibera_sub.p\n",
      "EPS = 10.000, Estimated number of clusters: 27, Silhouette Coef: -0.574\n",
      "10 27 -0.573873376391\n",
      "EPS = 20.000, Estimated number of clusters: 28, Silhouette Coef: -0.405\n",
      "20 28 -0.404762183119\n",
      "EPS = 30.000, Estimated number of clusters: 12, Silhouette Coef: 0.162\n",
      "30 12 0.162130030011\n",
      "EPS = 50.000, Estimated number of clusters: 11, Silhouette Coef: 0.332\n",
      "50 11 0.331521842536\n",
      "EPS = 60.000, Estimated number of clusters: 7, Silhouette Coef: 0.502\n",
      "60 7 0.502094312151\n",
      "EPS = 70.000, Estimated number of clusters: 5, Silhouette Coef: 0.655\n",
      "70 5 0.655017862439\n",
      "EPS = 80.000, Estimated number of clusters: 6, Silhouette Coef: 0.598\n",
      "80 6 0.597910797911\n",
      "EPS = 100.000, Estimated number of clusters: 4, Silhouette Coef: 0.676\n",
      "100 4 0.675559225811\n",
      "EPS = 150.000, Estimated number of clusters: 3, Silhouette Coef: 0.758\n",
      "150 3 0.757914800389\n",
      "EPS = 200.000, Estimated number of clusters: 2, Silhouette Coef: 0.852\n",
      "200 2 0.852302901805\n",
      "--------\n",
      "--------\n",
      "pickles/Scholastica.p\n",
      "EPS = 5.000, Estimated number of clusters: 3, Silhouette Coef: -0.314\n",
      "5 3 -0.314019175003\n",
      "EPS = 10.000, Estimated number of clusters: 23, Silhouette Coef: -0.351\n",
      "10 23 -0.351338970448\n",
      "EPS = 20.000, Estimated number of clusters: 10, Silhouette Coef: 0.015\n",
      "20 10 0.0151971762773\n",
      "EPS = 30.000, Estimated number of clusters: 8, Silhouette Coef: 0.356\n",
      "30 8 0.35635557364\n",
      "EPS = 50.000, Estimated number of clusters: 2, Silhouette Coef: 0.655\n",
      "50 2 0.654811464194\n",
      "EPS = 60.000, Estimated number of clusters: 2, Silhouette Coef: 0.691\n",
      "60 2 0.690894780373\n",
      "EPS = 70.000, Estimated number of clusters: 2, Silhouette Coef: 0.776\n",
      "70 2 0.776251737402\n",
      "EPS = 80.000, Estimated number of clusters: 4, Silhouette Coef: 0.695\n",
      "80 4 0.694783926026\n",
      "EPS = 100.000, Estimated number of clusters: 4, Silhouette Coef: 0.754\n",
      "100 4 0.753652506767\n",
      "EPS = 150.000, Estimated number of clusters: 1, Silhouette Coef: 0.923\n",
      "150 1 0.92269757694\n",
      "EPS = 200.000, Estimated number of clusters: 2, Silhouette Coef: 0.866\n",
      "200 2 0.866138199876\n",
      "--------\n",
      "--------\n",
      "pickles/scholastica_sub.p\n",
      "EPS = 5.000, Estimated number of clusters: 3, Silhouette Coef: -0.313\n",
      "5 3 -0.312927991901\n",
      "EPS = 10.000, Estimated number of clusters: 22, Silhouette Coef: -0.349\n",
      "10 22 -0.349064200501\n",
      "EPS = 20.000, Estimated number of clusters: 10, Silhouette Coef: 0.019\n",
      "20 10 0.0185236960055\n",
      "EPS = 30.000, Estimated number of clusters: 8, Silhouette Coef: 0.360\n",
      "30 8 0.359757281493\n",
      "EPS = 50.000, Estimated number of clusters: 1, Silhouette Coef: 0.846\n",
      "50 1 0.84591589771\n",
      "EPS = 60.000, Estimated number of clusters: 2, Silhouette Coef: 0.691\n",
      "60 2 0.691272908475\n",
      "EPS = 70.000, Estimated number of clusters: 2, Silhouette Coef: 0.777\n",
      "70 2 0.776512904054\n",
      "EPS = 80.000, Estimated number of clusters: 4, Silhouette Coef: 0.695\n",
      "80 4 0.694937437992\n",
      "EPS = 100.000, Estimated number of clusters: 4, Silhouette Coef: 0.754\n",
      "100 4 0.753742146493\n",
      "EPS = 150.000, Estimated number of clusters: 1, Silhouette Coef: 0.921\n",
      "150 1 0.921012643918\n",
      "EPS = 200.000, Estimated number of clusters: 2, Silhouette Coef: 0.866\n",
      "200 2 0.866052874988\n",
      "--------\n",
      "--------\n",
      "pickles/UNEP.p\n",
      "EPS = 10.000, Estimated number of clusters: 22, Silhouette Coef: -0.436\n",
      "10 22 -0.436428386018\n",
      "EPS = 20.000, Estimated number of clusters: 10, Silhouette Coef: 0.131\n",
      "20 10 0.131152797818\n",
      "EPS = 30.000, Estimated number of clusters: 4, Silhouette Coef: 0.514\n",
      "30 4 0.514467213176\n",
      "EPS = 50.000, Estimated number of clusters: 2, Silhouette Coef: 0.624\n",
      "50 2 0.624314605597\n",
      "EPS = 60.000, Estimated number of clusters: 1, Silhouette Coef: 0.818\n",
      "60 1 0.817849460799\n",
      "EPS = 70.000, Estimated number of clusters: 2, Silhouette Coef: 0.710\n",
      "70 2 0.709943829286\n",
      "EPS = 80.000, Estimated number of clusters: 1, Silhouette Coef: 0.848\n",
      "80 1 0.847698651036\n",
      "EPS = 100.000, Estimated number of clusters: 1, Silhouette Coef: 0.877\n",
      "100 1 0.877324953906\n",
      "EPS = 150.000, Estimated number of clusters: 1, Silhouette Coef: 0.902\n",
      "150 1 0.901679766712\n",
      "EPS = 200.000, Estimated number of clusters: 1, Silhouette Coef: 0.916\n",
      "200 1 0.916394838697\n",
      "--------\n",
      "--------\n",
      "pickles/unep_sub.p\n",
      "EPS = 10.000, Estimated number of clusters: 28, Silhouette Coef: -0.411\n",
      "10 28 -0.41069007484\n",
      "EPS = 20.000, Estimated number of clusters: 13, Silhouette Coef: 0.313\n",
      "20 13 0.313469126961\n",
      "EPS = 30.000, Estimated number of clusters: 7, Silhouette Coef: 0.489\n",
      "30 7 0.489077406197\n",
      "EPS = 50.000, Estimated number of clusters: 3, Silhouette Coef: 0.721\n",
      "50 3 0.720638647483\n",
      "EPS = 60.000, Estimated number of clusters: 4, Silhouette Coef: 0.702\n",
      "60 4 0.702165229216\n",
      "EPS = 70.000, Estimated number of clusters: 3, Silhouette Coef: 0.701\n",
      "70 3 0.70090968271\n",
      "EPS = 80.000, Estimated number of clusters: 1, Silhouette Coef: 0.849\n",
      "80 1 0.84897619636\n",
      "EPS = 100.000, Estimated number of clusters: 2, Silhouette Coef: 0.801\n",
      "100 2 0.800934404535\n",
      "EPS = 150.000, Estimated number of clusters: 1, Silhouette Coef: 0.898\n",
      "150 1 0.897637665814\n",
      "EPS = 200.000, Estimated number of clusters: 1, Silhouette Coef: 0.909\n",
      "200 1 0.909278743647\n",
      "--------\n",
      "--------\n",
      "pickles/Alliance.p\n",
      "EPS = 5.000, Estimated number of clusters: 7, Silhouette Coef: -0.266\n",
      "5 7 -0.266126547161\n",
      "EPS = 10.000, Estimated number of clusters: 25, Silhouette Coef: -0.548\n",
      "10 25 -0.548478793053\n",
      "EPS = 20.000, Estimated number of clusters: 19, Silhouette Coef: -0.120\n",
      "20 19 -0.120159264713\n",
      "EPS = 30.000, Estimated number of clusters: 3, Silhouette Coef: 0.534\n",
      "30 3 0.534312467993\n",
      "EPS = 50.000, Estimated number of clusters: 2, Silhouette Coef: 0.659\n",
      "50 2 0.659275812162\n",
      "EPS = 60.000, Estimated number of clusters: 3, Silhouette Coef: 0.748\n",
      "60 3 0.748422704176\n",
      "EPS = 70.000, Estimated number of clusters: 5, Silhouette Coef: 0.630\n",
      "70 5 0.630465428807\n",
      "EPS = 80.000, Estimated number of clusters: 4, Silhouette Coef: 0.629\n",
      "80 4 0.62873681761\n",
      "EPS = 100.000, Estimated number of clusters: 3, Silhouette Coef: 0.624\n",
      "100 3 0.624445078207\n",
      "EPS = 150.000, Estimated number of clusters: 2, Silhouette Coef: 0.732\n",
      "150 2 0.731825524682\n",
      "EPS = 200.000, Estimated number of clusters: 1, Silhouette Coef: 0.919\n",
      "200 1 0.918873208403\n",
      "--------\n",
      "--------\n",
      "pickles/alliance_sub.p\n",
      "EPS = 5.000, Estimated number of clusters: 5, Silhouette Coef: -0.264\n",
      "5 5 -0.264138741668\n",
      "EPS = 10.000, Estimated number of clusters: 24, Silhouette Coef: -0.540\n",
      "10 24 -0.540311067363\n",
      "EPS = 20.000, Estimated number of clusters: 19, Silhouette Coef: -0.120\n",
      "20 19 -0.120290850128\n",
      "EPS = 30.000, Estimated number of clusters: 3, Silhouette Coef: 0.534\n",
      "30 3 0.533817865225\n",
      "EPS = 50.000, Estimated number of clusters: 2, Silhouette Coef: 0.658\n",
      "50 2 0.658374598183\n",
      "EPS = 60.000, Estimated number of clusters: 3, Silhouette Coef: 0.748\n",
      "60 3 0.747808397641\n",
      "EPS = 70.000, Estimated number of clusters: 5, Silhouette Coef: 0.630\n",
      "70 5 0.629688301299\n",
      "EPS = 80.000, Estimated number of clusters: 4, Silhouette Coef: 0.628\n",
      "80 4 0.627954873418\n",
      "EPS = 100.000, Estimated number of clusters: 3, Silhouette Coef: 0.624\n",
      "100 3 0.623552017193\n",
      "EPS = 150.000, Estimated number of clusters: 2, Silhouette Coef: 0.731\n",
      "150 2 0.731112841936\n",
      "EPS = 200.000, Estimated number of clusters: 1, Silhouette Coef: 0.919\n",
      "200 1 0.918724207389\n",
      "--------\n",
      "--------\n",
      "pickles/AllSaints.p\n",
      "EPS = 5.000, Estimated number of clusters: 21, Silhouette Coef: -0.417\n",
      "5 21 -0.416609698684\n",
      "EPS = 10.000, Estimated number of clusters: 30, Silhouette Coef: -0.282\n",
      "10 30 -0.281715709601\n"
     ]
    },
    {
     "name": "stdout",
     "output_type": "stream",
     "text": [
      "EPS = 20.000, Estimated number of clusters: 7, Silhouette Coef: 0.480\n",
      "20 7 0.480257195094\n",
      "EPS = 30.000, Estimated number of clusters: 3, Silhouette Coef: 0.641\n",
      "30 3 0.641141709827\n",
      "EPS = 50.000, Estimated number of clusters: 2, Silhouette Coef: 0.788\n",
      "50 2 0.787637548513\n",
      "EPS = 60.000, Estimated number of clusters: 4, Silhouette Coef: 0.731\n",
      "60 4 0.7314010136\n",
      "EPS = 70.000, Estimated number of clusters: 1, Silhouette Coef: 0.865\n",
      "70 1 0.865197022836\n",
      "EPS = 80.000, Estimated number of clusters: 1, Silhouette Coef: 0.873\n",
      "80 1 0.87297488433\n",
      "EPS = 100.000, Estimated number of clusters: 2, Silhouette Coef: 0.882\n",
      "100 2 0.881746000198\n",
      "EPS = 150.000, Estimated number of clusters: 2, Silhouette Coef: 0.880\n",
      "150 2 0.879672737493\n",
      "EPS = 200.000, Estimated number of clusters: 1, Silhouette Coef: 0.926\n",
      "200 1 0.925626134927\n",
      "--------\n",
      "--------\n",
      "pickles/allsaints_sub.p\n",
      "EPS = 5.000, Estimated number of clusters: 21, Silhouette Coef: -0.417\n",
      "5 21 -0.417149447066\n",
      "EPS = 10.000, Estimated number of clusters: 27, Silhouette Coef: -0.279\n",
      "10 27 -0.278998834364\n",
      "EPS = 20.000, Estimated number of clusters: 6, Silhouette Coef: 0.473\n",
      "20 6 0.473370903926\n",
      "EPS = 30.000, Estimated number of clusters: 3, Silhouette Coef: 0.643\n",
      "30 3 0.64296190296\n",
      "EPS = 50.000, Estimated number of clusters: 2, Silhouette Coef: 0.790\n",
      "50 2 0.789658210588\n",
      "EPS = 60.000, Estimated number of clusters: 4, Silhouette Coef: 0.734\n",
      "60 4 0.733695475154\n",
      "EPS = 70.000, Estimated number of clusters: 1, Silhouette Coef: 0.868\n",
      "70 1 0.86839031917\n",
      "EPS = 80.000, Estimated number of clusters: 1, Silhouette Coef: 0.876\n",
      "80 1 0.876395084311\n",
      "EPS = 100.000, Estimated number of clusters: 2, Silhouette Coef: 0.882\n",
      "100 2 0.882458011377\n",
      "EPS = 150.000, Estimated number of clusters: 2, Silhouette Coef: 0.880\n",
      "150 2 0.880427677714\n",
      "EPS = 200.000, Estimated number of clusters: 1, Silhouette Coef: 0.926\n",
      "200 1 0.925933635034\n",
      "--------\n"
     ]
    }
   ],
   "source": [
    "\n",
    "\n",
    "'''\n",
    "df_sizes = []\n",
    "merged_sizes = []\n",
    "\n",
    "for f in files:\n",
    "    print \"--------\"\n",
    "    print f\n",
    "    df = make_dataframe(\"data/\"+f)\n",
    "    df_merged = pd.merge(df, wind, how='inner', left_on='dt', right_on='date')\n",
    "    print \"merged! saving to pickle\"\n",
    "    df_sizes.append(len(df))\n",
    "    merged_sizes.append(len(df_merged))\n",
    "    df_merged.to_pickle(\"pickles/\"+f.split(\".\")[0]+\".p\")\n",
    "    pickles = [\"pickles/\"+f.split(\".\")[0]+\".p\" for f in files]\n",
    "'''\n",
    "for p in pickles:    \n",
    "    print \"--------\"\n",
    "    print p\n",
    "    dbscan_stats = []\n",
    "    df_merged = pd.read_pickle(p)\n",
    "    #'''\n",
    "    for e in [1.0, 2.5, 5, 10, 20, 30, 50, 60, 70, 80, 100, 150, 200]:\n",
    "        try:\n",
    "            v, y, s = dbscan(df_merged,e) \n",
    "            dbscan_stats.append((e, v, s))\n",
    "            print e, v, s\n",
    "        except Exception:\n",
    "            pass\n",
    "    dbscan_stats_files.append(dbscan_stats)\n",
    "    print \"--------\"\n",
    "    \n",
    "    \n",
    "    "
   ]
  },
  {
   "cell_type": "code",
   "execution_count": 397,
   "metadata": {
    "collapsed": true
   },
   "outputs": [],
   "source": [
    "import json\n",
    "\n",
    "json.dump(dbscan_stats_files, open(\"param_search_results1.json\", 'w'))"
   ]
  },
  {
   "cell_type": "code",
   "execution_count": 402,
   "metadata": {},
   "outputs": [
    {
     "data": {
      "image/png": "[encoded data removed]",
      "text/plain": [
       "<matplotlib.figure.Figure at 0x1141246d0>"
      ]
     },
     "metadata": {},
     "output_type": "display_data"
    }
   ],
   "source": [
    "fig, ax = plt.subplots(2, sharex=True, figsize=(15, 15))\n",
    "names = [ f.split(\".\")[0] for f in files]\n",
    "\n",
    "colors = ['dodgerblue','skyblue','r','tomato','g','mediumseagreen','slateblue','mediumslateblue','darkorange','lightsalmon']\n",
    "for i, stats in enumerate(dbscan_stats_files):\n",
    "    es = [x[0] for x in stats]\n",
    "    #clusters = [np.log(x[1]) for x in stats]\n",
    "    clusters = [x[1] for x in stats]\n",
    "    sil = [x[2] for x in stats]\n",
    "    ax[0].plot(es, clusters, color = colors[i], label=names[i])\n",
    "    ax[1].plot(es, sil, color = colors[i], label=names[i])\n",
    "\n",
    "ax[1].plot([0, 200],[0,0], linestyle = \"--\",color=\"grey\",label ='sil_coef = 0')\n",
    "\n",
    "ax[0].set_title('eps vs. nuber of clusters')\n",
    "ax[1].set_title('eps vs. Silhouette score')\n",
    "\n",
    "ax[0].legend()\n",
    "ax[1].legend(loc=4)\n",
    "\n",
    "plt.show()\n",
    "    "
   ]
  },
  {
   "cell_type": "markdown",
   "metadata": {},
   "source": [
    "model selection shows quite clearly that eps = 50 is perferable"
   ]
  },
  {
   "cell_type": "code",
   "execution_count": 413,
   "metadata": {
    "scrolled": true
   },
   "outputs": [
    {
     "name": "stdout",
     "output_type": "stream",
     "text": [
      "EPS = 30.000, Estimated number of clusters: 12, Silhouette Coef: 0.162\n",
      "EPS = 100.000, Estimated number of clusters: 4, Silhouette Coef: 0.676\n",
      "EPS = 30.000, Estimated number of clusters: 12, Silhouette Coef: 0.162\n",
      "EPS = 100.000, Estimated number of clusters: 4, Silhouette Coef: 0.676\n",
      "EPS = 30.000, Estimated number of clusters: 8, Silhouette Coef: 0.356\n",
      "EPS = 100.000, Estimated number of clusters: 4, Silhouette Coef: 0.754\n",
      "EPS = 30.000, Estimated number of clusters: 8, Silhouette Coef: 0.360\n",
      "EPS = 100.000, Estimated number of clusters: 4, Silhouette Coef: 0.754\n",
      "EPS = 30.000, Estimated number of clusters: 4, Silhouette Coef: 0.514\n",
      "EPS = 100.000, Estimated number of clusters: 1, Silhouette Coef: 0.877\n",
      "EPS = 30.000, Estimated number of clusters: 7, Silhouette Coef: 0.489\n",
      "EPS = 100.000, Estimated number of clusters: 2, Silhouette Coef: 0.801\n",
      "EPS = 30.000, Estimated number of clusters: 3, Silhouette Coef: 0.534\n",
      "EPS = 100.000, Estimated number of clusters: 3, Silhouette Coef: 0.624\n",
      "EPS = 30.000, Estimated number of clusters: 3, Silhouette Coef: 0.534\n",
      "EPS = 100.000, Estimated number of clusters: 3, Silhouette Coef: 0.624\n",
      "EPS = 30.000, Estimated number of clusters: 3, Silhouette Coef: 0.641\n",
      "EPS = 100.000, Estimated number of clusters: 2, Silhouette Coef: 0.882\n",
      "EPS = 30.000, Estimated number of clusters: 3, Silhouette Coef: 0.643\n",
      "EPS = 100.000, Estimated number of clusters: 2, Silhouette Coef: 0.882\n"
     ]
    }
   ],
   "source": [
    "pickles = [\"pickles/\"+f.split(\".\")[0]+\".p\" for f in files]\n",
    "for f in files: \n",
    "    name = f.split(\".\")[0]\n",
    "    df_merged = pd.read_pickle(\"pickles/\"+name+\".p\")\n",
    "    for e in [30,100]:\n",
    "        v, y, s = dbscan(df_merged, e)\n",
    "        result = pd.concat([df_merged['dt'], pd.Series(y)], axis=1, ignore_index=True)\n",
    "        result.rename(columns = {0:'dt', 1:'cluster'},inplace= True)\n",
    "        if result.isnull().values.any():\n",
    "            print \"something went wrong here, %s %d %.3f\"%(name, v, e)\n",
    "        else:\n",
    "            result.to_csv(\"results/%s_%d_%.3f.csv\"%(name, v, e))\n",
    "\n"
   ]
  },
  {
   "cell_type": "code",
   "execution_count": 30,
   "metadata": {},
   "outputs": [],
   "source": [
    "df_merged  = pd.read_pickle(\"pickles/\"+\"scholastica_sub\"+\".p\")"
   ]
  },
  {
   "cell_type": "code",
   "execution_count": 31,
   "metadata": {},
   "outputs": [
    {
     "name": "stdout",
     "output_type": "stream",
     "text": [
      "EPS = 20.000, Estimated number of clusters: 10, Silhouette Coef: 0.019\n"
     ]
    }
   ],
   "source": [
    "v, y, s = dbscan(df_merged, 20)\n",
    "result = pd.concat([df_merged['dt'], pd.Series(y)], axis=1, ignore_index=True)\n",
    "result.rename(columns = {0:'dt', 1:'cluster'},inplace= True)\n"
   ]
  },
  {
   "cell_type": "code",
   "execution_count": 32,
   "metadata": {
    "scrolled": true
   },
   "outputs": [
    {
     "data": {
      "text/plain": [
       "Counter({-1: 1111,\n",
       "         0: 5650,\n",
       "         1: 9,\n",
       "         2: 5,\n",
       "         3: 6,\n",
       "         4: 10,\n",
       "         5: 5,\n",
       "         6: 9,\n",
       "         7: 4,\n",
       "         8: 12,\n",
       "         9: 6})"
      ]
     },
     "execution_count": 32,
     "metadata": {},
     "output_type": "execute_result"
    }
   ],
   "source": [
    "Counter(y)"
   ]
  },
  {
   "cell_type": "code",
   "execution_count": 10,
   "metadata": {},
   "outputs": [
    {
     "name": "stdout",
     "output_type": "stream",
     "text": [
      "EPS = 15.000, Estimated number of clusters: 20, Silhouette Coef: -0.077\n"
     ]
    }
   ],
   "source": [
    "_, re_cluser_y, __ = dbscan(df_merged.loc[result['cluster'] == 0], 15)"
   ]
  },
  {
   "cell_type": "code",
   "execution_count": 11,
   "metadata": {},
   "outputs": [
    {
     "data": {
      "text/plain": [
       "Counter({-1: 813,\n",
       "         0: 4884,\n",
       "         1: 5,\n",
       "         2: 5,\n",
       "         3: 6,\n",
       "         4: 5,\n",
       "         5: 19,\n",
       "         6: 4,\n",
       "         7: 2,\n",
       "         8: 5,\n",
       "         9: 8,\n",
       "         10: 6,\n",
       "         11: 5,\n",
       "         12: 6,\n",
       "         13: 7,\n",
       "         14: 5,\n",
       "         15: 8,\n",
       "         16: 5,\n",
       "         17: 5,\n",
       "         18: 4,\n",
       "         19: 5})"
      ]
     },
     "execution_count": 11,
     "metadata": {},
     "output_type": "execute_result"
    }
   ],
   "source": [
    "Counter(re_cluser_y)"
   ]
  },
  {
   "cell_type": "code",
   "execution_count": 33,
   "metadata": {
    "scrolled": false
   },
   "outputs": [
    {
     "data": {
      "image/png": "[encoded data removed]",
      "text/plain": [
       "<matplotlib.figure.Figure at 0x10fc74e10>"
      ]
     },
     "metadata": {},
     "output_type": "display_data"
    },
    {
     "data": {
      "image/png": "[encoded data removed]",
      "text/plain": [
       "<matplotlib.figure.Figure at 0x10facd850>"
      ]
     },
     "metadata": {},
     "output_type": "display_data"
    },
    {
     "data": {
      "image/png": "[encoded data removed]",
      "text/plain": [
       "<matplotlib.figure.Figure at 0x10fa5b090>"
      ]
     },
     "metadata": {},
     "output_type": "display_data"
    }
   ],
   "source": [
    "for x in [-1,0,8]:#range(-1,10):\n",
    "    cluster1 = result.loc[result['cluster'] == x]['dt']\n",
    "    plt.figure(figsize=(12, 12))\n",
    "    cluster1_c = pd.Series.value_counts(cluster1)\n",
    "    calmap.yearplot(cluster1_c, year=2016)\n",
    "    plt.show()"
   ]
  },
  {
   "cell_type": "code",
   "execution_count": 34,
   "metadata": {},
   "outputs": [
    {
     "data": {
      "image/png": "[encoded data removed]",
      "text/plain": [
       "<matplotlib.figure.Figure at 0x1120352d0>"
      ]
     },
     "metadata": {},
     "output_type": "display_data"
    },
    {
     "data": {
      "image/png": "[encoded data removed]",
      "text/plain": [
       "<matplotlib.figure.Figure at 0x112044810>"
      ]
     },
     "metadata": {},
     "output_type": "display_data"
    },
    {
     "data": {
      "image/png": "[encoded data removed]",
      "text/plain": [
       "<matplotlib.figure.Figure at 0x11299b2d0>"
      ]
     },
     "metadata": {},
     "output_type": "display_data"
    },
    {
     "data": {
      "image/png": "[encoded data removed]",
      "text/plain": [
       "<matplotlib.figure.Figure at 0x1128fbed0>"
      ]
     },
     "metadata": {},
     "output_type": "display_data"
    },
    {
     "data": {
      "image/png": "[encoded data removed]",
      "text/plain": [
       "<matplotlib.figure.Figure at 0x112029ad0>"
      ]
     },
     "metadata": {},
     "output_type": "display_data"
    },
    {
     "data": {
      "image/png": "[encoded data removed]",
      "text/plain": [
       "<matplotlib.figure.Figure at 0x10fd3df50>"
      ]
     },
     "metadata": {},
     "output_type": "display_data"
    },
    {
     "data": {
      "image/png": "[encoded data removed]",
      "text/plain": [
       "<matplotlib.figure.Figure at 0x10fd3d550>"
      ]
     },
     "metadata": {},
     "output_type": "display_data"
    },
    {
     "data": {
      "image/png": "[encoded data removed]",
      "text/plain": [
       "<matplotlib.figure.Figure at 0x10fdb5e10>"
      ]
     },
     "metadata": {},
     "output_type": "display_data"
    },
    {
     "data": {
      "image/png": "[encoded data removed]",
      "text/plain": [
       "<matplotlib.figure.Figure at 0x10a764fd0>"
      ]
     },
     "metadata": {},
     "output_type": "display_data"
    },
    {
     "data": {
      "image/png": "[encoded data removed]",
      "text/plain": [
       "<matplotlib.figure.Figure at 0x110285ed0>"
      ]
     },
     "metadata": {},
     "output_type": "display_data"
    },
    {
     "data": {
      "image/png": "[encoded data removed]",
      "text/plain": [
       "<matplotlib.figure.Figure at 0x10a7c6e50>"
      ]
     },
     "metadata": {},
     "output_type": "display_data"
    }
   ],
   "source": [
    "for x in range(-1,10):\n",
    "    cluster1 = result.loc[result['cluster'] == x]['dt']\n",
    "    plt.figure(figsize=(12, 12))\n",
    "    cluster1_c = pd.Series.value_counts(cluster1)\n",
    "    calmap.yearplot(cluster1_c, year=2016)\n",
    "    plt.show()"
   ]
  },
  {
   "cell_type": "markdown",
   "metadata": {},
   "source": [
    "### ------------- seperation -------------"
   ]
  },
  {
   "cell_type": "code",
   "execution_count": 119,
   "metadata": {
    "scrolled": true
   },
   "outputs": [
    {
     "name": "stdout",
     "output_type": "stream",
     "text": [
      "feature design: ['bin0', 'bin1', 'bin2', 'bin3', 'bin4', 'bin5', 'bin6', 'bin7', 'bin8', 'bin9', 'bin10', 'bin11', 'bin12', 'bin13', 'bin14', 'bin15']\n",
      "dropping all rows containing NaN in feature matrix: 318282 -> 318282\n",
      "# of points in each bin:\n",
      "[(0, 232148), (1, 1), (2, 3258), (3, 68368), (4, 370), (5, 14137)]\n"
     ]
    },
    {
     "data": {
      "image/png": "[encoded data removed]",
      "text/plain": [
       "<matplotlib.figure.Figure at 0x1135db950>"
      ]
     },
     "metadata": {},
     "output_type": "display_data"
    },
    {
     "data": {
      "image/png": "[encoded data removed]",
      "text/plain": [
       "<matplotlib.figure.Figure at 0x1139151d0>"
      ]
     },
     "metadata": {},
     "output_type": "display_data"
    },
    {
     "data": {
      "image/png": "[encoded data removed]",
      "text/plain": [
       "<matplotlib.figure.Figure at 0x112b046d0>"
      ]
     },
     "metadata": {},
     "output_type": "display_data"
    },
    {
     "data": {
      "image/png": "[encoded data removed]",
      "text/plain": [
       "<matplotlib.figure.Figure at 0x11369a8d0>"
      ]
     },
     "metadata": {},
     "output_type": "display_data"
    },
    {
     "data": {
      "image/png": "[encoded data removed]",
      "text/plain": [
       "<matplotlib.figure.Figure at 0x1127bb310>"
      ]
     },
     "metadata": {},
     "output_type": "display_data"
    },
    {
     "data": {
      "image/png": "[encoded data removed]",
      "text/plain": [
       "<matplotlib.figure.Figure at 0x11426c850>"
      ]
     },
     "metadata": {},
     "output_type": "display_data"
    }
   ],
   "source": [
    "kibera_clustered, kmeans = cluster_a_file(kibera)\n",
    "plot_cluster_centers(kmeans)"
   ]
  },
  {
   "cell_type": "code",
   "execution_count": 142,
   "metadata": {
    "scrolled": false
   },
   "outputs": [
    {
     "data": {
      "image/png": "[encoded data removed]",
      "text/plain": [
       "<matplotlib.figure.Figure at 0x1135a2810>"
      ]
     },
     "metadata": {},
     "output_type": "display_data"
    },
    {
     "data": {
      "image/png": "[encoded data removed]",
      "text/plain": [
       "<matplotlib.figure.Figure at 0x1130a6110>"
      ]
     },
     "metadata": {},
     "output_type": "display_data"
    },
    {
     "data": {
      "image/png": "[encoded data removed]",
      "text/plain": [
       "<matplotlib.figure.Figure at 0x117593410>"
      ]
     },
     "metadata": {},
     "output_type": "display_data"
    },
    {
     "data": {
      "image/png": "[encoded data removed]",
      "text/plain": [
       "<matplotlib.figure.Figure at 0x152599cd0>"
      ]
     },
     "metadata": {},
     "output_type": "display_data"
    },
    {
     "data": {
      "image/png": "[encoded data removed]",
      "text/plain": [
       "<matplotlib.figure.Figure at 0x152599ed0>"
      ]
     },
     "metadata": {},
     "output_type": "display_data"
    },
    {
     "data": {
      "image/png": "[encoded data removed]",
      "text/plain": [
       "<matplotlib.figure.Figure at 0x112ba4b50>"
      ]
     },
     "metadata": {},
     "output_type": "display_data"
    }
   ],
   "source": [
    "\n",
    "for x in range(6):\n",
    "    cluster1 = kibera_clustered.loc[kibera_clustered['cluster'] == x]['date']\n",
    "    plt.figure(figsize=(12, 12))\n",
    "    cluster1_c = pd.Series.value_counts(cluster1)\n",
    "    calmap.yearplot(cluster1_c, year=2016)\n",
    "    plt.show()"
   ]
  },
  {
   "cell_type": "code",
   "execution_count": 143,
   "metadata": {},
   "outputs": [
    {
     "data": {
      "text/html": [
       "<div>\n",
       "<style>\n",
       "    .dataframe thead tr:only-child th {\n",
       "        text-align: right;\n",
       "    }\n",
       "\n",
       "    .dataframe thead th {\n",
       "        text-align: left;\n",
       "    }\n",
       "\n",
       "    .dataframe tbody tr th {\n",
       "        vertical-align: top;\n",
       "    }\n",
       "</style>\n",
       "<table border=\"1\" class=\"dataframe\">\n",
       "  <thead>\n",
       "    <tr style=\"text-align: right;\">\n",
       "      <th></th>\n",
       "      <th>date</th>\n",
       "      <th>time</th>\n",
       "      <th>dt</th>\n",
       "      <th>no2</th>\n",
       "      <th>o3</th>\n",
       "      <th>no</th>\n",
       "      <th>so2</th>\n",
       "      <th>temp</th>\n",
       "      <th>humidity</th>\n",
       "      <th>pm1</th>\n",
       "      <th>...</th>\n",
       "      <th>bin7</th>\n",
       "      <th>bin8</th>\n",
       "      <th>bin9</th>\n",
       "      <th>bin10</th>\n",
       "      <th>bin11</th>\n",
       "      <th>bin12</th>\n",
       "      <th>bin13</th>\n",
       "      <th>bin14</th>\n",
       "      <th>bin15</th>\n",
       "      <th>cluster</th>\n",
       "    </tr>\n",
       "  </thead>\n",
       "  <tbody>\n",
       "    <tr>\n",
       "      <th>7121</th>\n",
       "      <td>2016-06-05</td>\n",
       "      <td>00:04:25</td>\n",
       "      <td>06/05/16 02:04:25</td>\n",
       "      <td>-2</td>\n",
       "      <td>0</td>\n",
       "      <td>-468</td>\n",
       "      <td>-6</td>\n",
       "      <td>19.57</td>\n",
       "      <td>85.09</td>\n",
       "      <td>4.11</td>\n",
       "      <td>...</td>\n",
       "      <td>4.0</td>\n",
       "      <td>1.0</td>\n",
       "      <td>0.0</td>\n",
       "      <td>0.0</td>\n",
       "      <td>0.0</td>\n",
       "      <td>0.0</td>\n",
       "      <td>0.0</td>\n",
       "      <td>0.0</td>\n",
       "      <td>0.0</td>\n",
       "      <td>0.0</td>\n",
       "    </tr>\n",
       "    <tr>\n",
       "      <th>7122</th>\n",
       "      <td>2016-06-05</td>\n",
       "      <td>00:05:25</td>\n",
       "      <td>06/05/16 02:05:25</td>\n",
       "      <td>-2</td>\n",
       "      <td>0</td>\n",
       "      <td>-17</td>\n",
       "      <td>-37</td>\n",
       "      <td>19.55</td>\n",
       "      <td>85.86</td>\n",
       "      <td>4.21</td>\n",
       "      <td>...</td>\n",
       "      <td>0.0</td>\n",
       "      <td>1.0</td>\n",
       "      <td>0.0</td>\n",
       "      <td>0.0</td>\n",
       "      <td>0.0</td>\n",
       "      <td>0.0</td>\n",
       "      <td>0.0</td>\n",
       "      <td>0.0</td>\n",
       "      <td>0.0</td>\n",
       "      <td>0.0</td>\n",
       "    </tr>\n",
       "    <tr>\n",
       "      <th>7123</th>\n",
       "      <td>2016-06-05</td>\n",
       "      <td>00:06:25</td>\n",
       "      <td>06/05/16 02:06:25</td>\n",
       "      <td>-1</td>\n",
       "      <td>0</td>\n",
       "      <td>-17</td>\n",
       "      <td>-38</td>\n",
       "      <td>19.55</td>\n",
       "      <td>86.07</td>\n",
       "      <td>4.24</td>\n",
       "      <td>...</td>\n",
       "      <td>2.0</td>\n",
       "      <td>0.0</td>\n",
       "      <td>0.0</td>\n",
       "      <td>0.0</td>\n",
       "      <td>0.0</td>\n",
       "      <td>0.0</td>\n",
       "      <td>0.0</td>\n",
       "      <td>0.0</td>\n",
       "      <td>0.0</td>\n",
       "      <td>0.0</td>\n",
       "    </tr>\n",
       "    <tr>\n",
       "      <th>7124</th>\n",
       "      <td>2016-06-05</td>\n",
       "      <td>00:07:25</td>\n",
       "      <td>06/05/16 02:07:25</td>\n",
       "      <td>-1</td>\n",
       "      <td>0</td>\n",
       "      <td>-17</td>\n",
       "      <td>-40</td>\n",
       "      <td>19.54</td>\n",
       "      <td>85.40</td>\n",
       "      <td>4.93</td>\n",
       "      <td>...</td>\n",
       "      <td>1.0</td>\n",
       "      <td>0.0</td>\n",
       "      <td>0.0</td>\n",
       "      <td>0.0</td>\n",
       "      <td>0.0</td>\n",
       "      <td>0.0</td>\n",
       "      <td>0.0</td>\n",
       "      <td>0.0</td>\n",
       "      <td>0.0</td>\n",
       "      <td>0.0</td>\n",
       "    </tr>\n",
       "    <tr>\n",
       "      <th>7125</th>\n",
       "      <td>2016-06-05</td>\n",
       "      <td>00:08:25</td>\n",
       "      <td>06/05/16 02:08:25</td>\n",
       "      <td>-2</td>\n",
       "      <td>0</td>\n",
       "      <td>-16</td>\n",
       "      <td>-38</td>\n",
       "      <td>19.54</td>\n",
       "      <td>86.28</td>\n",
       "      <td>3.91</td>\n",
       "      <td>...</td>\n",
       "      <td>1.0</td>\n",
       "      <td>1.0</td>\n",
       "      <td>0.0</td>\n",
       "      <td>0.0</td>\n",
       "      <td>0.0</td>\n",
       "      <td>0.0</td>\n",
       "      <td>0.0</td>\n",
       "      <td>0.0</td>\n",
       "      <td>0.0</td>\n",
       "      <td>0.0</td>\n",
       "    </tr>\n",
       "  </tbody>\n",
       "</table>\n",
       "<p>5 rows × 30 columns</p>\n",
       "</div>"
      ],
      "text/plain": [
       "           date      time                 dt  no2  o3   no  so2   temp  \\\n",
       "7121 2016-06-05  00:04:25  06/05/16 02:04:25   -2   0 -468   -6  19.57   \n",
       "7122 2016-06-05  00:05:25  06/05/16 02:05:25   -2   0  -17  -37  19.55   \n",
       "7123 2016-06-05  00:06:25  06/05/16 02:06:25   -1   0  -17  -38  19.55   \n",
       "7124 2016-06-05  00:07:25  06/05/16 02:07:25   -1   0  -17  -40  19.54   \n",
       "7125 2016-06-05  00:08:25  06/05/16 02:08:25   -2   0  -16  -38  19.54   \n",
       "\n",
       "      humidity   pm1   ...     bin7  bin8  bin9  bin10  bin11  bin12  bin13  \\\n",
       "7121     85.09  4.11   ...      4.0   1.0   0.0    0.0    0.0    0.0    0.0   \n",
       "7122     85.86  4.21   ...      0.0   1.0   0.0    0.0    0.0    0.0    0.0   \n",
       "7123     86.07  4.24   ...      2.0   0.0   0.0    0.0    0.0    0.0    0.0   \n",
       "7124     85.40  4.93   ...      1.0   0.0   0.0    0.0    0.0    0.0    0.0   \n",
       "7125     86.28  3.91   ...      1.0   1.0   0.0    0.0    0.0    0.0    0.0   \n",
       "\n",
       "      bin14  bin15  cluster  \n",
       "7121    0.0    0.0      0.0  \n",
       "7122    0.0    0.0      0.0  \n",
       "7123    0.0    0.0      0.0  \n",
       "7124    0.0    0.0      0.0  \n",
       "7125    0.0    0.0      0.0  \n",
       "\n",
       "[5 rows x 30 columns]"
      ]
     },
     "execution_count": 143,
     "metadata": {},
     "output_type": "execute_result"
    }
   ],
   "source": [
    "kibera_clustered.head()"
   ]
  },
  {
   "cell_type": "code",
   "execution_count": 94,
   "metadata": {
    "scrolled": false
   },
   "outputs": [
    {
     "data": {
      "image/png": "[encoded data removed]",
      "text/plain": [
       "<matplotlib.figure.Figure at 0x1135bdb50>"
      ]
     },
     "metadata": {},
     "output_type": "display_data"
    }
   ],
   "source": [
    "plt.figure(figsize=(12, 12))\n",
    "X = kibera_np\n",
    "\n",
    "X_filter = X[:4000] \n",
    "X_filter2 = X[365485:368485]\n",
    "\n",
    "plt.scatter(X_filter[:, 0], X_filter[:, 3], c=y_pred[:4000])\n",
    "plt.scatter(X_filter2[:, 0], X_filter2[:, 3], c=y_pred[365485:368485])\n",
    "plt.title(\"test1\")\n",
    "plt.show()"
   ]
  },
  {
   "cell_type": "code",
   "execution_count": 60,
   "metadata": {},
   "outputs": [
    {
     "data": {
      "text/plain": [
       "368485"
      ]
     },
     "execution_count": 60,
     "metadata": {},
     "output_type": "execute_result"
    }
   ],
   "source": [
    "X.shape[0]"
   ]
  },
  {
   "cell_type": "code",
   "execution_count": 49,
   "metadata": {},
   "outputs": [
    {
     "data": {
      "text/plain": [
       "[(0, 288118), (1, 1), (2, 11090), (3, 67893), (4, 1383)]"
      ]
     },
     "execution_count": 49,
     "metadata": {},
     "output_type": "execute_result"
    }
   ],
   "source": [
    "from collections import Counter\n",
    "count = Counter(y_pred)\n",
    "count.items()"
   ]
  },
  {
   "cell_type": "code",
   "execution_count": null,
   "metadata": {
    "collapsed": true
   },
   "outputs": [],
   "source": [
    "possible ways to compare them\n",
    "#print(\"Homogeneity: %0.3f\" % metrics.homogeneity_score(labels_true, labels))\n",
    "    #print(\"Completeness: %0.3f\" % metrics.completeness_score(labels_true, labels))\n",
    "    #print(\"V-measure: %0.3f\" % metrics.v_measure_score(labels_true, labels))\n",
    "    "
   ]
  },
  {
   "cell_type": "code",
   "execution_count": null,
   "metadata": {
    "collapsed": true
   },
   "outputs": [],
   "source": []
  },
  {
   "cell_type": "code",
   "execution_count": null,
   "metadata": {
    "collapsed": true
   },
   "outputs": [],
   "source": []
  }
 ],
 "metadata": {
  "kernelspec": {
   "display_name": "Python 2",
   "language": "python",
   "name": "python2"
  },
  "language_info": {
   "codemirror_mode": {
    "name": "ipython",
    "version": 2
   },
   "file_extension": ".py",
   "mimetype": "text/x-python",
   "name": "python",
   "nbconvert_exporter": "python",
   "pygments_lexer": "ipython2",
   "version": "2.7.13"
  }
 },
 "nbformat": 4,
 "nbformat_minor": 2
}
