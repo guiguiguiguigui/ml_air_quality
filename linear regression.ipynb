{
 "cells": [
  {
   "cell_type": "code",
   "execution_count": 1,
   "metadata": {
    "collapsed": true
   },
   "outputs": [],
   "source": [
    "import pandas as pd\n",
    "from sklearn.cluster import KMeans,SpectralClustering,DBSCAN\n",
    "import numpy as np\n",
    "import matplotlib.pyplot as plt\n",
    "from collections import Counter\n",
    "import calmap\n",
    "from sklearn import metrics\n",
    "from sklearn.preprocessing import StandardScaler\n",
    "from sklearn import linear_model"
   ]
  },
  {
   "cell_type": "code",
   "execution_count": 6,
   "metadata": {
    "collapsed": true
   },
   "outputs": [],
   "source": [
    "from sklearn.model_selection import cross_val_score"
   ]
  },
  {
   "cell_type": "code",
   "execution_count": 5,
   "metadata": {
    "collapsed": true
   },
   "outputs": [],
   "source": [
    "def make_dataframe(f):\n",
    "    df = pd.read_csv(f)\n",
    "    print(\"imported file. converting datetime\")\n",
    "    if 'time' in df.columns.values:\n",
    "        df['dt'] = pd.to_datetime(df['date'] + ' ' + df['time'], dayfirst=True)\n",
    "    else:\n",
    "        df['dt'] = pd.to_datetime(df['d'] + ' ' + df['t'],dayfirst=True)\n",
    "    df['dt'] = df['dt'].dt.round('min')\n",
    "    return df"
   ]
  },
  {
   "cell_type": "code",
   "execution_count": 7,
   "metadata": {
    "collapsed": true
   },
   "outputs": [],
   "source": [
    "f = \"data/alliance_sub.csv\""
   ]
  },
  {
   "cell_type": "code",
   "execution_count": 8,
   "metadata": {},
   "outputs": [
    {
     "name": "stdout",
     "output_type": "stream",
     "text": [
      "imported file. converting datetime\n"
     ]
    }
   ],
   "source": [
    "df = make_dataframe(f)"
   ]
  },
  {
   "cell_type": "code",
   "execution_count": 9,
   "metadata": {
    "scrolled": true
   },
   "outputs": [
    {
     "data": {
      "text/plain": [
       "array(['Unnamed: 0', 'd', 't', 'date', 'o3', 'no2', 'no', 'so2', 'temp',\n",
       "       'humidity', 'pm1', 'pm25', 'pm10', 'bin0', 'bin1', 'bin2', 'bin3',\n",
       "       'bin4', 'bin5', 'bin6', 'bin7', 'bin8', 'bin9', 'bin10', 'bin11',\n",
       "       'bin12', 'bin13', 'bin14', 'bin15', 'd0', 'd1', 'd2', 'd3', 'd4',\n",
       "       'd5', 'd6', 'd7', 'd8', 'd9', 'd10', 'd11', 'd12', 'd13', 'd14',\n",
       "       'd15', 'dt'], dtype=object)"
      ]
     },
     "execution_count": 9,
     "metadata": {},
     "output_type": "execute_result"
    }
   ],
   "source": [
    "df.columns.values"
   ]
  },
  {
   "cell_type": "code",
   "execution_count": 11,
   "metadata": {},
   "outputs": [
    {
     "ename": "SyntaxError",
     "evalue": "invalid syntax (<ipython-input-11-8b75f75bed37>, line 1)",
     "output_type": "error",
     "traceback": [
      "\u001b[0;36m  File \u001b[0;32m\"<ipython-input-11-8b75f75bed37>\"\u001b[0;36m, line \u001b[0;32m1\u001b[0m\n\u001b[0;31m    df = df.loc[df['no2']>0 && df['so2']>0 ]\u001b[0m\n\u001b[0m                             ^\u001b[0m\n\u001b[0;31mSyntaxError\u001b[0m\u001b[0;31m:\u001b[0m invalid syntax\n"
     ]
    }
   ],
   "source": [
    "df = df.loc[df['no2']>0] df.loc[df['no2']>0]"
   ]
  },
  {
   "cell_type": "code",
   "execution_count": 15,
   "metadata": {
    "collapsed": true
   },
   "outputs": [],
   "source": [
    "features = ['temp', 'humidity', 'd0', 'd1', 'd2', 'd3', 'd4','d5', 'd6', 'd7',\\\n",
    "            'd8', 'd9', 'd10', 'd11', 'd12', 'd13', 'd14', 'd15']"
   ]
  },
  {
   "cell_type": "code",
   "execution_count": 70,
   "metadata": {
    "collapsed": true
   },
   "outputs": [],
   "source": [
    "X = df[features].as_matrix()"
   ]
  },
  {
   "cell_type": "code",
   "execution_count": 18,
   "metadata": {
    "collapsed": true
   },
   "outputs": [],
   "source": [
    "y_so2 = df['so2'].as_matrix()"
   ]
  },
  {
   "cell_type": "code",
   "execution_count": 55,
   "metadata": {},
   "outputs": [
    {
     "name": "stdout",
     "output_type": "stream",
     "text": [
      "[(-2.5819914297342952, -683.4708820565744), (0.12086042356925586, -104.25965307320099), (0.39090259357203982, -61.354333696517116), (0.060644583144931374, -98.795618537854494), (-0.022937406044141406, -101.7890162908417), (-0.30203663986632123, -112.6940783990178), (0.0021330337410632172, -106.75743788463599), (-0.39726289802023262, -115.30223336927685), (-0.14135985361925085, -80.858776136052143), (0.0377221598355858, -87.036551618958583)]\n"
     ]
    }
   ],
   "source": [
    "lr = linear_model.LinearRegression()\n",
    "cv1 = cross_val_score(lr, X, y_so2, scoring = \"r2\", cv=10)\n",
    "cv2 = cross_val_score(lr, X, y_so2, scoring = \"neg_mean_squared_error\", cv=10)\n",
    "print zip(cv1,cv2)\n"
   ]
  },
  {
   "cell_type": "code",
   "execution_count": 52,
   "metadata": {},
   "outputs": [
    {
     "name": "stdout",
     "output_type": "stream",
     "text": [
      "[(-2.5819914938121551, -683.47089428311165), (0.12086042140024689, -104.25965333042993), (0.39090259031819263, -61.354334024276888), (0.060644576707189257, -98.795619214936565), (-0.022937427613607397, -101.78901843714578), (-0.30203661934053527, -112.69407662246678), (0.0021330665980615615, -106.75743436940893), (-0.39726282632767629, -115.30222745320199), (-0.14135977883977402, -80.858770838356634), (0.037722210746802043, -87.036547014117318)]\n"
     ]
    }
   ],
   "source": [
    "ridge = linear_model.Ridge(alpha = 0.1)\n",
    "cv1 = cross_val_score(ridge, X, y_so2, scoring = \"r2\", cv=10)\n",
    "cv2 = cross_val_score(ridge, X, y_so2, scoring = \"neg_mean_squared_error\", cv=10)\n",
    "\n",
    "print zip(cv1,cv2)\n"
   ]
  },
  {
   "cell_type": "code",
   "execution_count": 71,
   "metadata": {
    "collapsed": true
   },
   "outputs": [],
   "source": [
    "y_no = df['no2'].as_matrix()"
   ]
  },
  {
   "cell_type": "code",
   "execution_count": 73,
   "metadata": {},
   "outputs": [
    {
     "name": "stdout",
     "output_type": "stream",
     "text": [
      "[(-0.14003139523854835, -35.058931924355925), (0.14181860232014354, -33.103380863368038), (0.24761756202115437, -24.870476853084764), (0.22116967594936787, -23.709674031242479), (0.11351612662694832, -27.892138012861356), (-0.049029842323369488, -23.970306755263564), (-0.025736560049259838, -23.609575227507992), (-0.022047502439754174, -30.238700571457166), (-0.10371830086142309, -47.379996274825437), (0.076670062481685286, -18.072286619299522)]\n"
     ]
    }
   ],
   "source": [
    "cv1 = cross_val_score(lr, X, y_no, scoring = \"r2\", cv=10)\n",
    "cv2 = cross_val_score(lr, X, y_no, scoring = \"neg_mean_squared_error\", cv=10)\n",
    "\n",
    "print zip(cv1,cv2)\n"
   ]
  },
  {
   "cell_type": "code",
   "execution_count": 61,
   "metadata": {
    "collapsed": true
   },
   "outputs": [],
   "source": [
    "from sklearn.neural_network import MLPRegressor\n",
    "mlp = MLPRegressor(hidden_layer_sizes=(100,50,))"
   ]
  },
  {
   "cell_type": "code",
   "execution_count": null,
   "metadata": {
    "collapsed": true
   },
   "outputs": [],
   "source": [
    "\n",
    "cv2 = cross_val_score(mlp, X, y_no, scoring = \"neg_mean_squared_error\", cv=10)\n",
    "\n",
    "print cv2\n"
   ]
  }
 ],
 "metadata": {
  "kernelspec": {
   "display_name": "Python 2",
   "language": "python",
   "name": "python2"
  },
  "language_info": {
   "codemirror_mode": {
    "name": "ipython",
    "version": 2
   },
   "file_extension": ".py",
   "mimetype": "text/x-python",
   "name": "python",
   "nbconvert_exporter": "python",
   "pygments_lexer": "ipython2",
   "version": "2.7.13"
  }
 },
 "nbformat": 4,
 "nbformat_minor": 2
}
